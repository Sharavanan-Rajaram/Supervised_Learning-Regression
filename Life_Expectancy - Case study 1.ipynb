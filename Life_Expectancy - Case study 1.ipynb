{
 "cells": [
  {
   "cell_type": "markdown",
   "metadata": {},
   "source": [
    "<table align=\"center\" width=100%>\n",
    "    <tr>\n",
    "        <td width=\"15%\">\n",
    "            <img src=\"in_class.png\">\n",
    "        </td>\n",
    "        <td>\n",
    "            <div align=\"center\">\n",
    "                <font color=\"#21618C\" size=8px>\n",
    "                    <b> Inclass - Lab <br>(Day 1)\n",
    "                    </b>\n",
    "                </font>\n",
    "            </div>\n",
    "        </td>\n",
    "    </tr>\n",
    "</table>"
   ]
  },
  {
   "cell_type": "markdown",
   "metadata": {},
   "source": [
    "### About the data set 1 (Life Expectancy data)\n",
    "\n",
    "The dataset contains information about several health and economic factors that contribute to average life expectancy for different countries. <br> Attribute information: \n",
    "\n",
    "**Country:** Name of the country\n",
    "\n",
    "**Status:** Whether the country is Developed or Developing\n",
    "\n",
    "**Adult_Mortality:** Mortality rate for age group 15-60 out of every 1000 individuals of the population\n",
    "\n",
    "**Infant_Deaths:** Number of infant deaths per 1000 population\n",
    "\n",
    "**Hepatitis:** Hepatitis B (HepB) immunization coverage for 1 year olds (Percentage)\n",
    "\n",
    "**Measles:** Number of reported cases for measles per 1000 from population\n",
    "\n",
    "**BMI:** Average Body Mass Index for entire population\n",
    "\n",
    "**Underfive_Deaths:** Number of deaths under 5 years of age per 1000 population\n",
    "\n",
    "**Polio:** Polio (Pol3) immunization coverage for 1 year olds (Percentage)\n",
    "\n",
    "**Diphtheria:** Diphtheria tetanus toxoid and pertussis (DTP3) immunization coverage for 1 year olds (Percentage)\n",
    "\n",
    "**HIV:** Deaths per 1000 live births due to HIV/AIDS (0-4 years)\n",
    "\n",
    "**GDP:** Gross Domestic Product per capita (in USD)\n",
    "\n",
    "**Population:** Population of the country\n",
    "\n",
    "**Malnourished10_19:** Prevalence of malnutrition among children and adolescents for Age 10 to 19 (Percentage)\n",
    "\n",
    "**Malnourished5_9:** Prevalence of malnutrition among children for Age 5 to 9 (Percentage)\n",
    "\n",
    "**Income_Index:** Human Development Index (HDI) in terms of national income per capita (index ranging from 0 to 1)\n",
    "\n",
    "**Schooling:** Number of years of Schooling\n",
    "\n",
    "**Life_Expectancy:** Life Expectancy in age for the country\n",
    "\n",
    "\n",
    "\n"
   ]
  },
  {
   "cell_type": "markdown",
   "metadata": {},
   "source": [
    "## Table of Content\n",
    "\n",
    "1. **[Bivariate Regression](#Bivariate)**\n",
    "2. **[Multiple Linear Regression (MLR)](#MLR)**\n",
    "3. **[Inferences about slope](#ins)**\n",
    "4. **[Model Evaluation](#ML_eval)**\n",
    "5. **[Assumptions of Linear Regression](#assum)**\n",
    "6. **[Model Performance](#ml_perf)**"
   ]
  },
  {
   "cell_type": "markdown",
   "metadata": {},
   "source": [
    "**Import the required libraries**"
   ]
  },
  {
   "cell_type": "code",
   "execution_count": 1,
   "metadata": {},
   "outputs": [],
   "source": [
    "# type your code here\n",
    "import numpy as np\n",
    "import pandas as pd\n",
    "import statsmodels.api as sm\n",
    "import seaborn as sns\n",
    "import matplotlib.pyplot as plt"
   ]
  },
  {
   "cell_type": "markdown",
   "metadata": {},
   "source": [
    "#### Load the first dataset and check the first five observations\n",
    "\n",
    "Load the csv file and set the first column as index"
   ]
  },
  {
   "cell_type": "code",
   "execution_count": 29,
   "metadata": {},
   "outputs": [
    {
     "data": {
      "text/html": [
       "<div>\n",
       "<style scoped>\n",
       "    .dataframe tbody tr th:only-of-type {\n",
       "        vertical-align: middle;\n",
       "    }\n",
       "\n",
       "    .dataframe tbody tr th {\n",
       "        vertical-align: top;\n",
       "    }\n",
       "\n",
       "    .dataframe thead th {\n",
       "        text-align: right;\n",
       "    }\n",
       "</style>\n",
       "<table border=\"1\" class=\"dataframe\">\n",
       "  <thead>\n",
       "    <tr style=\"text-align: right;\">\n",
       "      <th></th>\n",
       "      <th>Country</th>\n",
       "      <th>Status</th>\n",
       "      <th>Adult_Mortality</th>\n",
       "      <th>Infant_Deaths</th>\n",
       "      <th>Hepatitis</th>\n",
       "      <th>Measles</th>\n",
       "      <th>BMI</th>\n",
       "      <th>Underfive_Deaths</th>\n",
       "      <th>Polio</th>\n",
       "      <th>Diphtheria</th>\n",
       "      <th>HIV</th>\n",
       "      <th>GDP</th>\n",
       "      <th>Population</th>\n",
       "      <th>Malnourished10_19</th>\n",
       "      <th>Malnourished5_9</th>\n",
       "      <th>Income_Index</th>\n",
       "      <th>Schooling</th>\n",
       "      <th>Expected</th>\n",
       "    </tr>\n",
       "  </thead>\n",
       "  <tbody>\n",
       "    <tr>\n",
       "      <th>0</th>\n",
       "      <td>Afghanistan</td>\n",
       "      <td>Developing</td>\n",
       "      <td>263</td>\n",
       "      <td>62</td>\n",
       "      <td>65</td>\n",
       "      <td>1154</td>\n",
       "      <td>19.1</td>\n",
       "      <td>83</td>\n",
       "      <td>6</td>\n",
       "      <td>65</td>\n",
       "      <td>0.1</td>\n",
       "      <td>584.259210</td>\n",
       "      <td>33736494</td>\n",
       "      <td>17.2</td>\n",
       "      <td>17.3</td>\n",
       "      <td>0.479</td>\n",
       "      <td>10.1</td>\n",
       "      <td>65.0</td>\n",
       "    </tr>\n",
       "    <tr>\n",
       "      <th>1</th>\n",
       "      <td>Albania</td>\n",
       "      <td>Developing</td>\n",
       "      <td>8</td>\n",
       "      <td>0</td>\n",
       "      <td>98</td>\n",
       "      <td>0</td>\n",
       "      <td>57.2</td>\n",
       "      <td>1</td>\n",
       "      <td>98</td>\n",
       "      <td>98</td>\n",
       "      <td>0.1</td>\n",
       "      <td>4575.763787</td>\n",
       "      <td>288914</td>\n",
       "      <td>1.2</td>\n",
       "      <td>1.3</td>\n",
       "      <td>0.761</td>\n",
       "      <td>14.2</td>\n",
       "      <td>77.5</td>\n",
       "    </tr>\n",
       "    <tr>\n",
       "      <th>2</th>\n",
       "      <td>Algeria</td>\n",
       "      <td>Developing</td>\n",
       "      <td>19</td>\n",
       "      <td>21</td>\n",
       "      <td>95</td>\n",
       "      <td>63</td>\n",
       "      <td>59.5</td>\n",
       "      <td>24</td>\n",
       "      <td>95</td>\n",
       "      <td>95</td>\n",
       "      <td>0.1</td>\n",
       "      <td>4132.762920</td>\n",
       "      <td>39871528</td>\n",
       "      <td>6.0</td>\n",
       "      <td>5.8</td>\n",
       "      <td>0.743</td>\n",
       "      <td>14.4</td>\n",
       "      <td>75.6</td>\n",
       "    </tr>\n",
       "    <tr>\n",
       "      <th>3</th>\n",
       "      <td>Angola</td>\n",
       "      <td>Developing</td>\n",
       "      <td>335</td>\n",
       "      <td>66</td>\n",
       "      <td>64</td>\n",
       "      <td>118</td>\n",
       "      <td>23.3</td>\n",
       "      <td>98</td>\n",
       "      <td>7</td>\n",
       "      <td>64</td>\n",
       "      <td>1.9</td>\n",
       "      <td>3695.793748</td>\n",
       "      <td>2785935</td>\n",
       "      <td>8.3</td>\n",
       "      <td>8.2</td>\n",
       "      <td>0.531</td>\n",
       "      <td>11.4</td>\n",
       "      <td>52.4</td>\n",
       "    </tr>\n",
       "    <tr>\n",
       "      <th>4</th>\n",
       "      <td>Argentina</td>\n",
       "      <td>Developing</td>\n",
       "      <td>116</td>\n",
       "      <td>8</td>\n",
       "      <td>94</td>\n",
       "      <td>0</td>\n",
       "      <td>62.8</td>\n",
       "      <td>9</td>\n",
       "      <td>93</td>\n",
       "      <td>94</td>\n",
       "      <td>0.1</td>\n",
       "      <td>13467.123600</td>\n",
       "      <td>43417765</td>\n",
       "      <td>1.0</td>\n",
       "      <td>0.9</td>\n",
       "      <td>0.826</td>\n",
       "      <td>17.3</td>\n",
       "      <td>76.3</td>\n",
       "    </tr>\n",
       "    <tr>\n",
       "      <th>...</th>\n",
       "      <td>...</td>\n",
       "      <td>...</td>\n",
       "      <td>...</td>\n",
       "      <td>...</td>\n",
       "      <td>...</td>\n",
       "      <td>...</td>\n",
       "      <td>...</td>\n",
       "      <td>...</td>\n",
       "      <td>...</td>\n",
       "      <td>...</td>\n",
       "      <td>...</td>\n",
       "      <td>...</td>\n",
       "      <td>...</td>\n",
       "      <td>...</td>\n",
       "      <td>...</td>\n",
       "      <td>...</td>\n",
       "      <td>...</td>\n",
       "      <td>...</td>\n",
       "    </tr>\n",
       "    <tr>\n",
       "      <th>119</th>\n",
       "      <td>Venezuela</td>\n",
       "      <td>Developing</td>\n",
       "      <td>37</td>\n",
       "      <td>24</td>\n",
       "      <td>95</td>\n",
       "      <td>129</td>\n",
       "      <td>15.4</td>\n",
       "      <td>38</td>\n",
       "      <td>95</td>\n",
       "      <td>95</td>\n",
       "      <td>7.1</td>\n",
       "      <td>287.931877</td>\n",
       "      <td>8991735</td>\n",
       "      <td>6.8</td>\n",
       "      <td>7.0</td>\n",
       "      <td>0.388</td>\n",
       "      <td>8.8</td>\n",
       "      <td>55.3</td>\n",
       "    </tr>\n",
       "    <tr>\n",
       "      <th>120</th>\n",
       "      <td>Viet Nam</td>\n",
       "      <td>Developing</td>\n",
       "      <td>397</td>\n",
       "      <td>26</td>\n",
       "      <td>89</td>\n",
       "      <td>386</td>\n",
       "      <td>14.9</td>\n",
       "      <td>42</td>\n",
       "      <td>89</td>\n",
       "      <td>89</td>\n",
       "      <td>7.7</td>\n",
       "      <td>236.911438</td>\n",
       "      <td>8818438</td>\n",
       "      <td>6.9</td>\n",
       "      <td>7.1</td>\n",
       "      <td>0.371</td>\n",
       "      <td>8.2</td>\n",
       "      <td>53.4</td>\n",
       "    </tr>\n",
       "    <tr>\n",
       "      <th>121</th>\n",
       "      <td>Yemen</td>\n",
       "      <td>Developing</td>\n",
       "      <td>48</td>\n",
       "      <td>29</td>\n",
       "      <td>96</td>\n",
       "      <td>1064</td>\n",
       "      <td>14.5</td>\n",
       "      <td>46</td>\n",
       "      <td>96</td>\n",
       "      <td>96</td>\n",
       "      <td>8.1</td>\n",
       "      <td>212.661949</td>\n",
       "      <td>868346</td>\n",
       "      <td>7.0</td>\n",
       "      <td>7.3</td>\n",
       "      <td>0.359</td>\n",
       "      <td>7.6</td>\n",
       "      <td>52.0</td>\n",
       "    </tr>\n",
       "    <tr>\n",
       "      <th>122</th>\n",
       "      <td>Zambia</td>\n",
       "      <td>Developing</td>\n",
       "      <td>415</td>\n",
       "      <td>31</td>\n",
       "      <td>88</td>\n",
       "      <td>2738</td>\n",
       "      <td>14.1</td>\n",
       "      <td>50</td>\n",
       "      <td>85</td>\n",
       "      <td>88</td>\n",
       "      <td>8.0</td>\n",
       "      <td>196.597780</td>\n",
       "      <td>853625</td>\n",
       "      <td>7.2</td>\n",
       "      <td>7.4</td>\n",
       "      <td>0.343</td>\n",
       "      <td>7.2</td>\n",
       "      <td>57.0</td>\n",
       "    </tr>\n",
       "    <tr>\n",
       "      <th>123</th>\n",
       "      <td>Zimbabwe</td>\n",
       "      <td>Developing</td>\n",
       "      <td>438</td>\n",
       "      <td>33</td>\n",
       "      <td>85</td>\n",
       "      <td>896</td>\n",
       "      <td>13.7</td>\n",
       "      <td>54</td>\n",
       "      <td>76</td>\n",
       "      <td>77</td>\n",
       "      <td>8.1</td>\n",
       "      <td>21.569654</td>\n",
       "      <td>832946</td>\n",
       "      <td>7.4</td>\n",
       "      <td>7.5</td>\n",
       "      <td>0.332</td>\n",
       "      <td>7.1</td>\n",
       "      <td>48.6</td>\n",
       "    </tr>\n",
       "  </tbody>\n",
       "</table>\n",
       "<p>124 rows × 18 columns</p>\n",
       "</div>"
      ],
      "text/plain": [
       "         Country      Status  Adult_Mortality  Infant_Deaths  Hepatitis   \\\n",
       "0    Afghanistan  Developing              263             62          65   \n",
       "1        Albania  Developing                8              0          98   \n",
       "2        Algeria  Developing               19             21          95   \n",
       "3         Angola  Developing              335             66          64   \n",
       "4      Argentina  Developing              116              8          94   \n",
       "..           ...         ...              ...            ...         ...   \n",
       "119    Venezuela  Developing               37             24          95   \n",
       "120     Viet Nam  Developing              397             26          89   \n",
       "121        Yemen  Developing               48             29          96   \n",
       "122       Zambia  Developing              415             31          88   \n",
       "123     Zimbabwe  Developing              438             33          85   \n",
       "\n",
       "     Measles    BMI   Underfive_Deaths   Polio  Diphtheria    HIV  \\\n",
       "0        1154   19.1                 83      6           65   0.1   \n",
       "1           0   57.2                  1     98           98   0.1   \n",
       "2          63   59.5                 24     95           95   0.1   \n",
       "3         118   23.3                 98      7           64   1.9   \n",
       "4           0   62.8                  9     93           94   0.1   \n",
       "..        ...    ...                ...    ...          ...   ...   \n",
       "119       129   15.4                 38     95           95   7.1   \n",
       "120       386   14.9                 42     89           89   7.7   \n",
       "121      1064   14.5                 46     96           96   8.1   \n",
       "122      2738   14.1                 50     85           88   8.0   \n",
       "123       896   13.7                 54     76           77   8.1   \n",
       "\n",
       "              GDP  Population  Malnourished10_19   Malnourished5_9  \\\n",
       "0      584.259210    33736494                17.2             17.3   \n",
       "1     4575.763787      288914                 1.2              1.3   \n",
       "2     4132.762920    39871528                 6.0              5.8   \n",
       "3     3695.793748     2785935                 8.3              8.2   \n",
       "4    13467.123600    43417765                 1.0              0.9   \n",
       "..            ...         ...                 ...              ...   \n",
       "119    287.931877     8991735                 6.8              7.0   \n",
       "120    236.911438     8818438                 6.9              7.1   \n",
       "121    212.661949      868346                 7.0              7.3   \n",
       "122    196.597780      853625                 7.2              7.4   \n",
       "123     21.569654      832946                 7.4              7.5   \n",
       "\n",
       "     Income_Index  Schooling  Expected  \n",
       "0           0.479       10.1      65.0  \n",
       "1           0.761       14.2      77.5  \n",
       "2           0.743       14.4      75.6  \n",
       "3           0.531       11.4      52.4  \n",
       "4           0.826       17.3      76.3  \n",
       "..            ...        ...       ...  \n",
       "119         0.388        8.8      55.3  \n",
       "120         0.371        8.2      53.4  \n",
       "121         0.359        7.6      52.0  \n",
       "122         0.343        7.2      57.0  \n",
       "123         0.332        7.1      48.6  \n",
       "\n",
       "[124 rows x 18 columns]"
      ]
     },
     "execution_count": 29,
     "metadata": {},
     "output_type": "execute_result"
    }
   ],
   "source": [
    "# load the csv file\n",
    "data=pd.read_csv('Life_Expectancy.csv')\n",
    "data\n",
    "# type your code here"
   ]
  },
  {
   "cell_type": "code",
   "execution_count": 30,
   "metadata": {},
   "outputs": [
    {
     "data": {
      "text/plain": [
       "Country               0\n",
       "Status                0\n",
       "Adult_Mortality       0\n",
       "Infant_Deaths         0\n",
       "Hepatitis             0\n",
       "Measles               0\n",
       " BMI                  0\n",
       "Underfive_Deaths      0\n",
       "Polio                 0\n",
       "Diphtheria            0\n",
       " HIV                  0\n",
       "GDP                   0\n",
       "Population            0\n",
       "Malnourished10_19     0\n",
       "Malnourished5_9       0\n",
       "Income_Index          0\n",
       "Schooling             0\n",
       "Expected              0\n",
       "dtype: int64"
      ]
     },
     "execution_count": 30,
     "metadata": {},
     "output_type": "execute_result"
    }
   ],
   "source": [
    "data.isna().sum()"
   ]
  },
  {
   "cell_type": "code",
   "execution_count": 31,
   "metadata": {},
   "outputs": [],
   "source": [
    "data.columns=data.columns.str.replace(' ','')"
   ]
  },
  {
   "cell_type": "code",
   "execution_count": 32,
   "metadata": {},
   "outputs": [
    {
     "data": {
      "text/plain": [
       "Index(['Country', 'Status', 'Adult_Mortality', 'Infant_Deaths', 'Hepatitis',\n",
       "       'Measles', 'BMI', 'Underfive_Deaths', 'Polio', 'Diphtheria', 'HIV',\n",
       "       'GDP', 'Population', 'Malnourished10_19', 'Malnourished5_9',\n",
       "       'Income_Index', 'Schooling', 'Expected'],\n",
       "      dtype='object')"
      ]
     },
     "execution_count": 32,
     "metadata": {},
     "output_type": "execute_result"
    }
   ],
   "source": [
    "data.columns"
   ]
  },
  {
   "cell_type": "markdown",
   "metadata": {},
   "source": [
    "### Let's begin with some hands-on practice exercises"
   ]
  },
  {
   "cell_type": "markdown",
   "metadata": {},
   "source": [
    "<a id=\"Bivariate\"> </a>\n",
    "## 1. Bivariate Regression"
   ]
  },
  {
   "cell_type": "markdown",
   "metadata": {},
   "source": [
    "## We shall use the life expectancy dataset"
   ]
  },
  {
   "cell_type": "markdown",
   "metadata": {
    "collapsed": true
   },
   "source": [
    "<table align=\"left\">\n",
    "    <tr>\n",
    "        <td width=\"6%\">\n",
    "            <img src=\"question_icon.png\">\n",
    "        </td>\n",
    "        <td>\n",
    "            <div align=\"left\", style=\"font-size:120%\">\n",
    "                <font color=\"#21618C\">\n",
    "                    <b>1. How do we analyze the impact of adult mortality rate on average life expectancy of a country?</b>\n",
    "                </font>\n",
    "            </div>\n",
    "        </td>\n",
    "    </tr>\n",
    "</table>"
   ]
  },
  {
   "cell_type": "code",
   "execution_count": 3,
   "metadata": {},
   "outputs": [],
   "source": [
    "# type your code here"
   ]
  },
  {
   "cell_type": "code",
   "execution_count": 49,
   "metadata": {},
   "outputs": [],
   "source": [
    "x=data['Adult_Mortality']\n",
    "y=data['Expected']"
   ]
  },
  {
   "cell_type": "code",
   "execution_count": 50,
   "metadata": {},
   "outputs": [
    {
     "data": {
      "image/png": "[encoded data removed]",
      "text/plain": [
       "<Figure size 432x288 with 1 Axes>"
      ]
     },
     "metadata": {
      "needs_background": "light"
     },
     "output_type": "display_data"
    }
   ],
   "source": [
    "sns.scatterplot(x,y)\n",
    "plt.show()"
   ]
  },
  {
   "cell_type": "code",
   "execution_count": 51,
   "metadata": {},
   "outputs": [
    {
     "data": {
      "text/html": [
       "<div>\n",
       "<style scoped>\n",
       "    .dataframe tbody tr th:only-of-type {\n",
       "        vertical-align: middle;\n",
       "    }\n",
       "\n",
       "    .dataframe tbody tr th {\n",
       "        vertical-align: top;\n",
       "    }\n",
       "\n",
       "    .dataframe thead th {\n",
       "        text-align: right;\n",
       "    }\n",
       "</style>\n",
       "<table border=\"1\" class=\"dataframe\">\n",
       "  <thead>\n",
       "    <tr style=\"text-align: right;\">\n",
       "      <th></th>\n",
       "      <th>Adult_Mortality</th>\n",
       "      <th>Expected</th>\n",
       "    </tr>\n",
       "  </thead>\n",
       "  <tbody>\n",
       "    <tr>\n",
       "      <th>Adult_Mortality</th>\n",
       "      <td>1.000000</td>\n",
       "      <td>-0.710868</td>\n",
       "    </tr>\n",
       "    <tr>\n",
       "      <th>Expected</th>\n",
       "      <td>-0.710868</td>\n",
       "      <td>1.000000</td>\n",
       "    </tr>\n",
       "  </tbody>\n",
       "</table>\n",
       "</div>"
      ],
      "text/plain": [
       "                 Adult_Mortality  Expected\n",
       "Adult_Mortality         1.000000 -0.710868\n",
       "Expected               -0.710868  1.000000"
      ]
     },
     "execution_count": 51,
     "metadata": {},
     "output_type": "execute_result"
    }
   ],
   "source": [
    "data[['Adult_Mortality','Expected']].corr()"
   ]
  },
  {
   "cell_type": "code",
   "execution_count": 52,
   "metadata": {},
   "outputs": [],
   "source": [
    "import statsmodels.api as sm"
   ]
  },
  {
   "cell_type": "code",
   "execution_count": 53,
   "metadata": {},
   "outputs": [
    {
     "data": {
      "text/html": [
       "<div>\n",
       "<style scoped>\n",
       "    .dataframe tbody tr th:only-of-type {\n",
       "        vertical-align: middle;\n",
       "    }\n",
       "\n",
       "    .dataframe tbody tr th {\n",
       "        vertical-align: top;\n",
       "    }\n",
       "\n",
       "    .dataframe thead th {\n",
       "        text-align: right;\n",
       "    }\n",
       "</style>\n",
       "<table border=\"1\" class=\"dataframe\">\n",
       "  <thead>\n",
       "    <tr style=\"text-align: right;\">\n",
       "      <th></th>\n",
       "      <th>const</th>\n",
       "      <th>Adult_Mortality</th>\n",
       "    </tr>\n",
       "  </thead>\n",
       "  <tbody>\n",
       "    <tr>\n",
       "      <th>0</th>\n",
       "      <td>1.0</td>\n",
       "      <td>263</td>\n",
       "    </tr>\n",
       "    <tr>\n",
       "      <th>1</th>\n",
       "      <td>1.0</td>\n",
       "      <td>8</td>\n",
       "    </tr>\n",
       "    <tr>\n",
       "      <th>2</th>\n",
       "      <td>1.0</td>\n",
       "      <td>19</td>\n",
       "    </tr>\n",
       "    <tr>\n",
       "      <th>3</th>\n",
       "      <td>1.0</td>\n",
       "      <td>335</td>\n",
       "    </tr>\n",
       "    <tr>\n",
       "      <th>4</th>\n",
       "      <td>1.0</td>\n",
       "      <td>116</td>\n",
       "    </tr>\n",
       "    <tr>\n",
       "      <th>...</th>\n",
       "      <td>...</td>\n",
       "      <td>...</td>\n",
       "    </tr>\n",
       "    <tr>\n",
       "      <th>119</th>\n",
       "      <td>1.0</td>\n",
       "      <td>37</td>\n",
       "    </tr>\n",
       "    <tr>\n",
       "      <th>120</th>\n",
       "      <td>1.0</td>\n",
       "      <td>397</td>\n",
       "    </tr>\n",
       "    <tr>\n",
       "      <th>121</th>\n",
       "      <td>1.0</td>\n",
       "      <td>48</td>\n",
       "    </tr>\n",
       "    <tr>\n",
       "      <th>122</th>\n",
       "      <td>1.0</td>\n",
       "      <td>415</td>\n",
       "    </tr>\n",
       "    <tr>\n",
       "      <th>123</th>\n",
       "      <td>1.0</td>\n",
       "      <td>438</td>\n",
       "    </tr>\n",
       "  </tbody>\n",
       "</table>\n",
       "<p>124 rows × 2 columns</p>\n",
       "</div>"
      ],
      "text/plain": [
       "     const  Adult_Mortality\n",
       "0      1.0              263\n",
       "1      1.0                8\n",
       "2      1.0               19\n",
       "3      1.0              335\n",
       "4      1.0              116\n",
       "..     ...              ...\n",
       "119    1.0               37\n",
       "120    1.0              397\n",
       "121    1.0               48\n",
       "122    1.0              415\n",
       "123    1.0              438\n",
       "\n",
       "[124 rows x 2 columns]"
      ]
     },
     "execution_count": 53,
     "metadata": {},
     "output_type": "execute_result"
    }
   ],
   "source": [
    "xc1=sm.add_constant(x)\n",
    "xc1"
   ]
  },
  {
   "cell_type": "code",
   "execution_count": 54,
   "metadata": {},
   "outputs": [
    {
     "data": {
      "text/plain": [
       "<statsmodels.regression.linear_model.RegressionResultsWrapper at 0x1a6679939c8>"
      ]
     },
     "execution_count": 54,
     "metadata": {},
     "output_type": "execute_result"
    }
   ],
   "source": [
    "ols=sm.OLS(y,xc1)\n",
    "ols_model=ols.fit()\n",
    "ols_model"
   ]
  },
  {
   "cell_type": "code",
   "execution_count": 55,
   "metadata": {},
   "outputs": [
    {
     "data": {
      "text/html": [
       "<table class=\"simpletable\">\n",
       "<caption>OLS Regression Results</caption>\n",
       "<tr>\n",
       "  <th>Dep. Variable:</th>        <td>Expected</td>     <th>  R-squared:         </th> <td>   0.505</td>\n",
       "</tr>\n",
       "<tr>\n",
       "  <th>Model:</th>                   <td>OLS</td>       <th>  Adj. R-squared:    </th> <td>   0.501</td>\n",
       "</tr>\n",
       "<tr>\n",
       "  <th>Method:</th>             <td>Least Squares</td>  <th>  F-statistic:       </th> <td>   124.6</td>\n",
       "</tr>\n",
       "<tr>\n",
       "  <th>Date:</th>             <td>Tue, 08 Dec 2020</td> <th>  Prob (F-statistic):</th> <td>2.27e-20</td>\n",
       "</tr>\n",
       "<tr>\n",
       "  <th>Time:</th>                 <td>17:01:08</td>     <th>  Log-Likelihood:    </th> <td> -396.71</td>\n",
       "</tr>\n",
       "<tr>\n",
       "  <th>No. Observations:</th>      <td>   124</td>      <th>  AIC:               </th> <td>   797.4</td>\n",
       "</tr>\n",
       "<tr>\n",
       "  <th>Df Residuals:</th>          <td>   122</td>      <th>  BIC:               </th> <td>   803.1</td>\n",
       "</tr>\n",
       "<tr>\n",
       "  <th>Df Model:</th>              <td>     1</td>      <th>                     </th>     <td> </td>   \n",
       "</tr>\n",
       "<tr>\n",
       "  <th>Covariance Type:</th>      <td>nonrobust</td>    <th>                     </th>     <td> </td>   \n",
       "</tr>\n",
       "</table>\n",
       "<table class=\"simpletable\">\n",
       "<tr>\n",
       "         <td></td>            <th>coef</th>     <th>std err</th>      <th>t</th>      <th>P>|t|</th>  <th>[0.025</th>    <th>0.975]</th>  \n",
       "</tr>\n",
       "<tr>\n",
       "  <th>const</th>           <td>   80.7106</td> <td>    1.005</td> <td>   80.272</td> <td> 0.000</td> <td>   78.720</td> <td>   82.701</td>\n",
       "</tr>\n",
       "<tr>\n",
       "  <th>Adult_Mortality</th> <td>   -0.0591</td> <td>    0.005</td> <td>  -11.164</td> <td> 0.000</td> <td>   -0.070</td> <td>   -0.049</td>\n",
       "</tr>\n",
       "</table>\n",
       "<table class=\"simpletable\">\n",
       "<tr>\n",
       "  <th>Omnibus:</th>       <td>57.611</td> <th>  Durbin-Watson:     </th> <td>   1.624</td>\n",
       "</tr>\n",
       "<tr>\n",
       "  <th>Prob(Omnibus):</th> <td> 0.000</td> <th>  Jarque-Bera (JB):  </th> <td> 160.621</td>\n",
       "</tr>\n",
       "<tr>\n",
       "  <th>Skew:</th>          <td>-1.821</td> <th>  Prob(JB):          </th> <td>1.32e-35</td>\n",
       "</tr>\n",
       "<tr>\n",
       "  <th>Kurtosis:</th>      <td> 7.222</td> <th>  Cond. No.          </th> <td>    355.</td>\n",
       "</tr>\n",
       "</table><br/><br/>Warnings:<br/>[1] Standard Errors assume that the covariance matrix of the errors is correctly specified."
      ],
      "text/plain": [
       "<class 'statsmodels.iolib.summary.Summary'>\n",
       "\"\"\"\n",
       "                            OLS Regression Results                            \n",
       "==============================================================================\n",
       "Dep. Variable:               Expected   R-squared:                       0.505\n",
       "Model:                            OLS   Adj. R-squared:                  0.501\n",
       "Method:                 Least Squares   F-statistic:                     124.6\n",
       "Date:                Tue, 08 Dec 2020   Prob (F-statistic):           2.27e-20\n",
       "Time:                        17:01:08   Log-Likelihood:                -396.71\n",
       "No. Observations:                 124   AIC:                             797.4\n",
       "Df Residuals:                     122   BIC:                             803.1\n",
       "Df Model:                           1                                         \n",
       "Covariance Type:            nonrobust                                         \n",
       "===================================================================================\n",
       "                      coef    std err          t      P>|t|      [0.025      0.975]\n",
       "-----------------------------------------------------------------------------------\n",
       "const              80.7106      1.005     80.272      0.000      78.720      82.701\n",
       "Adult_Mortality    -0.0591      0.005    -11.164      0.000      -0.070      -0.049\n",
       "==============================================================================\n",
       "Omnibus:                       57.611   Durbin-Watson:                   1.624\n",
       "Prob(Omnibus):                  0.000   Jarque-Bera (JB):              160.621\n",
       "Skew:                          -1.821   Prob(JB):                     1.32e-35\n",
       "Kurtosis:                       7.222   Cond. No.                         355.\n",
       "==============================================================================\n",
       "\n",
       "Warnings:\n",
       "[1] Standard Errors assume that the covariance matrix of the errors is correctly specified.\n",
       "\"\"\""
      ]
     },
     "execution_count": 55,
     "metadata": {},
     "output_type": "execute_result"
    }
   ],
   "source": [
    "ols_model.summary()"
   ]
  },
  {
   "cell_type": "code",
   "execution_count": 42,
   "metadata": {},
   "outputs": [
    {
     "data": {
      "text/html": [
       "<table class=\"simpletable\">\n",
       "<caption>OLS Regression Results</caption>\n",
       "<tr>\n",
       "  <th>Dep. Variable:</th>        <td>Expected</td>     <th>  R-squared (uncentered):</th>      <td>   0.632</td>\n",
       "</tr>\n",
       "<tr>\n",
       "  <th>Model:</th>                   <td>OLS</td>       <th>  Adj. R-squared (uncentered):</th> <td>   0.629</td>\n",
       "</tr>\n",
       "<tr>\n",
       "  <th>Method:</th>             <td>Least Squares</td>  <th>  F-statistic:       </th>          <td>   211.1</td>\n",
       "</tr>\n",
       "<tr>\n",
       "  <th>Date:</th>             <td>Tue, 08 Dec 2020</td> <th>  Prob (F-statistic):</th>          <td>1.83e-28</td>\n",
       "</tr>\n",
       "<tr>\n",
       "  <th>Time:</th>                 <td>16:52:23</td>     <th>  Log-Likelihood:    </th>          <td> -643.81</td>\n",
       "</tr>\n",
       "<tr>\n",
       "  <th>No. Observations:</th>      <td>   124</td>      <th>  AIC:               </th>          <td>   1290.</td>\n",
       "</tr>\n",
       "<tr>\n",
       "  <th>Df Residuals:</th>          <td>   123</td>      <th>  BIC:               </th>          <td>   1292.</td>\n",
       "</tr>\n",
       "<tr>\n",
       "  <th>Df Model:</th>              <td>     1</td>      <th>                     </th>              <td> </td>   \n",
       "</tr>\n",
       "<tr>\n",
       "  <th>Covariance Type:</th>      <td>nonrobust</td>    <th>                     </th>              <td> </td>   \n",
       "</tr>\n",
       "</table>\n",
       "<table class=\"simpletable\">\n",
       "<tr>\n",
       "         <td></td>            <th>coef</th>     <th>std err</th>      <th>t</th>      <th>P>|t|</th>  <th>[0.025</th>    <th>0.975]</th>  \n",
       "</tr>\n",
       "<tr>\n",
       "  <th>Adult_Mortality</th> <td>    0.3003</td> <td>    0.021</td> <td>   14.530</td> <td> 0.000</td> <td>    0.259</td> <td>    0.341</td>\n",
       "</tr>\n",
       "</table>\n",
       "<table class=\"simpletable\">\n",
       "<tr>\n",
       "  <th>Omnibus:</th>       <td> 9.872</td> <th>  Durbin-Watson:     </th> <td>   1.154</td>\n",
       "</tr>\n",
       "<tr>\n",
       "  <th>Prob(Omnibus):</th> <td> 0.007</td> <th>  Jarque-Bera (JB):  </th> <td>  10.718</td>\n",
       "</tr>\n",
       "<tr>\n",
       "  <th>Skew:</th>          <td>-0.704</td> <th>  Prob(JB):          </th> <td> 0.00471</td>\n",
       "</tr>\n",
       "<tr>\n",
       "  <th>Kurtosis:</th>      <td> 2.693</td> <th>  Cond. No.          </th> <td>    1.00</td>\n",
       "</tr>\n",
       "</table><br/><br/>Warnings:<br/>[1] Standard Errors assume that the covariance matrix of the errors is correctly specified."
      ],
      "text/plain": [
       "<class 'statsmodels.iolib.summary.Summary'>\n",
       "\"\"\"\n",
       "                                 OLS Regression Results                                \n",
       "=======================================================================================\n",
       "Dep. Variable:               Expected   R-squared (uncentered):                   0.632\n",
       "Model:                            OLS   Adj. R-squared (uncentered):              0.629\n",
       "Method:                 Least Squares   F-statistic:                              211.1\n",
       "Date:                Tue, 08 Dec 2020   Prob (F-statistic):                    1.83e-28\n",
       "Time:                        16:52:23   Log-Likelihood:                         -643.81\n",
       "No. Observations:                 124   AIC:                                      1290.\n",
       "Df Residuals:                     123   BIC:                                      1292.\n",
       "Df Model:                           1                                                  \n",
       "Covariance Type:            nonrobust                                                  \n",
       "===================================================================================\n",
       "                      coef    std err          t      P>|t|      [0.025      0.975]\n",
       "-----------------------------------------------------------------------------------\n",
       "Adult_Mortality     0.3003      0.021     14.530      0.000       0.259       0.341\n",
       "==============================================================================\n",
       "Omnibus:                        9.872   Durbin-Watson:                   1.154\n",
       "Prob(Omnibus):                  0.007   Jarque-Bera (JB):               10.718\n",
       "Skew:                          -0.704   Prob(JB):                      0.00471\n",
       "Kurtosis:                       2.693   Cond. No.                         1.00\n",
       "==============================================================================\n",
       "\n",
       "Warnings:\n",
       "[1] Standard Errors assume that the covariance matrix of the errors is correctly specified.\n",
       "\"\"\""
      ]
     },
     "execution_count": 42,
     "metadata": {},
     "output_type": "execute_result"
    }
   ],
   "source": [
    "ols_model.summary()\n",
    "\n",
    "#without xc1"
   ]
  },
  {
   "cell_type": "markdown",
   "metadata": {
    "collapsed": true
   },
   "source": [
    "<table align=\"left\">\n",
    "    <tr>\n",
    "        <td width=\"6%\">\n",
    "            <img src=\"question_icon.png\">\n",
    "        </td>\n",
    "        <td>\n",
    "            <div align=\"left\", style=\"font-size:120%\">\n",
    "                <font color=\"#21618C\">\n",
    "                    <b>2. A regression model is built to check the impact of Human Development Index (Income) on the life expectancy of a nation. What is the expected error value?</b>\n",
    "                </font>\n",
    "            </div>\n",
    "        </td>\n",
    "    </tr>\n",
    "</table>"
   ]
  },
  {
   "cell_type": "code",
   "execution_count": 56,
   "metadata": {},
   "outputs": [],
   "source": [
    "# type your code here\n",
    "x=data['Income_Index']\n",
    "y=data['Expected']\n"
   ]
  },
  {
   "cell_type": "code",
   "execution_count": 79,
   "metadata": {},
   "outputs": [
    {
     "data": {
      "image/png": "[encoded data removed]",
      "text/plain": [
       "<Figure size 432x288 with 1 Axes>"
      ]
     },
     "metadata": {
      "needs_background": "light"
     },
     "output_type": "display_data"
    }
   ],
   "source": [
    "sns.scatterplot(x,y)\n",
    "plt.show()"
   ]
  },
  {
   "cell_type": "code",
   "execution_count": 57,
   "metadata": {},
   "outputs": [
    {
     "data": {
      "text/html": [
       "<div>\n",
       "<style scoped>\n",
       "    .dataframe tbody tr th:only-of-type {\n",
       "        vertical-align: middle;\n",
       "    }\n",
       "\n",
       "    .dataframe tbody tr th {\n",
       "        vertical-align: top;\n",
       "    }\n",
       "\n",
       "    .dataframe thead th {\n",
       "        text-align: right;\n",
       "    }\n",
       "</style>\n",
       "<table border=\"1\" class=\"dataframe\">\n",
       "  <thead>\n",
       "    <tr style=\"text-align: right;\">\n",
       "      <th></th>\n",
       "      <th>const</th>\n",
       "      <th>Income_Index</th>\n",
       "    </tr>\n",
       "  </thead>\n",
       "  <tbody>\n",
       "    <tr>\n",
       "      <th>0</th>\n",
       "      <td>1.0</td>\n",
       "      <td>0.479</td>\n",
       "    </tr>\n",
       "    <tr>\n",
       "      <th>1</th>\n",
       "      <td>1.0</td>\n",
       "      <td>0.761</td>\n",
       "    </tr>\n",
       "    <tr>\n",
       "      <th>2</th>\n",
       "      <td>1.0</td>\n",
       "      <td>0.743</td>\n",
       "    </tr>\n",
       "    <tr>\n",
       "      <th>3</th>\n",
       "      <td>1.0</td>\n",
       "      <td>0.531</td>\n",
       "    </tr>\n",
       "    <tr>\n",
       "      <th>4</th>\n",
       "      <td>1.0</td>\n",
       "      <td>0.826</td>\n",
       "    </tr>\n",
       "    <tr>\n",
       "      <th>...</th>\n",
       "      <td>...</td>\n",
       "      <td>...</td>\n",
       "    </tr>\n",
       "    <tr>\n",
       "      <th>119</th>\n",
       "      <td>1.0</td>\n",
       "      <td>0.388</td>\n",
       "    </tr>\n",
       "    <tr>\n",
       "      <th>120</th>\n",
       "      <td>1.0</td>\n",
       "      <td>0.371</td>\n",
       "    </tr>\n",
       "    <tr>\n",
       "      <th>121</th>\n",
       "      <td>1.0</td>\n",
       "      <td>0.359</td>\n",
       "    </tr>\n",
       "    <tr>\n",
       "      <th>122</th>\n",
       "      <td>1.0</td>\n",
       "      <td>0.343</td>\n",
       "    </tr>\n",
       "    <tr>\n",
       "      <th>123</th>\n",
       "      <td>1.0</td>\n",
       "      <td>0.332</td>\n",
       "    </tr>\n",
       "  </tbody>\n",
       "</table>\n",
       "<p>124 rows × 2 columns</p>\n",
       "</div>"
      ],
      "text/plain": [
       "     const  Income_Index\n",
       "0      1.0         0.479\n",
       "1      1.0         0.761\n",
       "2      1.0         0.743\n",
       "3      1.0         0.531\n",
       "4      1.0         0.826\n",
       "..     ...           ...\n",
       "119    1.0         0.388\n",
       "120    1.0         0.371\n",
       "121    1.0         0.359\n",
       "122    1.0         0.343\n",
       "123    1.0         0.332\n",
       "\n",
       "[124 rows x 2 columns]"
      ]
     },
     "execution_count": 57,
     "metadata": {},
     "output_type": "execute_result"
    }
   ],
   "source": [
    "xc2=sm.add_constant(x)\n",
    "xc2"
   ]
  },
  {
   "cell_type": "code",
   "execution_count": 58,
   "metadata": {},
   "outputs": [
    {
     "data": {
      "text/html": [
       "<table class=\"simpletable\">\n",
       "<caption>OLS Regression Results</caption>\n",
       "<tr>\n",
       "  <th>Dep. Variable:</th>        <td>Expected</td>     <th>  R-squared:         </th> <td>   0.711</td>\n",
       "</tr>\n",
       "<tr>\n",
       "  <th>Model:</th>                   <td>OLS</td>       <th>  Adj. R-squared:    </th> <td>   0.709</td>\n",
       "</tr>\n",
       "<tr>\n",
       "  <th>Method:</th>             <td>Least Squares</td>  <th>  F-statistic:       </th> <td>   300.0</td>\n",
       "</tr>\n",
       "<tr>\n",
       "  <th>Date:</th>             <td>Tue, 08 Dec 2020</td> <th>  Prob (F-statistic):</th> <td>1.13e-34</td>\n",
       "</tr>\n",
       "<tr>\n",
       "  <th>Time:</th>                 <td>17:06:50</td>     <th>  Log-Likelihood:    </th> <td> -363.40</td>\n",
       "</tr>\n",
       "<tr>\n",
       "  <th>No. Observations:</th>      <td>   124</td>      <th>  AIC:               </th> <td>   730.8</td>\n",
       "</tr>\n",
       "<tr>\n",
       "  <th>Df Residuals:</th>          <td>   122</td>      <th>  BIC:               </th> <td>   736.4</td>\n",
       "</tr>\n",
       "<tr>\n",
       "  <th>Df Model:</th>              <td>     1</td>      <th>                     </th>     <td> </td>   \n",
       "</tr>\n",
       "<tr>\n",
       "  <th>Covariance Type:</th>      <td>nonrobust</td>    <th>                     </th>     <td> </td>   \n",
       "</tr>\n",
       "</table>\n",
       "<table class=\"simpletable\">\n",
       "<tr>\n",
       "        <td></td>          <th>coef</th>     <th>std err</th>      <th>t</th>      <th>P>|t|</th>  <th>[0.025</th>    <th>0.975]</th>  \n",
       "</tr>\n",
       "<tr>\n",
       "  <th>const</th>        <td>   41.9191</td> <td>    1.741</td> <td>   24.081</td> <td> 0.000</td> <td>   38.473</td> <td>   45.365</td>\n",
       "</tr>\n",
       "<tr>\n",
       "  <th>Income_Index</th> <td>   42.4243</td> <td>    2.449</td> <td>   17.322</td> <td> 0.000</td> <td>   37.576</td> <td>   47.273</td>\n",
       "</tr>\n",
       "</table>\n",
       "<table class=\"simpletable\">\n",
       "<tr>\n",
       "  <th>Omnibus:</th>       <td>11.870</td> <th>  Durbin-Watson:     </th> <td>   1.355</td>\n",
       "</tr>\n",
       "<tr>\n",
       "  <th>Prob(Omnibus):</th> <td> 0.003</td> <th>  Jarque-Bera (JB):  </th> <td>  26.475</td>\n",
       "</tr>\n",
       "<tr>\n",
       "  <th>Skew:</th>          <td> 0.280</td> <th>  Prob(JB):          </th> <td>1.78e-06</td>\n",
       "</tr>\n",
       "<tr>\n",
       "  <th>Kurtosis:</th>      <td> 5.193</td> <th>  Cond. No.          </th> <td>    8.87</td>\n",
       "</tr>\n",
       "</table><br/><br/>Warnings:<br/>[1] Standard Errors assume that the covariance matrix of the errors is correctly specified."
      ],
      "text/plain": [
       "<class 'statsmodels.iolib.summary.Summary'>\n",
       "\"\"\"\n",
       "                            OLS Regression Results                            \n",
       "==============================================================================\n",
       "Dep. Variable:               Expected   R-squared:                       0.711\n",
       "Model:                            OLS   Adj. R-squared:                  0.709\n",
       "Method:                 Least Squares   F-statistic:                     300.0\n",
       "Date:                Tue, 08 Dec 2020   Prob (F-statistic):           1.13e-34\n",
       "Time:                        17:06:50   Log-Likelihood:                -363.40\n",
       "No. Observations:                 124   AIC:                             730.8\n",
       "Df Residuals:                     122   BIC:                             736.4\n",
       "Df Model:                           1                                         \n",
       "Covariance Type:            nonrobust                                         \n",
       "================================================================================\n",
       "                   coef    std err          t      P>|t|      [0.025      0.975]\n",
       "--------------------------------------------------------------------------------\n",
       "const           41.9191      1.741     24.081      0.000      38.473      45.365\n",
       "Income_Index    42.4243      2.449     17.322      0.000      37.576      47.273\n",
       "==============================================================================\n",
       "Omnibus:                       11.870   Durbin-Watson:                   1.355\n",
       "Prob(Omnibus):                  0.003   Jarque-Bera (JB):               26.475\n",
       "Skew:                           0.280   Prob(JB):                     1.78e-06\n",
       "Kurtosis:                       5.193   Cond. No.                         8.87\n",
       "==============================================================================\n",
       "\n",
       "Warnings:\n",
       "[1] Standard Errors assume that the covariance matrix of the errors is correctly specified.\n",
       "\"\"\""
      ]
     },
     "execution_count": 58,
     "metadata": {},
     "output_type": "execute_result"
    }
   ],
   "source": [
    "ols= sm.OLS(y,xc2)\n",
    "ols_model= ols.fit()\n",
    "ols_model.summary()"
   ]
  },
  {
   "cell_type": "code",
   "execution_count": 72,
   "metadata": {},
   "outputs": [
    {
     "data": {
      "text/plain": [
       "0      62.240363\n",
       "1      74.204011\n",
       "2      73.440374\n",
       "3      64.446426\n",
       "4      76.961589\n",
       "         ...    \n",
       "119    58.379753\n",
       "120    57.658540\n",
       "121    57.149449\n",
       "122    56.470660\n",
       "123    56.003993\n",
       "Name: Income_Index, Length: 124, dtype: float64"
      ]
     },
     "execution_count": 72,
     "metadata": {},
     "output_type": "execute_result"
    }
   ],
   "source": [
    "x=data['Income_Index']\n",
    "y=data['Expected']\n",
    "\n",
    "b1 = np.sum((x-x.mean())*(y-y.mean())) / np.sum((x-x.mean())**2)\n",
    "b0=y.mean() - b1*x.mean()\n",
    "yreg=b1*x+b0\n",
    "yreg"
   ]
  },
  {
   "cell_type": "code",
   "execution_count": 74,
   "metadata": {},
   "outputs": [
    {
     "data": {
      "text/plain": [
       "2549.584803454099"
      ]
     },
     "execution_count": 74,
     "metadata": {},
     "output_type": "execute_result"
    }
   ],
   "source": [
    "sse =  np.sum((y- yreg)**2)\n",
    "sse"
   ]
  },
  {
   "cell_type": "code",
   "execution_count": 75,
   "metadata": {},
   "outputs": [
    {
     "data": {
      "text/plain": [
       "20.561167769791123"
      ]
     },
     "execution_count": 75,
     "metadata": {},
     "output_type": "execute_result"
    }
   ],
   "source": [
    "mse=np.mean((y- yreg)**2)\n",
    "mse"
   ]
  },
  {
   "cell_type": "code",
   "execution_count": 76,
   "metadata": {},
   "outputs": [
    {
     "data": {
      "text/plain": [
       "4.534442387966918"
      ]
     },
     "execution_count": 76,
     "metadata": {},
     "output_type": "execute_result"
    }
   ],
   "source": [
    "rmse=np.sqrt(mse)\n",
    "rmse"
   ]
  },
  {
   "cell_type": "code",
   "execution_count": 77,
   "metadata": {},
   "outputs": [
    {
     "data": {
      "text/plain": [
       "<matplotlib.lines.Line2D at 0x1a6679b29c8>"
      ]
     },
     "execution_count": 77,
     "metadata": {},
     "output_type": "execute_result"
    },
    {
     "data": {
      "image/png": "[encoded data removed]",
      "text/plain": [
       "<Figure size 432x288 with 1 Axes>"
      ]
     },
     "metadata": {
      "needs_background": "light"
     },
     "output_type": "display_data"
    }
   ],
   "source": [
    "plt.plot(x,y,\"*\")\n",
    "plt.plot(x,b1*x+b0)\n",
    "plt.axhline(y.mean(),color='r')"
   ]
  },
  {
   "cell_type": "raw",
   "metadata": {},
   "source": [
    "One unit increase in the Income index increase Expectancy by 22 units"
   ]
  },
  {
   "cell_type": "markdown",
   "metadata": {},
   "source": [
    "<a id=\"MLR\"> </a>\n",
    "## 2. Multiple Linear Regression(MLR)"
   ]
  },
  {
   "cell_type": "markdown",
   "metadata": {
    "collapsed": true
   },
   "source": [
    "<table align=\"left\">\n",
    "    <tr>\n",
    "        <td width=\"6%\">\n",
    "            <img src=\"question_icon.png\">\n",
    "        </td>\n",
    "        <td>\n",
    "            <div align=\"left\", style=\"font-size:120%\">\n",
    "                <font color=\"#21618C\">\n",
    "                    <b>3. Analyze the impact of immunization on life expectancy. </b>\n",
    "                </font>\n",
    "            </div>\n",
    "        </td>\n",
    "    </tr>\n",
    "</table>"
   ]
  },
  {
   "cell_type": "code",
   "execution_count": 12,
   "metadata": {},
   "outputs": [
    {
     "name": "stdout",
     "output_type": "stream",
     "text": [
      "<class 'pandas.core.frame.DataFrame'>\n",
      "RangeIndex: 124 entries, 0 to 123\n",
      "Data columns (total 18 columns):\n",
      " #   Column              Non-Null Count  Dtype  \n",
      "---  ------              --------------  -----  \n",
      " 0   Country             124 non-null    object \n",
      " 1   Status              124 non-null    object \n",
      " 2   Adult_Mortality     124 non-null    int64  \n",
      " 3   Infant_Deaths       124 non-null    int64  \n",
      " 4   Hepatitis           124 non-null    int64  \n",
      " 5   Measles             124 non-null    int64  \n",
      " 6    BMI                124 non-null    float64\n",
      " 7   Underfive_Deaths    124 non-null    int64  \n",
      " 8   Polio               124 non-null    int64  \n",
      " 9   Diphtheria          124 non-null    int64  \n",
      " 10   HIV                124 non-null    float64\n",
      " 11  GDP                 124 non-null    float64\n",
      " 12  Population          124 non-null    int64  \n",
      " 13  Malnourished10_19   124 non-null    float64\n",
      " 14  Malnourished5_9     124 non-null    float64\n",
      " 15  Income_Index        124 non-null    float64\n",
      " 16  Schooling           124 non-null    float64\n",
      " 17  Expected            124 non-null    float64\n",
      "dtypes: float64(8), int64(8), object(2)\n",
      "memory usage: 17.6+ KB\n"
     ]
    }
   ],
   "source": [
    "data.info()"
   ]
  },
  {
   "cell_type": "code",
   "execution_count": 89,
   "metadata": {},
   "outputs": [
    {
     "data": {
      "text/html": [
       "<table class=\"simpletable\">\n",
       "<caption>OLS Regression Results</caption>\n",
       "<tr>\n",
       "  <th>Dep. Variable:</th>        <td>Expected</td>     <th>  R-squared:         </th> <td>   0.138</td>\n",
       "</tr>\n",
       "<tr>\n",
       "  <th>Model:</th>                   <td>OLS</td>       <th>  Adj. R-squared:    </th> <td>   0.116</td>\n",
       "</tr>\n",
       "<tr>\n",
       "  <th>Method:</th>             <td>Least Squares</td>  <th>  F-statistic:       </th> <td>   6.395</td>\n",
       "</tr>\n",
       "<tr>\n",
       "  <th>Date:</th>             <td>Tue, 08 Dec 2020</td> <th>  Prob (F-statistic):</th> <td>0.000468</td>\n",
       "</tr>\n",
       "<tr>\n",
       "  <th>Time:</th>                 <td>21:06:45</td>     <th>  Log-Likelihood:    </th> <td> -431.15</td>\n",
       "</tr>\n",
       "<tr>\n",
       "  <th>No. Observations:</th>      <td>   124</td>      <th>  AIC:               </th> <td>   870.3</td>\n",
       "</tr>\n",
       "<tr>\n",
       "  <th>Df Residuals:</th>          <td>   120</td>      <th>  BIC:               </th> <td>   881.6</td>\n",
       "</tr>\n",
       "<tr>\n",
       "  <th>Df Model:</th>              <td>     3</td>      <th>                     </th>     <td> </td>   \n",
       "</tr>\n",
       "<tr>\n",
       "  <th>Covariance Type:</th>      <td>nonrobust</td>    <th>                     </th>     <td> </td>   \n",
       "</tr>\n",
       "</table>\n",
       "<table class=\"simpletable\">\n",
       "<tr>\n",
       "       <td></td>         <th>coef</th>     <th>std err</th>      <th>t</th>      <th>P>|t|</th>  <th>[0.025</th>    <th>0.975]</th>  \n",
       "</tr>\n",
       "<tr>\n",
       "  <th>const</th>      <td>   57.9881</td> <td>    3.524</td> <td>   16.453</td> <td> 0.000</td> <td>   51.010</td> <td>   64.966</td>\n",
       "</tr>\n",
       "<tr>\n",
       "  <th>Hepatitis</th>  <td>   -0.1037</td> <td>    0.068</td> <td>   -1.528</td> <td> 0.129</td> <td>   -0.238</td> <td>    0.031</td>\n",
       "</tr>\n",
       "<tr>\n",
       "  <th>Polio</th>      <td>    0.0910</td> <td>    0.043</td> <td>    2.099</td> <td> 0.038</td> <td>    0.005</td> <td>    0.177</td>\n",
       "</tr>\n",
       "<tr>\n",
       "  <th>Diphtheria</th> <td>    0.1613</td> <td>    0.082</td> <td>    1.969</td> <td> 0.051</td> <td>   -0.001</td> <td>    0.323</td>\n",
       "</tr>\n",
       "</table>\n",
       "<table class=\"simpletable\">\n",
       "<tr>\n",
       "  <th>Omnibus:</th>       <td> 4.513</td> <th>  Durbin-Watson:     </th> <td>   1.000</td>\n",
       "</tr>\n",
       "<tr>\n",
       "  <th>Prob(Omnibus):</th> <td> 0.105</td> <th>  Jarque-Bera (JB):  </th> <td>   4.279</td>\n",
       "</tr>\n",
       "<tr>\n",
       "  <th>Skew:</th>          <td>-0.396</td> <th>  Prob(JB):          </th> <td>   0.118</td>\n",
       "</tr>\n",
       "<tr>\n",
       "  <th>Kurtosis:</th>      <td> 2.550</td> <th>  Cond. No.          </th> <td>    755.</td>\n",
       "</tr>\n",
       "</table><br/><br/>Warnings:<br/>[1] Standard Errors assume that the covariance matrix of the errors is correctly specified."
      ],
      "text/plain": [
       "<class 'statsmodels.iolib.summary.Summary'>\n",
       "\"\"\"\n",
       "                            OLS Regression Results                            \n",
       "==============================================================================\n",
       "Dep. Variable:               Expected   R-squared:                       0.138\n",
       "Model:                            OLS   Adj. R-squared:                  0.116\n",
       "Method:                 Least Squares   F-statistic:                     6.395\n",
       "Date:                Tue, 08 Dec 2020   Prob (F-statistic):           0.000468\n",
       "Time:                        21:06:45   Log-Likelihood:                -431.15\n",
       "No. Observations:                 124   AIC:                             870.3\n",
       "Df Residuals:                     120   BIC:                             881.6\n",
       "Df Model:                           3                                         \n",
       "Covariance Type:            nonrobust                                         \n",
       "==============================================================================\n",
       "                 coef    std err          t      P>|t|      [0.025      0.975]\n",
       "------------------------------------------------------------------------------\n",
       "const         57.9881      3.524     16.453      0.000      51.010      64.966\n",
       "Hepatitis     -0.1037      0.068     -1.528      0.129      -0.238       0.031\n",
       "Polio          0.0910      0.043      2.099      0.038       0.005       0.177\n",
       "Diphtheria     0.1613      0.082      1.969      0.051      -0.001       0.323\n",
       "==============================================================================\n",
       "Omnibus:                        4.513   Durbin-Watson:                   1.000\n",
       "Prob(Omnibus):                  0.105   Jarque-Bera (JB):                4.279\n",
       "Skew:                          -0.396   Prob(JB):                        0.118\n",
       "Kurtosis:                       2.550   Cond. No.                         755.\n",
       "==============================================================================\n",
       "\n",
       "Warnings:\n",
       "[1] Standard Errors assume that the covariance matrix of the errors is correctly specified.\n",
       "\"\"\""
      ]
     },
     "execution_count": 89,
     "metadata": {},
     "output_type": "execute_result"
    }
   ],
   "source": [
    "# type your code here\n",
    "\n",
    "\n",
    "# Build Linear reression model.\n",
    "\n",
    "#Hepatitis,Polio,diphtheria covers the immunization coverage count.\n",
    "\n",
    "inp=data[['Hepatitis','Polio','Diphtheria']]\n",
    "out=data['Expected']\n",
    "\n",
    "inpc=sm.add_constant(inp)\n",
    "\n",
    "ols=sm.OLS(out,inpc)\n",
    "ols_mod=ols.fit()\n",
    "ols_mod.summary()\n"
   ]
  },
  {
   "cell_type": "code",
   "execution_count": 33,
   "metadata": {},
   "outputs": [
    {
     "data": {
      "text/plain": [
       "Index(['Country', 'Status', 'Adult_Mortality', 'Infant_Deaths', 'Hepatitis',\n",
       "       'Measles', 'BMI', 'Underfive_Deaths', 'Polio', 'Diphtheria', 'HIV',\n",
       "       'GDP', 'Population', 'Malnourished10_19', 'Malnourished5_9',\n",
       "       'Income_Index', 'Schooling', 'Expected'],\n",
       "      dtype='object')"
      ]
     },
     "execution_count": 33,
     "metadata": {},
     "output_type": "execute_result"
    }
   ],
   "source": [
    "data.columns"
   ]
  },
  {
   "cell_type": "markdown",
   "metadata": {
    "collapsed": true
   },
   "source": [
    "<table align=\"left\">\n",
    "    <tr>\n",
    "        <td width=\"6%\">\n",
    "            <img src=\"question_icon.png\">\n",
    "        </td>\n",
    "        <td>\n",
    "            <div align=\"left\", style=\"font-size:120%\">\n",
    "                <font color=\"#21618C\">\n",
    "                    <b>4. If the information that whether the country is a developed or a developing country is included, does it alter the impact of immunzation on life expectancy ?</b>\n",
    "                </font>\n",
    "            </div>\n",
    "        </td>\n",
    "    </tr>\n",
    "</table>"
   ]
  },
  {
   "cell_type": "code",
   "execution_count": 34,
   "metadata": {},
   "outputs": [
    {
     "data": {
      "text/plain": [
       "Developing    105\n",
       "Developed      19\n",
       "Name: Status, dtype: int64"
      ]
     },
     "execution_count": 34,
     "metadata": {},
     "output_type": "execute_result"
    }
   ],
   "source": [
    "data['Status'].value_counts()"
   ]
  },
  {
   "cell_type": "code",
   "execution_count": 35,
   "metadata": {},
   "outputs": [],
   "source": [
    "from sklearn.preprocessing import LabelEncoder"
   ]
  },
  {
   "cell_type": "code",
   "execution_count": 36,
   "metadata": {},
   "outputs": [],
   "source": [
    "LE=LabelEncoder()"
   ]
  },
  {
   "cell_type": "code",
   "execution_count": 37,
   "metadata": {},
   "outputs": [],
   "source": [
    "data['Status']=LE.fit_transform(data['Status'])"
   ]
  },
  {
   "cell_type": "code",
   "execution_count": 38,
   "metadata": {},
   "outputs": [
    {
     "data": {
      "text/plain": [
       "0      1\n",
       "1      1\n",
       "2      1\n",
       "3      1\n",
       "4      1\n",
       "      ..\n",
       "119    1\n",
       "120    1\n",
       "121    1\n",
       "122    1\n",
       "123    1\n",
       "Name: Status, Length: 124, dtype: int32"
      ]
     },
     "execution_count": 38,
     "metadata": {},
     "output_type": "execute_result"
    }
   ],
   "source": [
    "data['Status']"
   ]
  },
  {
   "cell_type": "code",
   "execution_count": 39,
   "metadata": {},
   "outputs": [
    {
     "data": {
      "text/html": [
       "<table class=\"simpletable\">\n",
       "<caption>OLS Regression Results</caption>\n",
       "<tr>\n",
       "  <th>Dep. Variable:</th>        <td>Expected</td>     <th>  R-squared:         </th> <td>   0.138</td>\n",
       "</tr>\n",
       "<tr>\n",
       "  <th>Model:</th>                   <td>OLS</td>       <th>  Adj. R-squared:    </th> <td>   0.116</td>\n",
       "</tr>\n",
       "<tr>\n",
       "  <th>Method:</th>             <td>Least Squares</td>  <th>  F-statistic:       </th> <td>   6.395</td>\n",
       "</tr>\n",
       "<tr>\n",
       "  <th>Date:</th>             <td>Wed, 09 Dec 2020</td> <th>  Prob (F-statistic):</th> <td>0.000468</td>\n",
       "</tr>\n",
       "<tr>\n",
       "  <th>Time:</th>                 <td>17:53:01</td>     <th>  Log-Likelihood:    </th> <td> -431.15</td>\n",
       "</tr>\n",
       "<tr>\n",
       "  <th>No. Observations:</th>      <td>   124</td>      <th>  AIC:               </th> <td>   870.3</td>\n",
       "</tr>\n",
       "<tr>\n",
       "  <th>Df Residuals:</th>          <td>   120</td>      <th>  BIC:               </th> <td>   881.6</td>\n",
       "</tr>\n",
       "<tr>\n",
       "  <th>Df Model:</th>              <td>     3</td>      <th>                     </th>     <td> </td>   \n",
       "</tr>\n",
       "<tr>\n",
       "  <th>Covariance Type:</th>      <td>nonrobust</td>    <th>                     </th>     <td> </td>   \n",
       "</tr>\n",
       "</table>\n",
       "<table class=\"simpletable\">\n",
       "<tr>\n",
       "       <td></td>         <th>coef</th>     <th>std err</th>      <th>t</th>      <th>P>|t|</th>  <th>[0.025</th>    <th>0.975]</th>  \n",
       "</tr>\n",
       "<tr>\n",
       "  <th>const</th>      <td>   57.9881</td> <td>    3.524</td> <td>   16.453</td> <td> 0.000</td> <td>   51.010</td> <td>   64.966</td>\n",
       "</tr>\n",
       "<tr>\n",
       "  <th>Hepatitis</th>  <td>   -0.1037</td> <td>    0.068</td> <td>   -1.528</td> <td> 0.129</td> <td>   -0.238</td> <td>    0.031</td>\n",
       "</tr>\n",
       "<tr>\n",
       "  <th>Polio</th>      <td>    0.0910</td> <td>    0.043</td> <td>    2.099</td> <td> 0.038</td> <td>    0.005</td> <td>    0.177</td>\n",
       "</tr>\n",
       "<tr>\n",
       "  <th>Diphtheria</th> <td>    0.1613</td> <td>    0.082</td> <td>    1.969</td> <td> 0.051</td> <td>   -0.001</td> <td>    0.323</td>\n",
       "</tr>\n",
       "</table>\n",
       "<table class=\"simpletable\">\n",
       "<tr>\n",
       "  <th>Omnibus:</th>       <td> 4.513</td> <th>  Durbin-Watson:     </th> <td>   1.000</td>\n",
       "</tr>\n",
       "<tr>\n",
       "  <th>Prob(Omnibus):</th> <td> 0.105</td> <th>  Jarque-Bera (JB):  </th> <td>   4.279</td>\n",
       "</tr>\n",
       "<tr>\n",
       "  <th>Skew:</th>          <td>-0.396</td> <th>  Prob(JB):          </th> <td>   0.118</td>\n",
       "</tr>\n",
       "<tr>\n",
       "  <th>Kurtosis:</th>      <td> 2.550</td> <th>  Cond. No.          </th> <td>    755.</td>\n",
       "</tr>\n",
       "</table><br/><br/>Warnings:<br/>[1] Standard Errors assume that the covariance matrix of the errors is correctly specified."
      ],
      "text/plain": [
       "<class 'statsmodels.iolib.summary.Summary'>\n",
       "\"\"\"\n",
       "                            OLS Regression Results                            \n",
       "==============================================================================\n",
       "Dep. Variable:               Expected   R-squared:                       0.138\n",
       "Model:                            OLS   Adj. R-squared:                  0.116\n",
       "Method:                 Least Squares   F-statistic:                     6.395\n",
       "Date:                Wed, 09 Dec 2020   Prob (F-statistic):           0.000468\n",
       "Time:                        17:53:01   Log-Likelihood:                -431.15\n",
       "No. Observations:                 124   AIC:                             870.3\n",
       "Df Residuals:                     120   BIC:                             881.6\n",
       "Df Model:                           3                                         \n",
       "Covariance Type:            nonrobust                                         \n",
       "==============================================================================\n",
       "                 coef    std err          t      P>|t|      [0.025      0.975]\n",
       "------------------------------------------------------------------------------\n",
       "const         57.9881      3.524     16.453      0.000      51.010      64.966\n",
       "Hepatitis     -0.1037      0.068     -1.528      0.129      -0.238       0.031\n",
       "Polio          0.0910      0.043      2.099      0.038       0.005       0.177\n",
       "Diphtheria     0.1613      0.082      1.969      0.051      -0.001       0.323\n",
       "==============================================================================\n",
       "Omnibus:                        4.513   Durbin-Watson:                   1.000\n",
       "Prob(Omnibus):                  0.105   Jarque-Bera (JB):                4.279\n",
       "Skew:                          -0.396   Prob(JB):                        0.118\n",
       "Kurtosis:                       2.550   Cond. No.                         755.\n",
       "==============================================================================\n",
       "\n",
       "Warnings:\n",
       "[1] Standard Errors assume that the covariance matrix of the errors is correctly specified.\n",
       "\"\"\""
      ]
     },
     "execution_count": 39,
     "metadata": {},
     "output_type": "execute_result"
    }
   ],
   "source": [
    "inp=data[['Hepatitis','Polio','Diphtheria']]\n",
    "out=data['Expected']\n",
    "\n",
    "inpc=sm.add_constant(inp)\n",
    "\n",
    "ols=sm.OLS(out,inpc)\n",
    "ols_mod=ols.fit()\n",
    "ols_mod.summary()\n",
    "\n"
   ]
  },
  {
   "cell_type": "code",
   "execution_count": 63,
   "metadata": {},
   "outputs": [
    {
     "name": "stdout",
     "output_type": "stream",
     "text": [
      "<class 'pandas.core.frame.DataFrame'>\n",
      "RangeIndex: 124 entries, 0 to 123\n",
      "Data columns (total 18 columns):\n",
      " #   Column              Non-Null Count  Dtype  \n",
      "---  ------              --------------  -----  \n",
      " 0   Country             124 non-null    object \n",
      " 1   Status              124 non-null    object \n",
      " 2   Adult_Mortality     124 non-null    int64  \n",
      " 3   Infant_Deaths       124 non-null    int64  \n",
      " 4   Hepatitis           124 non-null    int64  \n",
      " 5   Measles             124 non-null    int64  \n",
      " 6    BMI                124 non-null    float64\n",
      " 7   Underfive_Deaths    124 non-null    int64  \n",
      " 8   Polio               124 non-null    int64  \n",
      " 9   Diphtheria          124 non-null    int64  \n",
      " 10   HIV                124 non-null    float64\n",
      " 11  GDP                 124 non-null    float64\n",
      " 12  Population          124 non-null    int64  \n",
      " 13  Malnourished10_19   124 non-null    float64\n",
      " 14  Malnourished5_9     124 non-null    float64\n",
      " 15  Income_Index        124 non-null    float64\n",
      " 16  Schooling           124 non-null    float64\n",
      " 17  Expected            124 non-null    float64\n",
      "dtypes: float64(8), int64(8), object(2)\n",
      "memory usage: 17.6+ KB\n"
     ]
    }
   ],
   "source": [
    "data.info()"
   ]
  },
  {
   "cell_type": "code",
   "execution_count": 67,
   "metadata": {},
   "outputs": [
    {
     "data": {
      "text/plain": [
       "0      1\n",
       "1      1\n",
       "2      1\n",
       "3      1\n",
       "4      1\n",
       "      ..\n",
       "119    1\n",
       "120    1\n",
       "121    1\n",
       "122    1\n",
       "123    1\n",
       "Name: Status, Length: 124, dtype: int32"
      ]
     },
     "execution_count": 67,
     "metadata": {},
     "output_type": "execute_result"
    }
   ],
   "source": [
    "data['Status']"
   ]
  },
  {
   "cell_type": "code",
   "execution_count": 69,
   "metadata": {},
   "outputs": [
    {
     "data": {
      "text/html": [
       "<table class=\"simpletable\">\n",
       "<caption>OLS Regression Results</caption>\n",
       "<tr>\n",
       "  <th>Dep. Variable:</th>        <td>Expected</td>     <th>  R-squared:         </th> <td>   0.321</td>\n",
       "</tr>\n",
       "<tr>\n",
       "  <th>Model:</th>                   <td>OLS</td>       <th>  Adj. R-squared:    </th> <td>   0.298</td>\n",
       "</tr>\n",
       "<tr>\n",
       "  <th>Method:</th>             <td>Least Squares</td>  <th>  F-statistic:       </th> <td>   14.06</td>\n",
       "</tr>\n",
       "<tr>\n",
       "  <th>Date:</th>             <td>Tue, 08 Dec 2020</td> <th>  Prob (F-statistic):</th> <td>2.00e-09</td>\n",
       "</tr>\n",
       "<tr>\n",
       "  <th>Time:</th>                 <td>17:22:20</td>     <th>  Log-Likelihood:    </th> <td> -416.35</td>\n",
       "</tr>\n",
       "<tr>\n",
       "  <th>No. Observations:</th>      <td>   124</td>      <th>  AIC:               </th> <td>   842.7</td>\n",
       "</tr>\n",
       "<tr>\n",
       "  <th>Df Residuals:</th>          <td>   119</td>      <th>  BIC:               </th> <td>   856.8</td>\n",
       "</tr>\n",
       "<tr>\n",
       "  <th>Df Model:</th>              <td>     4</td>      <th>                     </th>     <td> </td>   \n",
       "</tr>\n",
       "<tr>\n",
       "  <th>Covariance Type:</th>      <td>nonrobust</td>    <th>                     </th>     <td> </td>   \n",
       "</tr>\n",
       "</table>\n",
       "<table class=\"simpletable\">\n",
       "<tr>\n",
       "       <td></td>          <th>coef</th>     <th>std err</th>      <th>t</th>      <th>P>|t|</th>  <th>[0.025</th>    <th>0.975]</th>  \n",
       "</tr>\n",
       "<tr>\n",
       "  <th>const</th>       <td>   69.8090</td> <td>    3.771</td> <td>   18.512</td> <td> 0.000</td> <td>   62.342</td> <td>   77.276</td>\n",
       "</tr>\n",
       "<tr>\n",
       "  <th>Hepatitis </th>  <td>   -0.0035</td> <td>    0.063</td> <td>   -0.056</td> <td> 0.955</td> <td>   -0.128</td> <td>    0.121</td>\n",
       "</tr>\n",
       "<tr>\n",
       "  <th>Polio</th>       <td>    0.0771</td> <td>    0.039</td> <td>    1.993</td> <td> 0.049</td> <td>    0.000</td> <td>    0.154</td>\n",
       "</tr>\n",
       "<tr>\n",
       "  <th>Diphtheria </th> <td>    0.0456</td> <td>    0.076</td> <td>    0.602</td> <td> 0.548</td> <td>   -0.104</td> <td>    0.196</td>\n",
       "</tr>\n",
       "<tr>\n",
       "  <th>Status</th>      <td>  -10.6036</td> <td>    1.872</td> <td>   -5.664</td> <td> 0.000</td> <td>  -14.310</td> <td>   -6.897</td>\n",
       "</tr>\n",
       "</table>\n",
       "<table class=\"simpletable\">\n",
       "<tr>\n",
       "  <th>Omnibus:</th>       <td> 2.973</td> <th>  Durbin-Watson:     </th> <td>   1.211</td>\n",
       "</tr>\n",
       "<tr>\n",
       "  <th>Prob(Omnibus):</th> <td> 0.226</td> <th>  Jarque-Bera (JB):  </th> <td>   2.635</td>\n",
       "</tr>\n",
       "<tr>\n",
       "  <th>Skew:</th>          <td>-0.355</td> <th>  Prob(JB):          </th> <td>   0.268</td>\n",
       "</tr>\n",
       "<tr>\n",
       "  <th>Kurtosis:</th>      <td> 3.077</td> <th>  Cond. No.          </th> <td>    946.</td>\n",
       "</tr>\n",
       "</table><br/><br/>Warnings:<br/>[1] Standard Errors assume that the covariance matrix of the errors is correctly specified."
      ],
      "text/plain": [
       "<class 'statsmodels.iolib.summary.Summary'>\n",
       "\"\"\"\n",
       "                            OLS Regression Results                            \n",
       "==============================================================================\n",
       "Dep. Variable:               Expected   R-squared:                       0.321\n",
       "Model:                            OLS   Adj. R-squared:                  0.298\n",
       "Method:                 Least Squares   F-statistic:                     14.06\n",
       "Date:                Tue, 08 Dec 2020   Prob (F-statistic):           2.00e-09\n",
       "Time:                        17:22:20   Log-Likelihood:                -416.35\n",
       "No. Observations:                 124   AIC:                             842.7\n",
       "Df Residuals:                     119   BIC:                             856.8\n",
       "Df Model:                           4                                         \n",
       "Covariance Type:            nonrobust                                         \n",
       "===============================================================================\n",
       "                  coef    std err          t      P>|t|      [0.025      0.975]\n",
       "-------------------------------------------------------------------------------\n",
       "const          69.8090      3.771     18.512      0.000      62.342      77.276\n",
       "Hepatitis      -0.0035      0.063     -0.056      0.955      -0.128       0.121\n",
       "Polio           0.0771      0.039      1.993      0.049       0.000       0.154\n",
       "Diphtheria      0.0456      0.076      0.602      0.548      -0.104       0.196\n",
       "Status        -10.6036      1.872     -5.664      0.000     -14.310      -6.897\n",
       "==============================================================================\n",
       "Omnibus:                        2.973   Durbin-Watson:                   1.211\n",
       "Prob(Omnibus):                  0.226   Jarque-Bera (JB):                2.635\n",
       "Skew:                          -0.355   Prob(JB):                        0.268\n",
       "Kurtosis:                       3.077   Cond. No.                         946.\n",
       "==============================================================================\n",
       "\n",
       "Warnings:\n",
       "[1] Standard Errors assume that the covariance matrix of the errors is correctly specified.\n",
       "\"\"\""
      ]
     },
     "execution_count": 69,
     "metadata": {},
     "output_type": "execute_result"
    }
   ],
   "source": [
    "inp=data[['Hepatitis','Polio','Diphtheria','Status']]\n",
    "out=data['Expected']\n",
    "\n",
    "inpc=sm.add_constant(inp)\n",
    "\n",
    "ols=sm.OLS(out,inpc)\n",
    "ols_mod=ols.fit()\n",
    "ols_mod.summary()"
   ]
  },
  {
   "cell_type": "markdown",
   "metadata": {},
   "source": [
    "<a id=\"ins\"> </a>\n",
    "## 3. Inferences about slope"
   ]
  },
  {
   "cell_type": "markdown",
   "metadata": {
    "collapsed": true
   },
   "source": [
    "<table align=\"left\">\n",
    "    <tr>\n",
    "        <td width=\"6%\">\n",
    "            <img src=\"question_icon.png\">\n",
    "        </td>\n",
    "        <td>\n",
    "            <div align=\"left\", style=\"font-size:120%\">\n",
    "                <font color=\"#21618C\">\n",
    "                    <b>5. Find the significant variables in the full model when all the variables are considered for prediction of life expectancy.</b>\n",
    "                </font>\n",
    "            </div>\n",
    "        </td>\n",
    "    </tr>\n",
    "</table>"
   ]
  },
  {
   "cell_type": "code",
   "execution_count": 7,
   "metadata": {},
   "outputs": [],
   "source": [
    "# type your code here"
   ]
  },
  {
   "cell_type": "code",
   "execution_count": 40,
   "metadata": {},
   "outputs": [
    {
     "data": {
      "text/html": [
       "<div>\n",
       "<style scoped>\n",
       "    .dataframe tbody tr th:only-of-type {\n",
       "        vertical-align: middle;\n",
       "    }\n",
       "\n",
       "    .dataframe tbody tr th {\n",
       "        vertical-align: top;\n",
       "    }\n",
       "\n",
       "    .dataframe thead th {\n",
       "        text-align: right;\n",
       "    }\n",
       "</style>\n",
       "<table border=\"1\" class=\"dataframe\">\n",
       "  <thead>\n",
       "    <tr style=\"text-align: right;\">\n",
       "      <th></th>\n",
       "      <th>Status</th>\n",
       "      <th>Adult_Mortality</th>\n",
       "      <th>Infant_Deaths</th>\n",
       "      <th>Hepatitis</th>\n",
       "      <th>Measles</th>\n",
       "      <th>BMI</th>\n",
       "      <th>Underfive_Deaths</th>\n",
       "      <th>Polio</th>\n",
       "      <th>Diphtheria</th>\n",
       "      <th>HIV</th>\n",
       "      <th>GDP</th>\n",
       "      <th>Population</th>\n",
       "      <th>Malnourished10_19</th>\n",
       "      <th>Malnourished5_9</th>\n",
       "      <th>Income_Index</th>\n",
       "      <th>Schooling</th>\n",
       "      <th>Expected</th>\n",
       "    </tr>\n",
       "    <tr>\n",
       "      <th>Country</th>\n",
       "      <th></th>\n",
       "      <th></th>\n",
       "      <th></th>\n",
       "      <th></th>\n",
       "      <th></th>\n",
       "      <th></th>\n",
       "      <th></th>\n",
       "      <th></th>\n",
       "      <th></th>\n",
       "      <th></th>\n",
       "      <th></th>\n",
       "      <th></th>\n",
       "      <th></th>\n",
       "      <th></th>\n",
       "      <th></th>\n",
       "      <th></th>\n",
       "      <th></th>\n",
       "    </tr>\n",
       "  </thead>\n",
       "  <tbody>\n",
       "    <tr>\n",
       "      <th>Afghanistan</th>\n",
       "      <td>1</td>\n",
       "      <td>263</td>\n",
       "      <td>62</td>\n",
       "      <td>65</td>\n",
       "      <td>1154</td>\n",
       "      <td>19.1</td>\n",
       "      <td>83</td>\n",
       "      <td>6</td>\n",
       "      <td>65</td>\n",
       "      <td>0.1</td>\n",
       "      <td>584.259210</td>\n",
       "      <td>33736494</td>\n",
       "      <td>17.2</td>\n",
       "      <td>17.3</td>\n",
       "      <td>0.479</td>\n",
       "      <td>10.1</td>\n",
       "      <td>65.0</td>\n",
       "    </tr>\n",
       "    <tr>\n",
       "      <th>Albania</th>\n",
       "      <td>1</td>\n",
       "      <td>8</td>\n",
       "      <td>0</td>\n",
       "      <td>98</td>\n",
       "      <td>0</td>\n",
       "      <td>57.2</td>\n",
       "      <td>1</td>\n",
       "      <td>98</td>\n",
       "      <td>98</td>\n",
       "      <td>0.1</td>\n",
       "      <td>4575.763787</td>\n",
       "      <td>288914</td>\n",
       "      <td>1.2</td>\n",
       "      <td>1.3</td>\n",
       "      <td>0.761</td>\n",
       "      <td>14.2</td>\n",
       "      <td>77.5</td>\n",
       "    </tr>\n",
       "    <tr>\n",
       "      <th>Algeria</th>\n",
       "      <td>1</td>\n",
       "      <td>19</td>\n",
       "      <td>21</td>\n",
       "      <td>95</td>\n",
       "      <td>63</td>\n",
       "      <td>59.5</td>\n",
       "      <td>24</td>\n",
       "      <td>95</td>\n",
       "      <td>95</td>\n",
       "      <td>0.1</td>\n",
       "      <td>4132.762920</td>\n",
       "      <td>39871528</td>\n",
       "      <td>6.0</td>\n",
       "      <td>5.8</td>\n",
       "      <td>0.743</td>\n",
       "      <td>14.4</td>\n",
       "      <td>75.6</td>\n",
       "    </tr>\n",
       "    <tr>\n",
       "      <th>Angola</th>\n",
       "      <td>1</td>\n",
       "      <td>335</td>\n",
       "      <td>66</td>\n",
       "      <td>64</td>\n",
       "      <td>118</td>\n",
       "      <td>23.3</td>\n",
       "      <td>98</td>\n",
       "      <td>7</td>\n",
       "      <td>64</td>\n",
       "      <td>1.9</td>\n",
       "      <td>3695.793748</td>\n",
       "      <td>2785935</td>\n",
       "      <td>8.3</td>\n",
       "      <td>8.2</td>\n",
       "      <td>0.531</td>\n",
       "      <td>11.4</td>\n",
       "      <td>52.4</td>\n",
       "    </tr>\n",
       "    <tr>\n",
       "      <th>Argentina</th>\n",
       "      <td>1</td>\n",
       "      <td>116</td>\n",
       "      <td>8</td>\n",
       "      <td>94</td>\n",
       "      <td>0</td>\n",
       "      <td>62.8</td>\n",
       "      <td>9</td>\n",
       "      <td>93</td>\n",
       "      <td>94</td>\n",
       "      <td>0.1</td>\n",
       "      <td>13467.123600</td>\n",
       "      <td>43417765</td>\n",
       "      <td>1.0</td>\n",
       "      <td>0.9</td>\n",
       "      <td>0.826</td>\n",
       "      <td>17.3</td>\n",
       "      <td>76.3</td>\n",
       "    </tr>\n",
       "  </tbody>\n",
       "</table>\n",
       "</div>"
      ],
      "text/plain": [
       "             Status  Adult_Mortality  Infant_Deaths  Hepatitis  Measles   BMI  \\\n",
       "Country                                                                         \n",
       "Afghanistan       1              263             62         65     1154  19.1   \n",
       "Albania           1                8              0         98        0  57.2   \n",
       "Algeria           1               19             21         95       63  59.5   \n",
       "Angola            1              335             66         64      118  23.3   \n",
       "Argentina         1              116              8         94        0  62.8   \n",
       "\n",
       "             Underfive_Deaths  Polio  Diphtheria  HIV           GDP  \\\n",
       "Country                                                               \n",
       "Afghanistan                83      6          65  0.1    584.259210   \n",
       "Albania                     1     98          98  0.1   4575.763787   \n",
       "Algeria                    24     95          95  0.1   4132.762920   \n",
       "Angola                     98      7          64  1.9   3695.793748   \n",
       "Argentina                   9     93          94  0.1  13467.123600   \n",
       "\n",
       "             Population  Malnourished10_19  Malnourished5_9  Income_Index  \\\n",
       "Country                                                                     \n",
       "Afghanistan    33736494               17.2             17.3         0.479   \n",
       "Albania          288914                1.2              1.3         0.761   \n",
       "Algeria        39871528                6.0              5.8         0.743   \n",
       "Angola          2785935                8.3              8.2         0.531   \n",
       "Argentina      43417765                1.0              0.9         0.826   \n",
       "\n",
       "             Schooling  Expected  \n",
       "Country                           \n",
       "Afghanistan       10.1      65.0  \n",
       "Albania           14.2      77.5  \n",
       "Algeria           14.4      75.6  \n",
       "Angola            11.4      52.4  \n",
       "Argentina         17.3      76.3  "
      ]
     },
     "execution_count": 40,
     "metadata": {},
     "output_type": "execute_result"
    }
   ],
   "source": [
    "data1=data.set_index('Country')\n",
    "data1.head()"
   ]
  },
  {
   "cell_type": "code",
   "execution_count": 41,
   "metadata": {},
   "outputs": [
    {
     "data": {
      "text/plain": [
       "Index(['Status', 'Adult_Mortality', 'Infant_Deaths', 'Hepatitis', 'Measles',\n",
       "       'BMI', 'Underfive_Deaths', 'Polio', 'Diphtheria', 'HIV', 'GDP',\n",
       "       'Population', 'Malnourished10_19', 'Malnourished5_9', 'Income_Index',\n",
       "       'Schooling', 'Expected'],\n",
       "      dtype='object')"
      ]
     },
     "execution_count": 41,
     "metadata": {},
     "output_type": "execute_result"
    }
   ],
   "source": [
    "data1.columns"
   ]
  },
  {
   "cell_type": "code",
   "execution_count": 42,
   "metadata": {},
   "outputs": [],
   "source": [
    "import statsmodels.api as sm"
   ]
  },
  {
   "cell_type": "code",
   "execution_count": 43,
   "metadata": {},
   "outputs": [
    {
     "name": "stdout",
     "output_type": "stream",
     "text": [
      "<class 'pandas.core.frame.DataFrame'>\n",
      "Index: 124 entries, Afghanistan to Zimbabwe\n",
      "Data columns (total 17 columns):\n",
      " #   Column             Non-Null Count  Dtype  \n",
      "---  ------             --------------  -----  \n",
      " 0   Status             124 non-null    int32  \n",
      " 1   Adult_Mortality    124 non-null    int64  \n",
      " 2   Infant_Deaths      124 non-null    int64  \n",
      " 3   Hepatitis          124 non-null    int64  \n",
      " 4   Measles            124 non-null    int64  \n",
      " 5   BMI                124 non-null    float64\n",
      " 6   Underfive_Deaths   124 non-null    int64  \n",
      " 7   Polio              124 non-null    int64  \n",
      " 8   Diphtheria         124 non-null    int64  \n",
      " 9   HIV                124 non-null    float64\n",
      " 10  GDP                124 non-null    float64\n",
      " 11  Population         124 non-null    int64  \n",
      " 12  Malnourished10_19  124 non-null    float64\n",
      " 13  Malnourished5_9    124 non-null    float64\n",
      " 14  Income_Index       124 non-null    float64\n",
      " 15  Schooling          124 non-null    float64\n",
      " 16  Expected           124 non-null    float64\n",
      "dtypes: float64(8), int32(1), int64(8)\n",
      "memory usage: 17.0+ KB\n"
     ]
    }
   ],
   "source": [
    "data1.info()"
   ]
  },
  {
   "cell_type": "code",
   "execution_count": 44,
   "metadata": {},
   "outputs": [],
   "source": [
    "out=data1['Expected']\n",
    "inp=data1.drop('Expected',axis=1)"
   ]
  },
  {
   "cell_type": "code",
   "execution_count": 45,
   "metadata": {},
   "outputs": [
    {
     "data": {
      "text/html": [
       "<table class=\"simpletable\">\n",
       "<caption>OLS Regression Results</caption>\n",
       "<tr>\n",
       "  <th>Dep. Variable:</th>        <td>Expected</td>     <th>  R-squared:         </th> <td>   0.848</td>\n",
       "</tr>\n",
       "<tr>\n",
       "  <th>Model:</th>                   <td>OLS</td>       <th>  Adj. R-squared:    </th> <td>   0.826</td>\n",
       "</tr>\n",
       "<tr>\n",
       "  <th>Method:</th>             <td>Least Squares</td>  <th>  F-statistic:       </th> <td>   37.43</td>\n",
       "</tr>\n",
       "<tr>\n",
       "  <th>Date:</th>             <td>Wed, 09 Dec 2020</td> <th>  Prob (F-statistic):</th> <td>1.94e-36</td>\n",
       "</tr>\n",
       "<tr>\n",
       "  <th>Time:</th>                 <td>17:53:37</td>     <th>  Log-Likelihood:    </th> <td> -323.38</td>\n",
       "</tr>\n",
       "<tr>\n",
       "  <th>No. Observations:</th>      <td>   124</td>      <th>  AIC:               </th> <td>   680.8</td>\n",
       "</tr>\n",
       "<tr>\n",
       "  <th>Df Residuals:</th>          <td>   107</td>      <th>  BIC:               </th> <td>   728.7</td>\n",
       "</tr>\n",
       "<tr>\n",
       "  <th>Df Model:</th>              <td>    16</td>      <th>                     </th>     <td> </td>   \n",
       "</tr>\n",
       "<tr>\n",
       "  <th>Covariance Type:</th>      <td>nonrobust</td>    <th>                     </th>     <td> </td>   \n",
       "</tr>\n",
       "</table>\n",
       "<table class=\"simpletable\">\n",
       "<tr>\n",
       "          <td></td>             <th>coef</th>     <th>std err</th>      <th>t</th>      <th>P>|t|</th>  <th>[0.025</th>    <th>0.975]</th>  \n",
       "</tr>\n",
       "<tr>\n",
       "  <th>const</th>             <td>   60.0678</td> <td>    3.747</td> <td>   16.030</td> <td> 0.000</td> <td>   52.639</td> <td>   67.496</td>\n",
       "</tr>\n",
       "<tr>\n",
       "  <th>Status</th>            <td>   -2.0360</td> <td>    1.168</td> <td>   -1.743</td> <td> 0.084</td> <td>   -4.352</td> <td>    0.280</td>\n",
       "</tr>\n",
       "<tr>\n",
       "  <th>Adult_Mortality</th>   <td>   -0.0231</td> <td>    0.004</td> <td>   -5.685</td> <td> 0.000</td> <td>   -0.031</td> <td>   -0.015</td>\n",
       "</tr>\n",
       "<tr>\n",
       "  <th>Infant_Deaths</th>     <td>    0.0556</td> <td>    0.037</td> <td>    1.507</td> <td> 0.135</td> <td>   -0.018</td> <td>    0.129</td>\n",
       "</tr>\n",
       "<tr>\n",
       "  <th>Hepatitis</th>         <td>    0.0656</td> <td>    0.032</td> <td>    2.056</td> <td> 0.042</td> <td>    0.002</td> <td>    0.129</td>\n",
       "</tr>\n",
       "<tr>\n",
       "  <th>Measles</th>           <td> -5.93e-05</td> <td> 6.09e-05</td> <td>   -0.974</td> <td> 0.332</td> <td>   -0.000</td> <td> 6.14e-05</td>\n",
       "</tr>\n",
       "<tr>\n",
       "  <th>BMI</th>               <td>   -0.0266</td> <td>    0.023</td> <td>   -1.179</td> <td> 0.241</td> <td>   -0.071</td> <td>    0.018</td>\n",
       "</tr>\n",
       "<tr>\n",
       "  <th>Underfive_Deaths</th>  <td>   -0.0389</td> <td>    0.027</td> <td>   -1.439</td> <td> 0.153</td> <td>   -0.093</td> <td>    0.015</td>\n",
       "</tr>\n",
       "<tr>\n",
       "  <th>Polio</th>             <td>   -0.0091</td> <td>    0.022</td> <td>   -0.417</td> <td> 0.677</td> <td>   -0.053</td> <td>    0.034</td>\n",
       "</tr>\n",
       "<tr>\n",
       "  <th>Diphtheria</th>        <td>   -0.0345</td> <td>    0.040</td> <td>   -0.868</td> <td> 0.387</td> <td>   -0.113</td> <td>    0.044</td>\n",
       "</tr>\n",
       "<tr>\n",
       "  <th>HIV</th>               <td>   -1.0385</td> <td>    0.268</td> <td>   -3.881</td> <td> 0.000</td> <td>   -1.569</td> <td>   -0.508</td>\n",
       "</tr>\n",
       "<tr>\n",
       "  <th>GDP</th>               <td> 5.021e-05</td> <td> 3.48e-05</td> <td>    1.445</td> <td> 0.151</td> <td>-1.87e-05</td> <td>    0.000</td>\n",
       "</tr>\n",
       "<tr>\n",
       "  <th>Population</th>        <td>-1.845e-08</td> <td>  8.6e-09</td> <td>   -2.146</td> <td> 0.034</td> <td>-3.55e-08</td> <td>-1.41e-09</td>\n",
       "</tr>\n",
       "<tr>\n",
       "  <th>Malnourished10_19</th> <td>   -0.4850</td> <td>    0.300</td> <td>   -1.616</td> <td> 0.109</td> <td>   -1.080</td> <td>    0.110</td>\n",
       "</tr>\n",
       "<tr>\n",
       "  <th>Malnourished5_9</th>   <td>    0.2983</td> <td>    0.283</td> <td>    1.053</td> <td> 0.294</td> <td>   -0.263</td> <td>    0.860</td>\n",
       "</tr>\n",
       "<tr>\n",
       "  <th>Income_Index</th>      <td>   18.6518</td> <td>    6.313</td> <td>    2.955</td> <td> 0.004</td> <td>    6.138</td> <td>   31.166</td>\n",
       "</tr>\n",
       "<tr>\n",
       "  <th>Schooling</th>         <td>    0.3599</td> <td>    0.346</td> <td>    1.040</td> <td> 0.301</td> <td>   -0.326</td> <td>    1.046</td>\n",
       "</tr>\n",
       "</table>\n",
       "<table class=\"simpletable\">\n",
       "<tr>\n",
       "  <th>Omnibus:</th>       <td> 6.529</td> <th>  Durbin-Watson:     </th> <td>   1.754</td>\n",
       "</tr>\n",
       "<tr>\n",
       "  <th>Prob(Omnibus):</th> <td> 0.038</td> <th>  Jarque-Bera (JB):  </th> <td>  10.518</td>\n",
       "</tr>\n",
       "<tr>\n",
       "  <th>Skew:</th>          <td> 0.122</td> <th>  Prob(JB):          </th> <td> 0.00520</td>\n",
       "</tr>\n",
       "<tr>\n",
       "  <th>Kurtosis:</th>      <td> 4.406</td> <th>  Cond. No.          </th> <td>9.15e+08</td>\n",
       "</tr>\n",
       "</table><br/><br/>Warnings:<br/>[1] Standard Errors assume that the covariance matrix of the errors is correctly specified.<br/>[2] The condition number is large, 9.15e+08. This might indicate that there are<br/>strong multicollinearity or other numerical problems."
      ],
      "text/plain": [
       "<class 'statsmodels.iolib.summary.Summary'>\n",
       "\"\"\"\n",
       "                            OLS Regression Results                            \n",
       "==============================================================================\n",
       "Dep. Variable:               Expected   R-squared:                       0.848\n",
       "Model:                            OLS   Adj. R-squared:                  0.826\n",
       "Method:                 Least Squares   F-statistic:                     37.43\n",
       "Date:                Wed, 09 Dec 2020   Prob (F-statistic):           1.94e-36\n",
       "Time:                        17:53:37   Log-Likelihood:                -323.38\n",
       "No. Observations:                 124   AIC:                             680.8\n",
       "Df Residuals:                     107   BIC:                             728.7\n",
       "Df Model:                          16                                         \n",
       "Covariance Type:            nonrobust                                         \n",
       "=====================================================================================\n",
       "                        coef    std err          t      P>|t|      [0.025      0.975]\n",
       "-------------------------------------------------------------------------------------\n",
       "const                60.0678      3.747     16.030      0.000      52.639      67.496\n",
       "Status               -2.0360      1.168     -1.743      0.084      -4.352       0.280\n",
       "Adult_Mortality      -0.0231      0.004     -5.685      0.000      -0.031      -0.015\n",
       "Infant_Deaths         0.0556      0.037      1.507      0.135      -0.018       0.129\n",
       "Hepatitis             0.0656      0.032      2.056      0.042       0.002       0.129\n",
       "Measles            -5.93e-05   6.09e-05     -0.974      0.332      -0.000    6.14e-05\n",
       "BMI                  -0.0266      0.023     -1.179      0.241      -0.071       0.018\n",
       "Underfive_Deaths     -0.0389      0.027     -1.439      0.153      -0.093       0.015\n",
       "Polio                -0.0091      0.022     -0.417      0.677      -0.053       0.034\n",
       "Diphtheria           -0.0345      0.040     -0.868      0.387      -0.113       0.044\n",
       "HIV                  -1.0385      0.268     -3.881      0.000      -1.569      -0.508\n",
       "GDP                5.021e-05   3.48e-05      1.445      0.151   -1.87e-05       0.000\n",
       "Population        -1.845e-08    8.6e-09     -2.146      0.034   -3.55e-08   -1.41e-09\n",
       "Malnourished10_19    -0.4850      0.300     -1.616      0.109      -1.080       0.110\n",
       "Malnourished5_9       0.2983      0.283      1.053      0.294      -0.263       0.860\n",
       "Income_Index         18.6518      6.313      2.955      0.004       6.138      31.166\n",
       "Schooling             0.3599      0.346      1.040      0.301      -0.326       1.046\n",
       "==============================================================================\n",
       "Omnibus:                        6.529   Durbin-Watson:                   1.754\n",
       "Prob(Omnibus):                  0.038   Jarque-Bera (JB):               10.518\n",
       "Skew:                           0.122   Prob(JB):                      0.00520\n",
       "Kurtosis:                       4.406   Cond. No.                     9.15e+08\n",
       "==============================================================================\n",
       "\n",
       "Warnings:\n",
       "[1] Standard Errors assume that the covariance matrix of the errors is correctly specified.\n",
       "[2] The condition number is large, 9.15e+08. This might indicate that there are\n",
       "strong multicollinearity or other numerical problems.\n",
       "\"\"\""
      ]
     },
     "execution_count": 45,
     "metadata": {},
     "output_type": "execute_result"
    }
   ],
   "source": [
    "inpc=sm.add_constant(inp)\n",
    "ols=sm.OLS(out,inpc)\n",
    "ols_mod=ols.fit()\n",
    "ols_mod.summary()"
   ]
  },
  {
   "cell_type": "code",
   "execution_count": 46,
   "metadata": {},
   "outputs": [
    {
     "data": {
      "text/plain": [
       "Adult_Mortality    1.144620e-07\n",
       "Hepatitis          4.216878e-02\n",
       "HIV                1.803409e-04\n",
       "Population         3.409536e-02\n",
       "Income_Index       3.849778e-03\n",
       "dtype: float64"
      ]
     },
     "execution_count": 46,
     "metadata": {},
     "output_type": "execute_result"
    }
   ],
   "source": [
    "ols_mod.pvalues[ols_mod.pvalues<0.05][1:]"
   ]
  },
  {
   "cell_type": "raw",
   "metadata": {},
   "source": [
    "The above features are the significant ones"
   ]
  },
  {
   "cell_type": "markdown",
   "metadata": {
    "collapsed": true
   },
   "source": [
    "<table align=\"left\">\n",
    "    <tr>\n",
    "        <td width=\"6%\">\n",
    "            <img src=\"question_icon.png\">\n",
    "        </td>\n",
    "        <td>\n",
    "            <div align=\"left\", style=\"font-size:120%\">\n",
    "                <font color=\"#21618C\">\n",
    "                    <b>6. If economic indices are used to predict the life expectancy, calculate the total variation for the observed values of life expectancy.</b>\n",
    "                </font>\n",
    "            </div>\n",
    "        </td>\n",
    "    </tr>\n",
    "</table>"
   ]
  },
  {
   "cell_type": "code",
   "execution_count": 8,
   "metadata": {},
   "outputs": [],
   "source": [
    "# type your code here\n",
    "\n",
    "# If economic indices are used to predict the life expectancy, \n",
    "# calculate the total variation for the observed values of life expectancy\n",
    "\n",
    "# calculate => ssr,sse\n",
    "#then compute sst=ssr+sse\n",
    "\n",
    "#sst can be done like this also np.sum((out - out.mean())**2)\n",
    "\n",
    "# ip=data['gdp, income index'] #only these two talk about economic indices so we use it\n",
    "# op=data['life expectancy']"
   ]
  },
  {
   "cell_type": "code",
   "execution_count": 17,
   "metadata": {},
   "outputs": [
    {
     "data": {
      "text/plain": [
       "Index(['Country', 'Status', 'Adult_Mortality', 'Infant_Deaths', 'Hepatitis',\n",
       "       'Measles', 'BMI', 'Underfive_Deaths', 'Polio', 'Diphtheria', 'HIV',\n",
       "       'GDP', 'Population', 'Malnourished10_19', 'Malnourished5_9',\n",
       "       'Income_Index', 'Schooling', 'Expected'],\n",
       "      dtype='object')"
      ]
     },
     "execution_count": 17,
     "metadata": {},
     "output_type": "execute_result"
    }
   ],
   "source": [
    "data.columns"
   ]
  },
  {
   "cell_type": "code",
   "execution_count": 39,
   "metadata": {},
   "outputs": [],
   "source": [
    "ip=data[['GDP','Income_Index']] \n",
    "op=data['Expected']"
   ]
  },
  {
   "cell_type": "code",
   "execution_count": 44,
   "metadata": {},
   "outputs": [
    {
     "data": {
      "text/html": [
       "<div>\n",
       "<style scoped>\n",
       "    .dataframe tbody tr th:only-of-type {\n",
       "        vertical-align: middle;\n",
       "    }\n",
       "\n",
       "    .dataframe tbody tr th {\n",
       "        vertical-align: top;\n",
       "    }\n",
       "\n",
       "    .dataframe thead th {\n",
       "        text-align: right;\n",
       "    }\n",
       "</style>\n",
       "<table border=\"1\" class=\"dataframe\">\n",
       "  <thead>\n",
       "    <tr style=\"text-align: right;\">\n",
       "      <th></th>\n",
       "      <th>const</th>\n",
       "      <th>GDP</th>\n",
       "      <th>Income_Index</th>\n",
       "    </tr>\n",
       "  </thead>\n",
       "  <tbody>\n",
       "    <tr>\n",
       "      <th>0</th>\n",
       "      <td>1.0</td>\n",
       "      <td>584.259210</td>\n",
       "      <td>0.479</td>\n",
       "    </tr>\n",
       "    <tr>\n",
       "      <th>1</th>\n",
       "      <td>1.0</td>\n",
       "      <td>4575.763787</td>\n",
       "      <td>0.761</td>\n",
       "    </tr>\n",
       "    <tr>\n",
       "      <th>2</th>\n",
       "      <td>1.0</td>\n",
       "      <td>4132.762920</td>\n",
       "      <td>0.743</td>\n",
       "    </tr>\n",
       "    <tr>\n",
       "      <th>3</th>\n",
       "      <td>1.0</td>\n",
       "      <td>3695.793748</td>\n",
       "      <td>0.531</td>\n",
       "    </tr>\n",
       "    <tr>\n",
       "      <th>4</th>\n",
       "      <td>1.0</td>\n",
       "      <td>13467.123600</td>\n",
       "      <td>0.826</td>\n",
       "    </tr>\n",
       "    <tr>\n",
       "      <th>...</th>\n",
       "      <td>...</td>\n",
       "      <td>...</td>\n",
       "      <td>...</td>\n",
       "    </tr>\n",
       "    <tr>\n",
       "      <th>119</th>\n",
       "      <td>1.0</td>\n",
       "      <td>287.931877</td>\n",
       "      <td>0.388</td>\n",
       "    </tr>\n",
       "    <tr>\n",
       "      <th>120</th>\n",
       "      <td>1.0</td>\n",
       "      <td>236.911438</td>\n",
       "      <td>0.371</td>\n",
       "    </tr>\n",
       "    <tr>\n",
       "      <th>121</th>\n",
       "      <td>1.0</td>\n",
       "      <td>212.661949</td>\n",
       "      <td>0.359</td>\n",
       "    </tr>\n",
       "    <tr>\n",
       "      <th>122</th>\n",
       "      <td>1.0</td>\n",
       "      <td>196.597780</td>\n",
       "      <td>0.343</td>\n",
       "    </tr>\n",
       "    <tr>\n",
       "      <th>123</th>\n",
       "      <td>1.0</td>\n",
       "      <td>21.569654</td>\n",
       "      <td>0.332</td>\n",
       "    </tr>\n",
       "  </tbody>\n",
       "</table>\n",
       "<p>124 rows × 3 columns</p>\n",
       "</div>"
      ],
      "text/plain": [
       "     const           GDP  Income_Index\n",
       "0      1.0    584.259210         0.479\n",
       "1      1.0   4575.763787         0.761\n",
       "2      1.0   4132.762920         0.743\n",
       "3      1.0   3695.793748         0.531\n",
       "4      1.0  13467.123600         0.826\n",
       "..     ...           ...           ...\n",
       "119    1.0    287.931877         0.388\n",
       "120    1.0    236.911438         0.371\n",
       "121    1.0    212.661949         0.359\n",
       "122    1.0    196.597780         0.343\n",
       "123    1.0     21.569654         0.332\n",
       "\n",
       "[124 rows x 3 columns]"
      ]
     },
     "execution_count": 44,
     "metadata": {},
     "output_type": "execute_result"
    }
   ],
   "source": [
    "xc=sm.add_constant(ip)\n",
    "xc"
   ]
  },
  {
   "cell_type": "code",
   "execution_count": 46,
   "metadata": {},
   "outputs": [
    {
     "data": {
      "text/html": [
       "<table class=\"simpletable\">\n",
       "<caption>OLS Regression Results</caption>\n",
       "<tr>\n",
       "  <th>Dep. Variable:</th>        <td>Expected</td>     <th>  R-squared:         </th> <td>   0.713</td>\n",
       "</tr>\n",
       "<tr>\n",
       "  <th>Model:</th>                   <td>OLS</td>       <th>  Adj. R-squared:    </th> <td>   0.709</td>\n",
       "</tr>\n",
       "<tr>\n",
       "  <th>Method:</th>             <td>Least Squares</td>  <th>  F-statistic:       </th> <td>   150.6</td>\n",
       "</tr>\n",
       "<tr>\n",
       "  <th>Date:</th>             <td>Wed, 09 Dec 2020</td> <th>  Prob (F-statistic):</th> <td>1.44e-33</td>\n",
       "</tr>\n",
       "<tr>\n",
       "  <th>Time:</th>                 <td>14:59:19</td>     <th>  Log-Likelihood:    </th> <td> -362.85</td>\n",
       "</tr>\n",
       "<tr>\n",
       "  <th>No. Observations:</th>      <td>   124</td>      <th>  AIC:               </th> <td>   731.7</td>\n",
       "</tr>\n",
       "<tr>\n",
       "  <th>Df Residuals:</th>          <td>   121</td>      <th>  BIC:               </th> <td>   740.2</td>\n",
       "</tr>\n",
       "<tr>\n",
       "  <th>Df Model:</th>              <td>     2</td>      <th>                     </th>     <td> </td>   \n",
       "</tr>\n",
       "<tr>\n",
       "  <th>Covariance Type:</th>      <td>nonrobust</td>    <th>                     </th>     <td> </td>   \n",
       "</tr>\n",
       "</table>\n",
       "<table class=\"simpletable\">\n",
       "<tr>\n",
       "        <td></td>          <th>coef</th>     <th>std err</th>      <th>t</th>      <th>P>|t|</th>  <th>[0.025</th>    <th>0.975]</th>  \n",
       "</tr>\n",
       "<tr>\n",
       "  <th>const</th>        <td>   42.6132</td> <td>    1.865</td> <td>   22.848</td> <td> 0.000</td> <td>   38.921</td> <td>   46.306</td>\n",
       "</tr>\n",
       "<tr>\n",
       "  <th>GDP</th>          <td> 4.515e-05</td> <td> 4.36e-05</td> <td>    1.034</td> <td> 0.303</td> <td>-4.13e-05</td> <td>    0.000</td>\n",
       "</tr>\n",
       "<tr>\n",
       "  <th>Income_Index</th> <td>   40.9705</td> <td>    2.823</td> <td>   14.512</td> <td> 0.000</td> <td>   35.381</td> <td>   46.560</td>\n",
       "</tr>\n",
       "</table>\n",
       "<table class=\"simpletable\">\n",
       "<tr>\n",
       "  <th>Omnibus:</th>       <td> 9.157</td> <th>  Durbin-Watson:     </th> <td>   1.349</td>\n",
       "</tr>\n",
       "<tr>\n",
       "  <th>Prob(Omnibus):</th> <td> 0.010</td> <th>  Jarque-Bera (JB):  </th> <td>  16.954</td>\n",
       "</tr>\n",
       "<tr>\n",
       "  <th>Skew:</th>          <td> 0.232</td> <th>  Prob(JB):          </th> <td>0.000208</td>\n",
       "</tr>\n",
       "<tr>\n",
       "  <th>Kurtosis:</th>      <td> 4.751</td> <th>  Cond. No.          </th> <td>1.05e+05</td>\n",
       "</tr>\n",
       "</table><br/><br/>Warnings:<br/>[1] Standard Errors assume that the covariance matrix of the errors is correctly specified.<br/>[2] The condition number is large, 1.05e+05. This might indicate that there are<br/>strong multicollinearity or other numerical problems."
      ],
      "text/plain": [
       "<class 'statsmodels.iolib.summary.Summary'>\n",
       "\"\"\"\n",
       "                            OLS Regression Results                            \n",
       "==============================================================================\n",
       "Dep. Variable:               Expected   R-squared:                       0.713\n",
       "Model:                            OLS   Adj. R-squared:                  0.709\n",
       "Method:                 Least Squares   F-statistic:                     150.6\n",
       "Date:                Wed, 09 Dec 2020   Prob (F-statistic):           1.44e-33\n",
       "Time:                        14:59:19   Log-Likelihood:                -362.85\n",
       "No. Observations:                 124   AIC:                             731.7\n",
       "Df Residuals:                     121   BIC:                             740.2\n",
       "Df Model:                           2                                         \n",
       "Covariance Type:            nonrobust                                         \n",
       "================================================================================\n",
       "                   coef    std err          t      P>|t|      [0.025      0.975]\n",
       "--------------------------------------------------------------------------------\n",
       "const           42.6132      1.865     22.848      0.000      38.921      46.306\n",
       "GDP           4.515e-05   4.36e-05      1.034      0.303   -4.13e-05       0.000\n",
       "Income_Index    40.9705      2.823     14.512      0.000      35.381      46.560\n",
       "==============================================================================\n",
       "Omnibus:                        9.157   Durbin-Watson:                   1.349\n",
       "Prob(Omnibus):                  0.010   Jarque-Bera (JB):               16.954\n",
       "Skew:                           0.232   Prob(JB):                     0.000208\n",
       "Kurtosis:                       4.751   Cond. No.                     1.05e+05\n",
       "==============================================================================\n",
       "\n",
       "Warnings:\n",
       "[1] Standard Errors assume that the covariance matrix of the errors is correctly specified.\n",
       "[2] The condition number is large, 1.05e+05. This might indicate that there are\n",
       "strong multicollinearity or other numerical problems.\n",
       "\"\"\""
      ]
     },
     "execution_count": 46,
     "metadata": {},
     "output_type": "execute_result"
    }
   ],
   "source": [
    "ols=sm.OLS(op,xc)\n",
    "ols_mod=ols.fit()\n",
    "ols_mod.summary()"
   ]
  },
  {
   "cell_type": "code",
   "execution_count": 47,
   "metadata": {},
   "outputs": [],
   "source": [
    "ypred=ols_mod.predict(xc)"
   ]
  },
  {
   "cell_type": "code",
   "execution_count": 48,
   "metadata": {},
   "outputs": [
    {
     "data": {
      "text/plain": [
       "0       2.735571\n",
       "1       3.501660\n",
       "2       2.359132\n",
       "3     -12.135391\n",
       "4      -0.762897\n",
       "         ...    \n",
       "119    -3.222734\n",
       "120    -4.423931\n",
       "121    -5.331190\n",
       "122     0.325063\n",
       "123    -7.616358\n",
       "Length: 124, dtype: float64"
      ]
     },
     "execution_count": 48,
     "metadata": {},
     "output_type": "execute_result"
    }
   ],
   "source": [
    "residue=op-ypred\n",
    "residue"
   ]
  },
  {
   "cell_type": "code",
   "execution_count": 50,
   "metadata": {},
   "outputs": [
    {
     "data": {
      "text/plain": [
       "6292.571603999805"
      ]
     },
     "execution_count": 50,
     "metadata": {},
     "output_type": "execute_result"
    }
   ],
   "source": [
    "ssr=np.sum((op.mean() - ypred)**2)\n",
    "ssr"
   ]
  },
  {
   "cell_type": "code",
   "execution_count": 51,
   "metadata": {},
   "outputs": [
    {
     "data": {
      "text/plain": [
       "2527.2338798711353"
      ]
     },
     "execution_count": 51,
     "metadata": {},
     "output_type": "execute_result"
    }
   ],
   "source": [
    "sse=np.sum((op-ypred)**2)\n",
    "sse"
   ]
  },
  {
   "cell_type": "code",
   "execution_count": 52,
   "metadata": {},
   "outputs": [
    {
     "data": {
      "text/plain": [
       "8819.80548387094"
      ]
     },
     "execution_count": 52,
     "metadata": {},
     "output_type": "execute_result"
    }
   ],
   "source": [
    "sst=sse+ssr\n",
    "sst"
   ]
  },
  {
   "cell_type": "raw",
   "metadata": {},
   "source": [
    "Direct method to find sst is shown below."
   ]
  },
  {
   "cell_type": "code",
   "execution_count": null,
   "metadata": {},
   "outputs": [],
   "source": [
    "sst= np.sum((op - op.mean())**2)\n",
    "sst"
   ]
  },
  {
   "cell_type": "code",
   "execution_count": null,
   "metadata": {},
   "outputs": [],
   "source": []
  },
  {
   "cell_type": "markdown",
   "metadata": {
    "collapsed": true
   },
   "source": [
    "<table align=\"left\">\n",
    "    <tr>\n",
    "        <td width=\"6%\">\n",
    "            <img src=\"question_icon.png\">\n",
    "        </td>\n",
    "        <td>\n",
    "            <div align=\"left\", style=\"font-size:120%\">\n",
    "                <font color=\"#21618C\">\n",
    "                    <b>7. Determine the lower bound and upper bound for estimated value of life expectancy per unit change in HDI (for income)</b>\n",
    "                </font>\n",
    "            </div>\n",
    "        </td>\n",
    "    </tr>\n",
    "</table>"
   ]
  },
  {
   "cell_type": "code",
   "execution_count": 9,
   "metadata": {},
   "outputs": [],
   "source": [
    "# type your code here\n",
    "\n",
    "#CI for HDI is asked.\n",
    "#from ols report print the CI of HDI"
   ]
  },
  {
   "cell_type": "code",
   "execution_count": 55,
   "metadata": {},
   "outputs": [
    {
     "data": {
      "text/html": [
       "<table class=\"simpletable\">\n",
       "<caption>OLS Regression Results</caption>\n",
       "<tr>\n",
       "  <th>Dep. Variable:</th>        <td>Expected</td>     <th>  R-squared:         </th> <td>   0.713</td>\n",
       "</tr>\n",
       "<tr>\n",
       "  <th>Model:</th>                   <td>OLS</td>       <th>  Adj. R-squared:    </th> <td>   0.709</td>\n",
       "</tr>\n",
       "<tr>\n",
       "  <th>Method:</th>             <td>Least Squares</td>  <th>  F-statistic:       </th> <td>   150.6</td>\n",
       "</tr>\n",
       "<tr>\n",
       "  <th>Date:</th>             <td>Wed, 09 Dec 2020</td> <th>  Prob (F-statistic):</th> <td>1.44e-33</td>\n",
       "</tr>\n",
       "<tr>\n",
       "  <th>Time:</th>                 <td>15:10:21</td>     <th>  Log-Likelihood:    </th> <td> -362.85</td>\n",
       "</tr>\n",
       "<tr>\n",
       "  <th>No. Observations:</th>      <td>   124</td>      <th>  AIC:               </th> <td>   731.7</td>\n",
       "</tr>\n",
       "<tr>\n",
       "  <th>Df Residuals:</th>          <td>   121</td>      <th>  BIC:               </th> <td>   740.2</td>\n",
       "</tr>\n",
       "<tr>\n",
       "  <th>Df Model:</th>              <td>     2</td>      <th>                     </th>     <td> </td>   \n",
       "</tr>\n",
       "<tr>\n",
       "  <th>Covariance Type:</th>      <td>nonrobust</td>    <th>                     </th>     <td> </td>   \n",
       "</tr>\n",
       "</table>\n",
       "<table class=\"simpletable\">\n",
       "<tr>\n",
       "        <td></td>          <th>coef</th>     <th>std err</th>      <th>t</th>      <th>P>|t|</th>  <th>[0.025</th>    <th>0.975]</th>  \n",
       "</tr>\n",
       "<tr>\n",
       "  <th>const</th>        <td>   42.6132</td> <td>    1.865</td> <td>   22.848</td> <td> 0.000</td> <td>   38.921</td> <td>   46.306</td>\n",
       "</tr>\n",
       "<tr>\n",
       "  <th>GDP</th>          <td> 4.515e-05</td> <td> 4.36e-05</td> <td>    1.034</td> <td> 0.303</td> <td>-4.13e-05</td> <td>    0.000</td>\n",
       "</tr>\n",
       "<tr>\n",
       "  <th>Income_Index</th> <td>   40.9705</td> <td>    2.823</td> <td>   14.512</td> <td> 0.000</td> <td>   35.381</td> <td>   46.560</td>\n",
       "</tr>\n",
       "</table>\n",
       "<table class=\"simpletable\">\n",
       "<tr>\n",
       "  <th>Omnibus:</th>       <td> 9.157</td> <th>  Durbin-Watson:     </th> <td>   1.349</td>\n",
       "</tr>\n",
       "<tr>\n",
       "  <th>Prob(Omnibus):</th> <td> 0.010</td> <th>  Jarque-Bera (JB):  </th> <td>  16.954</td>\n",
       "</tr>\n",
       "<tr>\n",
       "  <th>Skew:</th>          <td> 0.232</td> <th>  Prob(JB):          </th> <td>0.000208</td>\n",
       "</tr>\n",
       "<tr>\n",
       "  <th>Kurtosis:</th>      <td> 4.751</td> <th>  Cond. No.          </th> <td>1.05e+05</td>\n",
       "</tr>\n",
       "</table><br/><br/>Warnings:<br/>[1] Standard Errors assume that the covariance matrix of the errors is correctly specified.<br/>[2] The condition number is large, 1.05e+05. This might indicate that there are<br/>strong multicollinearity or other numerical problems."
      ],
      "text/plain": [
       "<class 'statsmodels.iolib.summary.Summary'>\n",
       "\"\"\"\n",
       "                            OLS Regression Results                            \n",
       "==============================================================================\n",
       "Dep. Variable:               Expected   R-squared:                       0.713\n",
       "Model:                            OLS   Adj. R-squared:                  0.709\n",
       "Method:                 Least Squares   F-statistic:                     150.6\n",
       "Date:                Wed, 09 Dec 2020   Prob (F-statistic):           1.44e-33\n",
       "Time:                        15:10:21   Log-Likelihood:                -362.85\n",
       "No. Observations:                 124   AIC:                             731.7\n",
       "Df Residuals:                     121   BIC:                             740.2\n",
       "Df Model:                           2                                         \n",
       "Covariance Type:            nonrobust                                         \n",
       "================================================================================\n",
       "                   coef    std err          t      P>|t|      [0.025      0.975]\n",
       "--------------------------------------------------------------------------------\n",
       "const           42.6132      1.865     22.848      0.000      38.921      46.306\n",
       "GDP           4.515e-05   4.36e-05      1.034      0.303   -4.13e-05       0.000\n",
       "Income_Index    40.9705      2.823     14.512      0.000      35.381      46.560\n",
       "==============================================================================\n",
       "Omnibus:                        9.157   Durbin-Watson:                   1.349\n",
       "Prob(Omnibus):                  0.010   Jarque-Bera (JB):               16.954\n",
       "Skew:                           0.232   Prob(JB):                     0.000208\n",
       "Kurtosis:                       4.751   Cond. No.                     1.05e+05\n",
       "==============================================================================\n",
       "\n",
       "Warnings:\n",
       "[1] Standard Errors assume that the covariance matrix of the errors is correctly specified.\n",
       "[2] The condition number is large, 1.05e+05. This might indicate that there are\n",
       "strong multicollinearity or other numerical problems.\n",
       "\"\"\""
      ]
     },
     "execution_count": 55,
     "metadata": {},
     "output_type": "execute_result"
    }
   ],
   "source": [
    "ols_mod.summary()"
   ]
  },
  {
   "cell_type": "code",
   "execution_count": 70,
   "metadata": {},
   "outputs": [
    {
     "data": {
      "text/html": [
       "<div>\n",
       "<style scoped>\n",
       "    .dataframe tbody tr th:only-of-type {\n",
       "        vertical-align: middle;\n",
       "    }\n",
       "\n",
       "    .dataframe tbody tr th {\n",
       "        vertical-align: top;\n",
       "    }\n",
       "\n",
       "    .dataframe thead th {\n",
       "        text-align: right;\n",
       "    }\n",
       "</style>\n",
       "<table border=\"1\" class=\"dataframe\">\n",
       "  <thead>\n",
       "    <tr style=\"text-align: right;\">\n",
       "      <th></th>\n",
       "      <th>0</th>\n",
       "      <th>1</th>\n",
       "    </tr>\n",
       "  </thead>\n",
       "  <tbody>\n",
       "    <tr>\n",
       "      <th>Adult_Mortality</th>\n",
       "      <td>-4.948184e-02</td>\n",
       "      <td>-2.898888e-02</td>\n",
       "    </tr>\n",
       "    <tr>\n",
       "      <th>Infant_Deaths</th>\n",
       "      <td>-5.761288e-02</td>\n",
       "      <td>1.112210e-01</td>\n",
       "    </tr>\n",
       "    <tr>\n",
       "      <th>Underfive_Deaths</th>\n",
       "      <td>-9.300904e-02</td>\n",
       "      <td>3.811942e-02</td>\n",
       "    </tr>\n",
       "    <tr>\n",
       "      <th>HIV</th>\n",
       "      <td>-2.706016e+00</td>\n",
       "      <td>-1.521235e+00</td>\n",
       "    </tr>\n",
       "    <tr>\n",
       "      <th>Population</th>\n",
       "      <td>-3.138319e-08</td>\n",
       "      <td>1.300337e-08</td>\n",
       "    </tr>\n",
       "  </tbody>\n",
       "</table>\n",
       "</div>"
      ],
      "text/plain": [
       "                             0             1\n",
       "Adult_Mortality  -4.948184e-02 -2.898888e-02\n",
       "Infant_Deaths    -5.761288e-02  1.112210e-01\n",
       "Underfive_Deaths -9.300904e-02  3.811942e-02\n",
       "HIV              -2.706016e+00 -1.521235e+00\n",
       "Population       -3.138319e-08  1.300337e-08"
      ]
     },
     "execution_count": 70,
     "metadata": {},
     "output_type": "execute_result"
    }
   ],
   "source": [
    "ols_mod.conf_int()[1:]"
   ]
  },
  {
   "cell_type": "markdown",
   "metadata": {},
   "source": [
    "<a id=\"ML_eval\"> </a>\n",
    "## 4. Model Evaluation"
   ]
  },
  {
   "cell_type": "markdown",
   "metadata": {
    "collapsed": true
   },
   "source": [
    "<table align=\"left\">\n",
    "    <tr>\n",
    "        <td width=\"6%\">\n",
    "            <img src=\"question_icon.png\">\n",
    "        </td>\n",
    "        <td>\n",
    "            <div align=\"left\", style=\"font-size:120%\">\n",
    "                <font color=\"#21618C\">\n",
    "                    <b>8. A model is built to analyze the impact of mortality on Life expectancy. Would the addition of information about population of the country lead to a better prediction?</b>\n",
    "                </font>\n",
    "            </div>\n",
    "        </td>\n",
    "    </tr>\n",
    "</table>"
   ]
  },
  {
   "cell_type": "raw",
   "metadata": {},
   "source": [
    "# type your code here\n",
    "\n",
    "Two models to be built \n",
    "\n",
    "Model 1: \n",
    "    inp=['Adult morat','infant death','Underfive_Deaths','HIV']\n",
    "    op=['Life expecatancy']\n",
    "    \n",
    "find R**2\n",
    "\n",
    "Model 2:\n",
    "    inp=['Adult morat','infant death','Underfive_Deaths','HIV','population']\n",
    "    op=['Life expecatancy']\n",
    "    \n",
    "find R**2 and pvalue of population\n",
    "\n",
    "Ho=if pvalue<0.05 for popultation is model is good\n",
    "Ha=if pvalue>0.05 for popultation is model is useless"
   ]
  },
  {
   "cell_type": "markdown",
   "metadata": {},
   "source": [
    "# Model 1"
   ]
  },
  {
   "cell_type": "code",
   "execution_count": 58,
   "metadata": {},
   "outputs": [
    {
     "data": {
      "text/plain": [
       "Index(['Country', 'Status', 'Adult_Mortality', 'Infant_Deaths', 'Hepatitis',\n",
       "       'Measles', 'BMI', 'Underfive_Deaths', 'Polio', 'Diphtheria', 'HIV',\n",
       "       'GDP', 'Population', 'Malnourished10_19', 'Malnourished5_9',\n",
       "       'Income_Index', 'Schooling', 'Expected'],\n",
       "      dtype='object')"
      ]
     },
     "execution_count": 58,
     "metadata": {},
     "output_type": "execute_result"
    }
   ],
   "source": [
    "data.columns"
   ]
  },
  {
   "cell_type": "code",
   "execution_count": 60,
   "metadata": {},
   "outputs": [],
   "source": [
    "model1_inp=data[['Adult_Mortality','Infant_Deaths','Underfive_Deaths','HIV']]\n",
    "model1_op=data['Expected']"
   ]
  },
  {
   "cell_type": "code",
   "execution_count": 62,
   "metadata": {},
   "outputs": [],
   "source": [
    "model1_inpc=sm.add_constant(model1_inp)"
   ]
  },
  {
   "cell_type": "code",
   "execution_count": 66,
   "metadata": {},
   "outputs": [
    {
     "data": {
      "text/html": [
       "<table class=\"simpletable\">\n",
       "<caption>OLS Regression Results</caption>\n",
       "<tr>\n",
       "  <th>Dep. Variable:</th>        <td>Expected</td>     <th>  R-squared:         </th> <td>   0.669</td>\n",
       "</tr>\n",
       "<tr>\n",
       "  <th>Model:</th>                   <td>OLS</td>       <th>  Adj. R-squared:    </th> <td>   0.657</td>\n",
       "</tr>\n",
       "<tr>\n",
       "  <th>Method:</th>             <td>Least Squares</td>  <th>  F-statistic:       </th> <td>   60.00</td>\n",
       "</tr>\n",
       "<tr>\n",
       "  <th>Date:</th>             <td>Wed, 09 Dec 2020</td> <th>  Prob (F-statistic):</th> <td>1.20e-27</td>\n",
       "</tr>\n",
       "<tr>\n",
       "  <th>Time:</th>                 <td>15:42:32</td>     <th>  Log-Likelihood:    </th> <td> -371.89</td>\n",
       "</tr>\n",
       "<tr>\n",
       "  <th>No. Observations:</th>      <td>   124</td>      <th>  AIC:               </th> <td>   753.8</td>\n",
       "</tr>\n",
       "<tr>\n",
       "  <th>Df Residuals:</th>          <td>   119</td>      <th>  BIC:               </th> <td>   767.9</td>\n",
       "</tr>\n",
       "<tr>\n",
       "  <th>Df Model:</th>              <td>     4</td>      <th>                     </th>     <td> </td>   \n",
       "</tr>\n",
       "<tr>\n",
       "  <th>Covariance Type:</th>      <td>nonrobust</td>    <th>                     </th>     <td> </td>   \n",
       "</tr>\n",
       "</table>\n",
       "<table class=\"simpletable\">\n",
       "<tr>\n",
       "          <td></td>            <th>coef</th>     <th>std err</th>      <th>t</th>      <th>P>|t|</th>  <th>[0.025</th>    <th>0.975]</th>  \n",
       "</tr>\n",
       "<tr>\n",
       "  <th>const</th>            <td>   79.6070</td> <td>    0.854</td> <td>   93.252</td> <td> 0.000</td> <td>   77.917</td> <td>   81.297</td>\n",
       "</tr>\n",
       "<tr>\n",
       "  <th>Adult_Mortality</th>  <td>   -0.0400</td> <td>    0.005</td> <td>   -7.882</td> <td> 0.000</td> <td>   -0.050</td> <td>   -0.030</td>\n",
       "</tr>\n",
       "<tr>\n",
       "  <th>Infant_Deaths</th>    <td>    0.0245</td> <td>    0.042</td> <td>    0.576</td> <td> 0.566</td> <td>   -0.060</td> <td>    0.109</td>\n",
       "</tr>\n",
       "<tr>\n",
       "  <th>Underfive_Deaths</th> <td>   -0.0256</td> <td>    0.033</td> <td>   -0.777</td> <td> 0.439</td> <td>   -0.091</td> <td>    0.040</td>\n",
       "</tr>\n",
       "<tr>\n",
       "  <th>HIV</th>              <td>   -2.0705</td> <td>    0.294</td> <td>   -7.041</td> <td> 0.000</td> <td>   -2.653</td> <td>   -1.488</td>\n",
       "</tr>\n",
       "</table>\n",
       "<table class=\"simpletable\">\n",
       "<tr>\n",
       "  <th>Omnibus:</th>       <td>11.940</td> <th>  Durbin-Watson:     </th> <td>   1.673</td>\n",
       "</tr>\n",
       "<tr>\n",
       "  <th>Prob(Omnibus):</th> <td> 0.003</td> <th>  Jarque-Bera (JB):  </th> <td>  12.431</td>\n",
       "</tr>\n",
       "<tr>\n",
       "  <th>Skew:</th>          <td>-0.705</td> <th>  Prob(JB):          </th> <td> 0.00200</td>\n",
       "</tr>\n",
       "<tr>\n",
       "  <th>Kurtosis:</th>      <td> 3.648</td> <th>  Cond. No.          </th> <td>    396.</td>\n",
       "</tr>\n",
       "</table><br/><br/>Warnings:<br/>[1] Standard Errors assume that the covariance matrix of the errors is correctly specified."
      ],
      "text/plain": [
       "<class 'statsmodels.iolib.summary.Summary'>\n",
       "\"\"\"\n",
       "                            OLS Regression Results                            \n",
       "==============================================================================\n",
       "Dep. Variable:               Expected   R-squared:                       0.669\n",
       "Model:                            OLS   Adj. R-squared:                  0.657\n",
       "Method:                 Least Squares   F-statistic:                     60.00\n",
       "Date:                Wed, 09 Dec 2020   Prob (F-statistic):           1.20e-27\n",
       "Time:                        15:42:32   Log-Likelihood:                -371.89\n",
       "No. Observations:                 124   AIC:                             753.8\n",
       "Df Residuals:                     119   BIC:                             767.9\n",
       "Df Model:                           4                                         \n",
       "Covariance Type:            nonrobust                                         \n",
       "====================================================================================\n",
       "                       coef    std err          t      P>|t|      [0.025      0.975]\n",
       "------------------------------------------------------------------------------------\n",
       "const               79.6070      0.854     93.252      0.000      77.917      81.297\n",
       "Adult_Mortality     -0.0400      0.005     -7.882      0.000      -0.050      -0.030\n",
       "Infant_Deaths        0.0245      0.042      0.576      0.566      -0.060       0.109\n",
       "Underfive_Deaths    -0.0256      0.033     -0.777      0.439      -0.091       0.040\n",
       "HIV                 -2.0705      0.294     -7.041      0.000      -2.653      -1.488\n",
       "==============================================================================\n",
       "Omnibus:                       11.940   Durbin-Watson:                   1.673\n",
       "Prob(Omnibus):                  0.003   Jarque-Bera (JB):               12.431\n",
       "Skew:                          -0.705   Prob(JB):                      0.00200\n",
       "Kurtosis:                       3.648   Cond. No.                         396.\n",
       "==============================================================================\n",
       "\n",
       "Warnings:\n",
       "[1] Standard Errors assume that the covariance matrix of the errors is correctly specified.\n",
       "\"\"\""
      ]
     },
     "execution_count": 66,
     "metadata": {},
     "output_type": "execute_result"
    }
   ],
   "source": [
    "ols=sm.OLS(model1_op,model1_inpc)\n",
    "ols_mod=ols.fit()\n",
    "ols_mod.summary()"
   ]
  },
  {
   "cell_type": "code",
   "execution_count": 72,
   "metadata": {},
   "outputs": [
    {
     "data": {
      "text/plain": [
       "0.6703895220880756"
      ]
     },
     "execution_count": 72,
     "metadata": {},
     "output_type": "execute_result"
    }
   ],
   "source": [
    "ols_mod.rsquared"
   ]
  },
  {
   "cell_type": "markdown",
   "metadata": {},
   "source": [
    "# Model 2"
   ]
  },
  {
   "cell_type": "code",
   "execution_count": 67,
   "metadata": {},
   "outputs": [],
   "source": [
    "model2_inp=data[['Adult_Mortality','Infant_Deaths','Underfive_Deaths','HIV','Population']]\n",
    "model2_op=data['Expected']"
   ]
  },
  {
   "cell_type": "code",
   "execution_count": 68,
   "metadata": {},
   "outputs": [],
   "source": [
    "model2_inpc=sm.add_constant(model2_inp)"
   ]
  },
  {
   "cell_type": "code",
   "execution_count": 69,
   "metadata": {},
   "outputs": [
    {
     "data": {
      "text/html": [
       "<table class=\"simpletable\">\n",
       "<caption>OLS Regression Results</caption>\n",
       "<tr>\n",
       "  <th>Dep. Variable:</th>        <td>Expected</td>     <th>  R-squared:         </th> <td>   0.670</td>\n",
       "</tr>\n",
       "<tr>\n",
       "  <th>Model:</th>                   <td>OLS</td>       <th>  Adj. R-squared:    </th> <td>   0.656</td>\n",
       "</tr>\n",
       "<tr>\n",
       "  <th>Method:</th>             <td>Least Squares</td>  <th>  F-statistic:       </th> <td>   48.00</td>\n",
       "</tr>\n",
       "<tr>\n",
       "  <th>Date:</th>             <td>Wed, 09 Dec 2020</td> <th>  Prob (F-statistic):</th> <td>7.13e-27</td>\n",
       "</tr>\n",
       "<tr>\n",
       "  <th>Time:</th>                 <td>15:43:35</td>     <th>  Log-Likelihood:    </th> <td> -371.54</td>\n",
       "</tr>\n",
       "<tr>\n",
       "  <th>No. Observations:</th>      <td>   124</td>      <th>  AIC:               </th> <td>   755.1</td>\n",
       "</tr>\n",
       "<tr>\n",
       "  <th>Df Residuals:</th>          <td>   118</td>      <th>  BIC:               </th> <td>   772.0</td>\n",
       "</tr>\n",
       "<tr>\n",
       "  <th>Df Model:</th>              <td>     5</td>      <th>                     </th>     <td> </td>   \n",
       "</tr>\n",
       "<tr>\n",
       "  <th>Covariance Type:</th>      <td>nonrobust</td>    <th>                     </th>     <td> </td>   \n",
       "</tr>\n",
       "</table>\n",
       "<table class=\"simpletable\">\n",
       "<tr>\n",
       "          <td></td>            <th>coef</th>     <th>std err</th>      <th>t</th>      <th>P>|t|</th>  <th>[0.025</th>    <th>0.975]</th>  \n",
       "</tr>\n",
       "<tr>\n",
       "  <th>const</th>            <td>   79.6984</td> <td>    0.862</td> <td>   92.447</td> <td> 0.000</td> <td>   77.991</td> <td>   81.406</td>\n",
       "</tr>\n",
       "<tr>\n",
       "  <th>Adult_Mortality</th>  <td>   -0.0392</td> <td>    0.005</td> <td>   -7.583</td> <td> 0.000</td> <td>   -0.049</td> <td>   -0.029</td>\n",
       "</tr>\n",
       "<tr>\n",
       "  <th>Infant_Deaths</th>    <td>    0.0268</td> <td>    0.043</td> <td>    0.629</td> <td> 0.531</td> <td>   -0.058</td> <td>    0.111</td>\n",
       "</tr>\n",
       "<tr>\n",
       "  <th>Underfive_Deaths</th> <td>   -0.0274</td> <td>    0.033</td> <td>   -0.829</td> <td> 0.409</td> <td>   -0.093</td> <td>    0.038</td>\n",
       "</tr>\n",
       "<tr>\n",
       "  <th>HIV</th>              <td>   -2.1136</td> <td>    0.299</td> <td>   -7.066</td> <td> 0.000</td> <td>   -2.706</td> <td>   -1.521</td>\n",
       "</tr>\n",
       "<tr>\n",
       "  <th>Population</th>       <td> -9.19e-09</td> <td> 1.12e-08</td> <td>   -0.820</td> <td> 0.414</td> <td>-3.14e-08</td> <td>  1.3e-08</td>\n",
       "</tr>\n",
       "</table>\n",
       "<table class=\"simpletable\">\n",
       "<tr>\n",
       "  <th>Omnibus:</th>       <td>11.447</td> <th>  Durbin-Watson:     </th> <td>   1.678</td>\n",
       "</tr>\n",
       "<tr>\n",
       "  <th>Prob(Omnibus):</th> <td> 0.003</td> <th>  Jarque-Bera (JB):  </th> <td>  11.780</td>\n",
       "</tr>\n",
       "<tr>\n",
       "  <th>Skew:</th>          <td>-0.695</td> <th>  Prob(JB):          </th> <td> 0.00277</td>\n",
       "</tr>\n",
       "<tr>\n",
       "  <th>Kurtosis:</th>      <td> 3.588</td> <th>  Cond. No.          </th> <td>8.77e+07</td>\n",
       "</tr>\n",
       "</table><br/><br/>Warnings:<br/>[1] Standard Errors assume that the covariance matrix of the errors is correctly specified.<br/>[2] The condition number is large, 8.77e+07. This might indicate that there are<br/>strong multicollinearity or other numerical problems."
      ],
      "text/plain": [
       "<class 'statsmodels.iolib.summary.Summary'>\n",
       "\"\"\"\n",
       "                            OLS Regression Results                            \n",
       "==============================================================================\n",
       "Dep. Variable:               Expected   R-squared:                       0.670\n",
       "Model:                            OLS   Adj. R-squared:                  0.656\n",
       "Method:                 Least Squares   F-statistic:                     48.00\n",
       "Date:                Wed, 09 Dec 2020   Prob (F-statistic):           7.13e-27\n",
       "Time:                        15:43:35   Log-Likelihood:                -371.54\n",
       "No. Observations:                 124   AIC:                             755.1\n",
       "Df Residuals:                     118   BIC:                             772.0\n",
       "Df Model:                           5                                         \n",
       "Covariance Type:            nonrobust                                         \n",
       "====================================================================================\n",
       "                       coef    std err          t      P>|t|      [0.025      0.975]\n",
       "------------------------------------------------------------------------------------\n",
       "const               79.6984      0.862     92.447      0.000      77.991      81.406\n",
       "Adult_Mortality     -0.0392      0.005     -7.583      0.000      -0.049      -0.029\n",
       "Infant_Deaths        0.0268      0.043      0.629      0.531      -0.058       0.111\n",
       "Underfive_Deaths    -0.0274      0.033     -0.829      0.409      -0.093       0.038\n",
       "HIV                 -2.1136      0.299     -7.066      0.000      -2.706      -1.521\n",
       "Population        -9.19e-09   1.12e-08     -0.820      0.414   -3.14e-08     1.3e-08\n",
       "==============================================================================\n",
       "Omnibus:                       11.447   Durbin-Watson:                   1.678\n",
       "Prob(Omnibus):                  0.003   Jarque-Bera (JB):               11.780\n",
       "Skew:                          -0.695   Prob(JB):                      0.00277\n",
       "Kurtosis:                       3.588   Cond. No.                     8.77e+07\n",
       "==============================================================================\n",
       "\n",
       "Warnings:\n",
       "[1] Standard Errors assume that the covariance matrix of the errors is correctly specified.\n",
       "[2] The condition number is large, 8.77e+07. This might indicate that there are\n",
       "strong multicollinearity or other numerical problems.\n",
       "\"\"\""
      ]
     },
     "execution_count": 69,
     "metadata": {},
     "output_type": "execute_result"
    }
   ],
   "source": [
    "ols=sm.OLS(model2_op,model2_inpc)\n",
    "ols_mod=ols.fit()\n",
    "ols_mod.summary()"
   ]
  },
  {
   "cell_type": "code",
   "execution_count": 73,
   "metadata": {},
   "outputs": [
    {
     "data": {
      "text/plain": [
       "0.6703895220880756"
      ]
     },
     "execution_count": 73,
     "metadata": {},
     "output_type": "execute_result"
    }
   ],
   "source": [
    "ols_mod.rsquared"
   ]
  },
  {
   "cell_type": "code",
   "execution_count": 76,
   "metadata": {},
   "outputs": [
    {
     "data": {
      "text/plain": [
       "const               6.054277e-112\n",
       "Adult_Mortality      8.495182e-12\n",
       "Infant_Deaths        5.307109e-01\n",
       "Underfive_Deaths     4.088173e-01\n",
       "HIV                  1.202388e-10\n",
       "Population           4.138684e-01\n",
       "dtype: float64"
      ]
     },
     "execution_count": 76,
     "metadata": {},
     "output_type": "execute_result"
    }
   ],
   "source": [
    "ols_mod.pvalues"
   ]
  },
  {
   "cell_type": "raw",
   "metadata": {},
   "source": [
    "No Population doesnt improve the model."
   ]
  },
  {
   "cell_type": "markdown",
   "metadata": {
    "collapsed": true
   },
   "source": [
    "<table align=\"left\">\n",
    "    <tr>\n",
    "        <td width=\"6%\">\n",
    "            <img src=\"question_icon.png\">\n",
    "        </td>\n",
    "        <td>\n",
    "            <div align=\"left\", style=\"font-size:120%\">\n",
    "                <font color=\"#21618C\">\n",
    "                    <b>9. Fit a full model and test the significance of the overall model. <br></b>\n",
    "                </font>\n",
    "            </div>\n",
    "        </td>\n",
    "    </tr>\n",
    "</table>"
   ]
  },
  {
   "cell_type": "code",
   "execution_count": 11,
   "metadata": {
    "scrolled": true
   },
   "outputs": [],
   "source": [
    "# type your code here\n"
   ]
  },
  {
   "cell_type": "code",
   "execution_count": 83,
   "metadata": {},
   "outputs": [],
   "source": [
    "out=data1['Expected']\n",
    "inp=data1.drop('Expected',axis=1)"
   ]
  },
  {
   "cell_type": "code",
   "execution_count": 84,
   "metadata": {},
   "outputs": [],
   "source": [
    "inp_c=sm.add_constant(inp)"
   ]
  },
  {
   "cell_type": "code",
   "execution_count": 85,
   "metadata": {},
   "outputs": [
    {
     "data": {
      "text/html": [
       "<table class=\"simpletable\">\n",
       "<caption>OLS Regression Results</caption>\n",
       "<tr>\n",
       "  <th>Dep. Variable:</th>        <td>Expected</td>     <th>  R-squared:         </th> <td>   0.848</td>\n",
       "</tr>\n",
       "<tr>\n",
       "  <th>Model:</th>                   <td>OLS</td>       <th>  Adj. R-squared:    </th> <td>   0.826</td>\n",
       "</tr>\n",
       "<tr>\n",
       "  <th>Method:</th>             <td>Least Squares</td>  <th>  F-statistic:       </th> <td>   37.43</td>\n",
       "</tr>\n",
       "<tr>\n",
       "  <th>Date:</th>             <td>Wed, 09 Dec 2020</td> <th>  Prob (F-statistic):</th> <td>1.94e-36</td>\n",
       "</tr>\n",
       "<tr>\n",
       "  <th>Time:</th>                 <td>16:11:22</td>     <th>  Log-Likelihood:    </th> <td> -323.38</td>\n",
       "</tr>\n",
       "<tr>\n",
       "  <th>No. Observations:</th>      <td>   124</td>      <th>  AIC:               </th> <td>   680.8</td>\n",
       "</tr>\n",
       "<tr>\n",
       "  <th>Df Residuals:</th>          <td>   107</td>      <th>  BIC:               </th> <td>   728.7</td>\n",
       "</tr>\n",
       "<tr>\n",
       "  <th>Df Model:</th>              <td>    16</td>      <th>                     </th>     <td> </td>   \n",
       "</tr>\n",
       "<tr>\n",
       "  <th>Covariance Type:</th>      <td>nonrobust</td>    <th>                     </th>     <td> </td>   \n",
       "</tr>\n",
       "</table>\n",
       "<table class=\"simpletable\">\n",
       "<tr>\n",
       "          <td></td>             <th>coef</th>     <th>std err</th>      <th>t</th>      <th>P>|t|</th>  <th>[0.025</th>    <th>0.975]</th>  \n",
       "</tr>\n",
       "<tr>\n",
       "  <th>const</th>             <td>   60.0678</td> <td>    3.747</td> <td>   16.030</td> <td> 0.000</td> <td>   52.639</td> <td>   67.496</td>\n",
       "</tr>\n",
       "<tr>\n",
       "  <th>Status</th>            <td>   -2.0360</td> <td>    1.168</td> <td>   -1.743</td> <td> 0.084</td> <td>   -4.352</td> <td>    0.280</td>\n",
       "</tr>\n",
       "<tr>\n",
       "  <th>Adult_Mortality</th>   <td>   -0.0231</td> <td>    0.004</td> <td>   -5.685</td> <td> 0.000</td> <td>   -0.031</td> <td>   -0.015</td>\n",
       "</tr>\n",
       "<tr>\n",
       "  <th>Infant_Deaths</th>     <td>    0.0556</td> <td>    0.037</td> <td>    1.507</td> <td> 0.135</td> <td>   -0.018</td> <td>    0.129</td>\n",
       "</tr>\n",
       "<tr>\n",
       "  <th>Hepatitis</th>         <td>    0.0656</td> <td>    0.032</td> <td>    2.056</td> <td> 0.042</td> <td>    0.002</td> <td>    0.129</td>\n",
       "</tr>\n",
       "<tr>\n",
       "  <th>Measles</th>           <td> -5.93e-05</td> <td> 6.09e-05</td> <td>   -0.974</td> <td> 0.332</td> <td>   -0.000</td> <td> 6.14e-05</td>\n",
       "</tr>\n",
       "<tr>\n",
       "  <th>BMI</th>               <td>   -0.0266</td> <td>    0.023</td> <td>   -1.179</td> <td> 0.241</td> <td>   -0.071</td> <td>    0.018</td>\n",
       "</tr>\n",
       "<tr>\n",
       "  <th>Underfive_Deaths</th>  <td>   -0.0389</td> <td>    0.027</td> <td>   -1.439</td> <td> 0.153</td> <td>   -0.093</td> <td>    0.015</td>\n",
       "</tr>\n",
       "<tr>\n",
       "  <th>Polio</th>             <td>   -0.0091</td> <td>    0.022</td> <td>   -0.417</td> <td> 0.677</td> <td>   -0.053</td> <td>    0.034</td>\n",
       "</tr>\n",
       "<tr>\n",
       "  <th>Diphtheria</th>        <td>   -0.0345</td> <td>    0.040</td> <td>   -0.868</td> <td> 0.387</td> <td>   -0.113</td> <td>    0.044</td>\n",
       "</tr>\n",
       "<tr>\n",
       "  <th>HIV</th>               <td>   -1.0385</td> <td>    0.268</td> <td>   -3.881</td> <td> 0.000</td> <td>   -1.569</td> <td>   -0.508</td>\n",
       "</tr>\n",
       "<tr>\n",
       "  <th>GDP</th>               <td> 5.021e-05</td> <td> 3.48e-05</td> <td>    1.445</td> <td> 0.151</td> <td>-1.87e-05</td> <td>    0.000</td>\n",
       "</tr>\n",
       "<tr>\n",
       "  <th>Population</th>        <td>-1.845e-08</td> <td>  8.6e-09</td> <td>   -2.146</td> <td> 0.034</td> <td>-3.55e-08</td> <td>-1.41e-09</td>\n",
       "</tr>\n",
       "<tr>\n",
       "  <th>Malnourished10_19</th> <td>   -0.4850</td> <td>    0.300</td> <td>   -1.616</td> <td> 0.109</td> <td>   -1.080</td> <td>    0.110</td>\n",
       "</tr>\n",
       "<tr>\n",
       "  <th>Malnourished5_9</th>   <td>    0.2983</td> <td>    0.283</td> <td>    1.053</td> <td> 0.294</td> <td>   -0.263</td> <td>    0.860</td>\n",
       "</tr>\n",
       "<tr>\n",
       "  <th>Income_Index</th>      <td>   18.6518</td> <td>    6.313</td> <td>    2.955</td> <td> 0.004</td> <td>    6.138</td> <td>   31.166</td>\n",
       "</tr>\n",
       "<tr>\n",
       "  <th>Schooling</th>         <td>    0.3599</td> <td>    0.346</td> <td>    1.040</td> <td> 0.301</td> <td>   -0.326</td> <td>    1.046</td>\n",
       "</tr>\n",
       "</table>\n",
       "<table class=\"simpletable\">\n",
       "<tr>\n",
       "  <th>Omnibus:</th>       <td> 6.529</td> <th>  Durbin-Watson:     </th> <td>   1.754</td>\n",
       "</tr>\n",
       "<tr>\n",
       "  <th>Prob(Omnibus):</th> <td> 0.038</td> <th>  Jarque-Bera (JB):  </th> <td>  10.518</td>\n",
       "</tr>\n",
       "<tr>\n",
       "  <th>Skew:</th>          <td> 0.122</td> <th>  Prob(JB):          </th> <td> 0.00520</td>\n",
       "</tr>\n",
       "<tr>\n",
       "  <th>Kurtosis:</th>      <td> 4.406</td> <th>  Cond. No.          </th> <td>9.15e+08</td>\n",
       "</tr>\n",
       "</table><br/><br/>Warnings:<br/>[1] Standard Errors assume that the covariance matrix of the errors is correctly specified.<br/>[2] The condition number is large, 9.15e+08. This might indicate that there are<br/>strong multicollinearity or other numerical problems."
      ],
      "text/plain": [
       "<class 'statsmodels.iolib.summary.Summary'>\n",
       "\"\"\"\n",
       "                            OLS Regression Results                            \n",
       "==============================================================================\n",
       "Dep. Variable:               Expected   R-squared:                       0.848\n",
       "Model:                            OLS   Adj. R-squared:                  0.826\n",
       "Method:                 Least Squares   F-statistic:                     37.43\n",
       "Date:                Wed, 09 Dec 2020   Prob (F-statistic):           1.94e-36\n",
       "Time:                        16:11:22   Log-Likelihood:                -323.38\n",
       "No. Observations:                 124   AIC:                             680.8\n",
       "Df Residuals:                     107   BIC:                             728.7\n",
       "Df Model:                          16                                         \n",
       "Covariance Type:            nonrobust                                         \n",
       "=====================================================================================\n",
       "                        coef    std err          t      P>|t|      [0.025      0.975]\n",
       "-------------------------------------------------------------------------------------\n",
       "const                60.0678      3.747     16.030      0.000      52.639      67.496\n",
       "Status               -2.0360      1.168     -1.743      0.084      -4.352       0.280\n",
       "Adult_Mortality      -0.0231      0.004     -5.685      0.000      -0.031      -0.015\n",
       "Infant_Deaths         0.0556      0.037      1.507      0.135      -0.018       0.129\n",
       "Hepatitis             0.0656      0.032      2.056      0.042       0.002       0.129\n",
       "Measles            -5.93e-05   6.09e-05     -0.974      0.332      -0.000    6.14e-05\n",
       "BMI                  -0.0266      0.023     -1.179      0.241      -0.071       0.018\n",
       "Underfive_Deaths     -0.0389      0.027     -1.439      0.153      -0.093       0.015\n",
       "Polio                -0.0091      0.022     -0.417      0.677      -0.053       0.034\n",
       "Diphtheria           -0.0345      0.040     -0.868      0.387      -0.113       0.044\n",
       "HIV                  -1.0385      0.268     -3.881      0.000      -1.569      -0.508\n",
       "GDP                5.021e-05   3.48e-05      1.445      0.151   -1.87e-05       0.000\n",
       "Population        -1.845e-08    8.6e-09     -2.146      0.034   -3.55e-08   -1.41e-09\n",
       "Malnourished10_19    -0.4850      0.300     -1.616      0.109      -1.080       0.110\n",
       "Malnourished5_9       0.2983      0.283      1.053      0.294      -0.263       0.860\n",
       "Income_Index         18.6518      6.313      2.955      0.004       6.138      31.166\n",
       "Schooling             0.3599      0.346      1.040      0.301      -0.326       1.046\n",
       "==============================================================================\n",
       "Omnibus:                        6.529   Durbin-Watson:                   1.754\n",
       "Prob(Omnibus):                  0.038   Jarque-Bera (JB):               10.518\n",
       "Skew:                           0.122   Prob(JB):                      0.00520\n",
       "Kurtosis:                       4.406   Cond. No.                     9.15e+08\n",
       "==============================================================================\n",
       "\n",
       "Warnings:\n",
       "[1] Standard Errors assume that the covariance matrix of the errors is correctly specified.\n",
       "[2] The condition number is large, 9.15e+08. This might indicate that there are\n",
       "strong multicollinearity or other numerical problems.\n",
       "\"\"\""
      ]
     },
     "execution_count": 85,
     "metadata": {},
     "output_type": "execute_result"
    }
   ],
   "source": [
    "ols=sm.OLS(out,inp_c)\n",
    "ols_mod=ols.fit()\n",
    "ols_mod.summary()"
   ]
  },
  {
   "cell_type": "raw",
   "metadata": {},
   "source": [
    "The model has good significance but there are many features which doesnt contribute to the model"
   ]
  },
  {
   "cell_type": "markdown",
   "metadata": {},
   "source": [
    "<a id=\"assum\"> </a>\n",
    "## 4. Assumptions of Linear Regression"
   ]
  },
  {
   "cell_type": "markdown",
   "metadata": {
    "collapsed": true
   },
   "source": [
    "<table align=\"left\">\n",
    "    <tr>\n",
    "        <td width=\"6%\">\n",
    "            <img src=\"question_icon.png\">\n",
    "        </td>\n",
    "        <td>\n",
    "            <div align=\"left\", style=\"font-size:120%\">\n",
    "                <font color=\"#21618C\">\n",
    "                    <b>10. A model is built using all the features (full model) to predict the life expectancy. Check whether the residuals obtained form the model follow a normal distribution.</b>\n",
    "                </font>\n",
    "            </div>\n",
    "        </td>\n",
    "    </tr>\n",
    "</table>"
   ]
  },
  {
   "cell_type": "code",
   "execution_count": 12,
   "metadata": {},
   "outputs": [],
   "source": [
    "# type your code here"
   ]
  },
  {
   "cell_type": "code",
   "execution_count": 47,
   "metadata": {},
   "outputs": [
    {
     "data": {
      "text/plain": [
       "Index(['Status', 'Adult_Mortality', 'Infant_Deaths', 'Hepatitis', 'Measles',\n",
       "       'BMI', 'Underfive_Deaths', 'Polio', 'Diphtheria', 'HIV', 'GDP',\n",
       "       'Population', 'Malnourished10_19', 'Malnourished5_9', 'Income_Index',\n",
       "       'Schooling', 'Expected'],\n",
       "      dtype='object')"
      ]
     },
     "execution_count": 47,
     "metadata": {},
     "output_type": "execute_result"
    }
   ],
   "source": [
    "data1.columns"
   ]
  },
  {
   "cell_type": "code",
   "execution_count": 48,
   "metadata": {},
   "outputs": [],
   "source": [
    "y=data1['Expected']\n",
    "x=data1.drop('Expected',axis=1)"
   ]
  },
  {
   "cell_type": "code",
   "execution_count": 49,
   "metadata": {},
   "outputs": [
    {
     "data": {
      "text/html": [
       "<div>\n",
       "<style scoped>\n",
       "    .dataframe tbody tr th:only-of-type {\n",
       "        vertical-align: middle;\n",
       "    }\n",
       "\n",
       "    .dataframe tbody tr th {\n",
       "        vertical-align: top;\n",
       "    }\n",
       "\n",
       "    .dataframe thead th {\n",
       "        text-align: right;\n",
       "    }\n",
       "</style>\n",
       "<table border=\"1\" class=\"dataframe\">\n",
       "  <thead>\n",
       "    <tr style=\"text-align: right;\">\n",
       "      <th></th>\n",
       "      <th>Status</th>\n",
       "      <th>Adult_Mortality</th>\n",
       "      <th>Infant_Deaths</th>\n",
       "      <th>Hepatitis</th>\n",
       "      <th>Measles</th>\n",
       "      <th>BMI</th>\n",
       "      <th>Underfive_Deaths</th>\n",
       "      <th>Polio</th>\n",
       "      <th>Diphtheria</th>\n",
       "      <th>HIV</th>\n",
       "      <th>GDP</th>\n",
       "      <th>Population</th>\n",
       "      <th>Malnourished10_19</th>\n",
       "      <th>Malnourished5_9</th>\n",
       "      <th>Income_Index</th>\n",
       "      <th>Schooling</th>\n",
       "    </tr>\n",
       "    <tr>\n",
       "      <th>Country</th>\n",
       "      <th></th>\n",
       "      <th></th>\n",
       "      <th></th>\n",
       "      <th></th>\n",
       "      <th></th>\n",
       "      <th></th>\n",
       "      <th></th>\n",
       "      <th></th>\n",
       "      <th></th>\n",
       "      <th></th>\n",
       "      <th></th>\n",
       "      <th></th>\n",
       "      <th></th>\n",
       "      <th></th>\n",
       "      <th></th>\n",
       "      <th></th>\n",
       "    </tr>\n",
       "  </thead>\n",
       "  <tbody>\n",
       "    <tr>\n",
       "      <th>Afghanistan</th>\n",
       "      <td>1</td>\n",
       "      <td>263</td>\n",
       "      <td>62</td>\n",
       "      <td>65</td>\n",
       "      <td>1154</td>\n",
       "      <td>19.1</td>\n",
       "      <td>83</td>\n",
       "      <td>6</td>\n",
       "      <td>65</td>\n",
       "      <td>0.1</td>\n",
       "      <td>584.259210</td>\n",
       "      <td>33736494</td>\n",
       "      <td>17.2</td>\n",
       "      <td>17.3</td>\n",
       "      <td>0.479</td>\n",
       "      <td>10.1</td>\n",
       "    </tr>\n",
       "    <tr>\n",
       "      <th>Albania</th>\n",
       "      <td>1</td>\n",
       "      <td>8</td>\n",
       "      <td>0</td>\n",
       "      <td>98</td>\n",
       "      <td>0</td>\n",
       "      <td>57.2</td>\n",
       "      <td>1</td>\n",
       "      <td>98</td>\n",
       "      <td>98</td>\n",
       "      <td>0.1</td>\n",
       "      <td>4575.763787</td>\n",
       "      <td>288914</td>\n",
       "      <td>1.2</td>\n",
       "      <td>1.3</td>\n",
       "      <td>0.761</td>\n",
       "      <td>14.2</td>\n",
       "    </tr>\n",
       "    <tr>\n",
       "      <th>Algeria</th>\n",
       "      <td>1</td>\n",
       "      <td>19</td>\n",
       "      <td>21</td>\n",
       "      <td>95</td>\n",
       "      <td>63</td>\n",
       "      <td>59.5</td>\n",
       "      <td>24</td>\n",
       "      <td>95</td>\n",
       "      <td>95</td>\n",
       "      <td>0.1</td>\n",
       "      <td>4132.762920</td>\n",
       "      <td>39871528</td>\n",
       "      <td>6.0</td>\n",
       "      <td>5.8</td>\n",
       "      <td>0.743</td>\n",
       "      <td>14.4</td>\n",
       "    </tr>\n",
       "    <tr>\n",
       "      <th>Angola</th>\n",
       "      <td>1</td>\n",
       "      <td>335</td>\n",
       "      <td>66</td>\n",
       "      <td>64</td>\n",
       "      <td>118</td>\n",
       "      <td>23.3</td>\n",
       "      <td>98</td>\n",
       "      <td>7</td>\n",
       "      <td>64</td>\n",
       "      <td>1.9</td>\n",
       "      <td>3695.793748</td>\n",
       "      <td>2785935</td>\n",
       "      <td>8.3</td>\n",
       "      <td>8.2</td>\n",
       "      <td>0.531</td>\n",
       "      <td>11.4</td>\n",
       "    </tr>\n",
       "    <tr>\n",
       "      <th>Argentina</th>\n",
       "      <td>1</td>\n",
       "      <td>116</td>\n",
       "      <td>8</td>\n",
       "      <td>94</td>\n",
       "      <td>0</td>\n",
       "      <td>62.8</td>\n",
       "      <td>9</td>\n",
       "      <td>93</td>\n",
       "      <td>94</td>\n",
       "      <td>0.1</td>\n",
       "      <td>13467.123600</td>\n",
       "      <td>43417765</td>\n",
       "      <td>1.0</td>\n",
       "      <td>0.9</td>\n",
       "      <td>0.826</td>\n",
       "      <td>17.3</td>\n",
       "    </tr>\n",
       "    <tr>\n",
       "      <th>...</th>\n",
       "      <td>...</td>\n",
       "      <td>...</td>\n",
       "      <td>...</td>\n",
       "      <td>...</td>\n",
       "      <td>...</td>\n",
       "      <td>...</td>\n",
       "      <td>...</td>\n",
       "      <td>...</td>\n",
       "      <td>...</td>\n",
       "      <td>...</td>\n",
       "      <td>...</td>\n",
       "      <td>...</td>\n",
       "      <td>...</td>\n",
       "      <td>...</td>\n",
       "      <td>...</td>\n",
       "      <td>...</td>\n",
       "    </tr>\n",
       "    <tr>\n",
       "      <th>Venezuela</th>\n",
       "      <td>1</td>\n",
       "      <td>37</td>\n",
       "      <td>24</td>\n",
       "      <td>95</td>\n",
       "      <td>129</td>\n",
       "      <td>15.4</td>\n",
       "      <td>38</td>\n",
       "      <td>95</td>\n",
       "      <td>95</td>\n",
       "      <td>7.1</td>\n",
       "      <td>287.931877</td>\n",
       "      <td>8991735</td>\n",
       "      <td>6.8</td>\n",
       "      <td>7.0</td>\n",
       "      <td>0.388</td>\n",
       "      <td>8.8</td>\n",
       "    </tr>\n",
       "    <tr>\n",
       "      <th>Viet Nam</th>\n",
       "      <td>1</td>\n",
       "      <td>397</td>\n",
       "      <td>26</td>\n",
       "      <td>89</td>\n",
       "      <td>386</td>\n",
       "      <td>14.9</td>\n",
       "      <td>42</td>\n",
       "      <td>89</td>\n",
       "      <td>89</td>\n",
       "      <td>7.7</td>\n",
       "      <td>236.911438</td>\n",
       "      <td>8818438</td>\n",
       "      <td>6.9</td>\n",
       "      <td>7.1</td>\n",
       "      <td>0.371</td>\n",
       "      <td>8.2</td>\n",
       "    </tr>\n",
       "    <tr>\n",
       "      <th>Yemen</th>\n",
       "      <td>1</td>\n",
       "      <td>48</td>\n",
       "      <td>29</td>\n",
       "      <td>96</td>\n",
       "      <td>1064</td>\n",
       "      <td>14.5</td>\n",
       "      <td>46</td>\n",
       "      <td>96</td>\n",
       "      <td>96</td>\n",
       "      <td>8.1</td>\n",
       "      <td>212.661949</td>\n",
       "      <td>868346</td>\n",
       "      <td>7.0</td>\n",
       "      <td>7.3</td>\n",
       "      <td>0.359</td>\n",
       "      <td>7.6</td>\n",
       "    </tr>\n",
       "    <tr>\n",
       "      <th>Zambia</th>\n",
       "      <td>1</td>\n",
       "      <td>415</td>\n",
       "      <td>31</td>\n",
       "      <td>88</td>\n",
       "      <td>2738</td>\n",
       "      <td>14.1</td>\n",
       "      <td>50</td>\n",
       "      <td>85</td>\n",
       "      <td>88</td>\n",
       "      <td>8.0</td>\n",
       "      <td>196.597780</td>\n",
       "      <td>853625</td>\n",
       "      <td>7.2</td>\n",
       "      <td>7.4</td>\n",
       "      <td>0.343</td>\n",
       "      <td>7.2</td>\n",
       "    </tr>\n",
       "    <tr>\n",
       "      <th>Zimbabwe</th>\n",
       "      <td>1</td>\n",
       "      <td>438</td>\n",
       "      <td>33</td>\n",
       "      <td>85</td>\n",
       "      <td>896</td>\n",
       "      <td>13.7</td>\n",
       "      <td>54</td>\n",
       "      <td>76</td>\n",
       "      <td>77</td>\n",
       "      <td>8.1</td>\n",
       "      <td>21.569654</td>\n",
       "      <td>832946</td>\n",
       "      <td>7.4</td>\n",
       "      <td>7.5</td>\n",
       "      <td>0.332</td>\n",
       "      <td>7.1</td>\n",
       "    </tr>\n",
       "  </tbody>\n",
       "</table>\n",
       "<p>124 rows × 16 columns</p>\n",
       "</div>"
      ],
      "text/plain": [
       "             Status  Adult_Mortality  Infant_Deaths  Hepatitis  Measles   BMI  \\\n",
       "Country                                                                         \n",
       "Afghanistan       1              263             62         65     1154  19.1   \n",
       "Albania           1                8              0         98        0  57.2   \n",
       "Algeria           1               19             21         95       63  59.5   \n",
       "Angola            1              335             66         64      118  23.3   \n",
       "Argentina         1              116              8         94        0  62.8   \n",
       "...             ...              ...            ...        ...      ...   ...   \n",
       "Venezuela         1               37             24         95      129  15.4   \n",
       "Viet Nam          1              397             26         89      386  14.9   \n",
       "Yemen             1               48             29         96     1064  14.5   \n",
       "Zambia            1              415             31         88     2738  14.1   \n",
       "Zimbabwe          1              438             33         85      896  13.7   \n",
       "\n",
       "             Underfive_Deaths  Polio  Diphtheria  HIV           GDP  \\\n",
       "Country                                                               \n",
       "Afghanistan                83      6          65  0.1    584.259210   \n",
       "Albania                     1     98          98  0.1   4575.763787   \n",
       "Algeria                    24     95          95  0.1   4132.762920   \n",
       "Angola                     98      7          64  1.9   3695.793748   \n",
       "Argentina                   9     93          94  0.1  13467.123600   \n",
       "...                       ...    ...         ...  ...           ...   \n",
       "Venezuela                  38     95          95  7.1    287.931877   \n",
       "Viet Nam                   42     89          89  7.7    236.911438   \n",
       "Yemen                      46     96          96  8.1    212.661949   \n",
       "Zambia                     50     85          88  8.0    196.597780   \n",
       "Zimbabwe                   54     76          77  8.1     21.569654   \n",
       "\n",
       "             Population  Malnourished10_19  Malnourished5_9  Income_Index  \\\n",
       "Country                                                                     \n",
       "Afghanistan    33736494               17.2             17.3         0.479   \n",
       "Albania          288914                1.2              1.3         0.761   \n",
       "Algeria        39871528                6.0              5.8         0.743   \n",
       "Angola          2785935                8.3              8.2         0.531   \n",
       "Argentina      43417765                1.0              0.9         0.826   \n",
       "...                 ...                ...              ...           ...   \n",
       "Venezuela       8991735                6.8              7.0         0.388   \n",
       "Viet Nam        8818438                6.9              7.1         0.371   \n",
       "Yemen            868346                7.0              7.3         0.359   \n",
       "Zambia           853625                7.2              7.4         0.343   \n",
       "Zimbabwe         832946                7.4              7.5         0.332   \n",
       "\n",
       "             Schooling  \n",
       "Country                 \n",
       "Afghanistan       10.1  \n",
       "Albania           14.2  \n",
       "Algeria           14.4  \n",
       "Angola            11.4  \n",
       "Argentina         17.3  \n",
       "...                ...  \n",
       "Venezuela          8.8  \n",
       "Viet Nam           8.2  \n",
       "Yemen              7.6  \n",
       "Zambia             7.2  \n",
       "Zimbabwe           7.1  \n",
       "\n",
       "[124 rows x 16 columns]"
      ]
     },
     "execution_count": 49,
     "metadata": {},
     "output_type": "execute_result"
    }
   ],
   "source": [
    "x"
   ]
  },
  {
   "cell_type": "code",
   "execution_count": 50,
   "metadata": {},
   "outputs": [],
   "source": [
    "import statsmodels.api as sm"
   ]
  },
  {
   "cell_type": "code",
   "execution_count": 51,
   "metadata": {},
   "outputs": [],
   "source": [
    "x_c= sm.add_constant(x)\n"
   ]
  },
  {
   "cell_type": "code",
   "execution_count": 52,
   "metadata": {},
   "outputs": [
    {
     "data": {
      "text/html": [
       "<table class=\"simpletable\">\n",
       "<caption>OLS Regression Results</caption>\n",
       "<tr>\n",
       "  <th>Dep. Variable:</th>        <td>Expected</td>     <th>  R-squared:         </th> <td>   0.848</td>\n",
       "</tr>\n",
       "<tr>\n",
       "  <th>Model:</th>                   <td>OLS</td>       <th>  Adj. R-squared:    </th> <td>   0.826</td>\n",
       "</tr>\n",
       "<tr>\n",
       "  <th>Method:</th>             <td>Least Squares</td>  <th>  F-statistic:       </th> <td>   37.43</td>\n",
       "</tr>\n",
       "<tr>\n",
       "  <th>Date:</th>             <td>Wed, 09 Dec 2020</td> <th>  Prob (F-statistic):</th> <td>1.94e-36</td>\n",
       "</tr>\n",
       "<tr>\n",
       "  <th>Time:</th>                 <td>17:54:05</td>     <th>  Log-Likelihood:    </th> <td> -323.38</td>\n",
       "</tr>\n",
       "<tr>\n",
       "  <th>No. Observations:</th>      <td>   124</td>      <th>  AIC:               </th> <td>   680.8</td>\n",
       "</tr>\n",
       "<tr>\n",
       "  <th>Df Residuals:</th>          <td>   107</td>      <th>  BIC:               </th> <td>   728.7</td>\n",
       "</tr>\n",
       "<tr>\n",
       "  <th>Df Model:</th>              <td>    16</td>      <th>                     </th>     <td> </td>   \n",
       "</tr>\n",
       "<tr>\n",
       "  <th>Covariance Type:</th>      <td>nonrobust</td>    <th>                     </th>     <td> </td>   \n",
       "</tr>\n",
       "</table>\n",
       "<table class=\"simpletable\">\n",
       "<tr>\n",
       "          <td></td>             <th>coef</th>     <th>std err</th>      <th>t</th>      <th>P>|t|</th>  <th>[0.025</th>    <th>0.975]</th>  \n",
       "</tr>\n",
       "<tr>\n",
       "  <th>const</th>             <td>   60.0678</td> <td>    3.747</td> <td>   16.030</td> <td> 0.000</td> <td>   52.639</td> <td>   67.496</td>\n",
       "</tr>\n",
       "<tr>\n",
       "  <th>Status</th>            <td>   -2.0360</td> <td>    1.168</td> <td>   -1.743</td> <td> 0.084</td> <td>   -4.352</td> <td>    0.280</td>\n",
       "</tr>\n",
       "<tr>\n",
       "  <th>Adult_Mortality</th>   <td>   -0.0231</td> <td>    0.004</td> <td>   -5.685</td> <td> 0.000</td> <td>   -0.031</td> <td>   -0.015</td>\n",
       "</tr>\n",
       "<tr>\n",
       "  <th>Infant_Deaths</th>     <td>    0.0556</td> <td>    0.037</td> <td>    1.507</td> <td> 0.135</td> <td>   -0.018</td> <td>    0.129</td>\n",
       "</tr>\n",
       "<tr>\n",
       "  <th>Hepatitis</th>         <td>    0.0656</td> <td>    0.032</td> <td>    2.056</td> <td> 0.042</td> <td>    0.002</td> <td>    0.129</td>\n",
       "</tr>\n",
       "<tr>\n",
       "  <th>Measles</th>           <td> -5.93e-05</td> <td> 6.09e-05</td> <td>   -0.974</td> <td> 0.332</td> <td>   -0.000</td> <td> 6.14e-05</td>\n",
       "</tr>\n",
       "<tr>\n",
       "  <th>BMI</th>               <td>   -0.0266</td> <td>    0.023</td> <td>   -1.179</td> <td> 0.241</td> <td>   -0.071</td> <td>    0.018</td>\n",
       "</tr>\n",
       "<tr>\n",
       "  <th>Underfive_Deaths</th>  <td>   -0.0389</td> <td>    0.027</td> <td>   -1.439</td> <td> 0.153</td> <td>   -0.093</td> <td>    0.015</td>\n",
       "</tr>\n",
       "<tr>\n",
       "  <th>Polio</th>             <td>   -0.0091</td> <td>    0.022</td> <td>   -0.417</td> <td> 0.677</td> <td>   -0.053</td> <td>    0.034</td>\n",
       "</tr>\n",
       "<tr>\n",
       "  <th>Diphtheria</th>        <td>   -0.0345</td> <td>    0.040</td> <td>   -0.868</td> <td> 0.387</td> <td>   -0.113</td> <td>    0.044</td>\n",
       "</tr>\n",
       "<tr>\n",
       "  <th>HIV</th>               <td>   -1.0385</td> <td>    0.268</td> <td>   -3.881</td> <td> 0.000</td> <td>   -1.569</td> <td>   -0.508</td>\n",
       "</tr>\n",
       "<tr>\n",
       "  <th>GDP</th>               <td> 5.021e-05</td> <td> 3.48e-05</td> <td>    1.445</td> <td> 0.151</td> <td>-1.87e-05</td> <td>    0.000</td>\n",
       "</tr>\n",
       "<tr>\n",
       "  <th>Population</th>        <td>-1.845e-08</td> <td>  8.6e-09</td> <td>   -2.146</td> <td> 0.034</td> <td>-3.55e-08</td> <td>-1.41e-09</td>\n",
       "</tr>\n",
       "<tr>\n",
       "  <th>Malnourished10_19</th> <td>   -0.4850</td> <td>    0.300</td> <td>   -1.616</td> <td> 0.109</td> <td>   -1.080</td> <td>    0.110</td>\n",
       "</tr>\n",
       "<tr>\n",
       "  <th>Malnourished5_9</th>   <td>    0.2983</td> <td>    0.283</td> <td>    1.053</td> <td> 0.294</td> <td>   -0.263</td> <td>    0.860</td>\n",
       "</tr>\n",
       "<tr>\n",
       "  <th>Income_Index</th>      <td>   18.6518</td> <td>    6.313</td> <td>    2.955</td> <td> 0.004</td> <td>    6.138</td> <td>   31.166</td>\n",
       "</tr>\n",
       "<tr>\n",
       "  <th>Schooling</th>         <td>    0.3599</td> <td>    0.346</td> <td>    1.040</td> <td> 0.301</td> <td>   -0.326</td> <td>    1.046</td>\n",
       "</tr>\n",
       "</table>\n",
       "<table class=\"simpletable\">\n",
       "<tr>\n",
       "  <th>Omnibus:</th>       <td> 6.529</td> <th>  Durbin-Watson:     </th> <td>   1.754</td>\n",
       "</tr>\n",
       "<tr>\n",
       "  <th>Prob(Omnibus):</th> <td> 0.038</td> <th>  Jarque-Bera (JB):  </th> <td>  10.518</td>\n",
       "</tr>\n",
       "<tr>\n",
       "  <th>Skew:</th>          <td> 0.122</td> <th>  Prob(JB):          </th> <td> 0.00520</td>\n",
       "</tr>\n",
       "<tr>\n",
       "  <th>Kurtosis:</th>      <td> 4.406</td> <th>  Cond. No.          </th> <td>9.15e+08</td>\n",
       "</tr>\n",
       "</table><br/><br/>Warnings:<br/>[1] Standard Errors assume that the covariance matrix of the errors is correctly specified.<br/>[2] The condition number is large, 9.15e+08. This might indicate that there are<br/>strong multicollinearity or other numerical problems."
      ],
      "text/plain": [
       "<class 'statsmodels.iolib.summary.Summary'>\n",
       "\"\"\"\n",
       "                            OLS Regression Results                            \n",
       "==============================================================================\n",
       "Dep. Variable:               Expected   R-squared:                       0.848\n",
       "Model:                            OLS   Adj. R-squared:                  0.826\n",
       "Method:                 Least Squares   F-statistic:                     37.43\n",
       "Date:                Wed, 09 Dec 2020   Prob (F-statistic):           1.94e-36\n",
       "Time:                        17:54:05   Log-Likelihood:                -323.38\n",
       "No. Observations:                 124   AIC:                             680.8\n",
       "Df Residuals:                     107   BIC:                             728.7\n",
       "Df Model:                          16                                         \n",
       "Covariance Type:            nonrobust                                         \n",
       "=====================================================================================\n",
       "                        coef    std err          t      P>|t|      [0.025      0.975]\n",
       "-------------------------------------------------------------------------------------\n",
       "const                60.0678      3.747     16.030      0.000      52.639      67.496\n",
       "Status               -2.0360      1.168     -1.743      0.084      -4.352       0.280\n",
       "Adult_Mortality      -0.0231      0.004     -5.685      0.000      -0.031      -0.015\n",
       "Infant_Deaths         0.0556      0.037      1.507      0.135      -0.018       0.129\n",
       "Hepatitis             0.0656      0.032      2.056      0.042       0.002       0.129\n",
       "Measles            -5.93e-05   6.09e-05     -0.974      0.332      -0.000    6.14e-05\n",
       "BMI                  -0.0266      0.023     -1.179      0.241      -0.071       0.018\n",
       "Underfive_Deaths     -0.0389      0.027     -1.439      0.153      -0.093       0.015\n",
       "Polio                -0.0091      0.022     -0.417      0.677      -0.053       0.034\n",
       "Diphtheria           -0.0345      0.040     -0.868      0.387      -0.113       0.044\n",
       "HIV                  -1.0385      0.268     -3.881      0.000      -1.569      -0.508\n",
       "GDP                5.021e-05   3.48e-05      1.445      0.151   -1.87e-05       0.000\n",
       "Population        -1.845e-08    8.6e-09     -2.146      0.034   -3.55e-08   -1.41e-09\n",
       "Malnourished10_19    -0.4850      0.300     -1.616      0.109      -1.080       0.110\n",
       "Malnourished5_9       0.2983      0.283      1.053      0.294      -0.263       0.860\n",
       "Income_Index         18.6518      6.313      2.955      0.004       6.138      31.166\n",
       "Schooling             0.3599      0.346      1.040      0.301      -0.326       1.046\n",
       "==============================================================================\n",
       "Omnibus:                        6.529   Durbin-Watson:                   1.754\n",
       "Prob(Omnibus):                  0.038   Jarque-Bera (JB):               10.518\n",
       "Skew:                           0.122   Prob(JB):                      0.00520\n",
       "Kurtosis:                       4.406   Cond. No.                     9.15e+08\n",
       "==============================================================================\n",
       "\n",
       "Warnings:\n",
       "[1] Standard Errors assume that the covariance matrix of the errors is correctly specified.\n",
       "[2] The condition number is large, 9.15e+08. This might indicate that there are\n",
       "strong multicollinearity or other numerical problems.\n",
       "\"\"\""
      ]
     },
     "execution_count": 52,
     "metadata": {},
     "output_type": "execute_result"
    }
   ],
   "source": [
    "ols=sm.OLS(y,x_c)\n",
    "ols_mod=ols.fit()\n",
    "ols_mod.summary()"
   ]
  },
  {
   "cell_type": "code",
   "execution_count": 53,
   "metadata": {},
   "outputs": [
    {
     "data": {
      "text/plain": [
       "Country\n",
       "Afghanistan    65.0\n",
       "Albania        77.5\n",
       "Algeria        75.6\n",
       "Angola         52.4\n",
       "Argentina      76.3\n",
       "               ... \n",
       "Venezuela      55.3\n",
       "Viet Nam       53.4\n",
       "Yemen          52.0\n",
       "Zambia         57.0\n",
       "Zimbabwe       48.6\n",
       "Name: Expected, Length: 124, dtype: float64"
      ]
     },
     "execution_count": 53,
     "metadata": {},
     "output_type": "execute_result"
    }
   ],
   "source": [
    "y"
   ]
  },
  {
   "cell_type": "code",
   "execution_count": 54,
   "metadata": {},
   "outputs": [],
   "source": [
    "ypred=ols_mod.predict(x_c)"
   ]
  },
  {
   "cell_type": "code",
   "execution_count": 55,
   "metadata": {},
   "outputs": [
    {
     "data": {
      "text/plain": [
       "Country\n",
       "Afghanistan    2.741806\n",
       "Albania       -0.162616\n",
       "Algeria        0.051908\n",
       "Angola        -9.643927\n",
       "Argentina     -0.735077\n",
       "                 ...   \n",
       "Venezuela     -5.063265\n",
       "Viet Nam       2.688189\n",
       "Yemen         -6.193723\n",
       "Zambia         7.954199\n",
       "Zimbabwe       0.164288\n",
       "Length: 124, dtype: float64"
      ]
     },
     "execution_count": 55,
     "metadata": {},
     "output_type": "execute_result"
    }
   ],
   "source": [
    "residue= y-ypred\n",
    "residue"
   ]
  },
  {
   "cell_type": "code",
   "execution_count": 56,
   "metadata": {},
   "outputs": [
    {
     "data": {
      "text/plain": [
       "<matplotlib.axes._subplots.AxesSubplot at 0x1d6f091f308>"
      ]
     },
     "execution_count": 56,
     "metadata": {},
     "output_type": "execute_result"
    },
    {
     "data": {
      "image/png": "[encoded data removed]",
      "text/plain": [
       "<Figure size 432x288 with 1 Axes>"
      ]
     },
     "metadata": {
      "needs_background": "light"
     },
     "output_type": "display_data"
    }
   ],
   "source": [
    "sns.distplot(residue)"
   ]
  },
  {
   "cell_type": "code",
   "execution_count": 57,
   "metadata": {},
   "outputs": [
    {
     "data": {
      "image/png": "[encoded data removed]",
      "text/plain": [
       "<Figure size 432x288 with 1 Axes>"
      ]
     },
     "metadata": {
      "needs_background": "light"
     },
     "output_type": "display_data"
    }
   ],
   "source": [
    "import scipy.stats as stats\n",
    "stats.probplot(ols_mod.resid,plot=plt)\n",
    "plt.show()"
   ]
  },
  {
   "cell_type": "raw",
   "metadata": {},
   "source": [
    "Yes, the model follows normal distribution "
   ]
  },
  {
   "cell_type": "markdown",
   "metadata": {
    "collapsed": true
   },
   "source": [
    "<table align=\"left\">\n",
    "    <tr>\n",
    "        <td width=\"6%\">\n",
    "            <img src=\"question_icon.png\">\n",
    "        </td>\n",
    "        <td>\n",
    "            <div align=\"left\", style=\"font-size:120%\">\n",
    "                <font color=\"#21618C\">\n",
    "                        <b>11. Does the interaction of status of the country and its GDP have significant effect on life expectancy? (consider the full model)</b>\n",
    "                </font>\n",
    "            </div>\n",
    "        </td>\n",
    "    </tr>\n",
    "</table>"
   ]
  },
  {
   "cell_type": "raw",
   "metadata": {},
   "source": [
    "# type your code here\n",
    "\n",
    "data['interaction']=data['Status']*data['GDP']\n",
    "Build full model with interaction column also and check pvalue of interaction column.\n",
    "if value>0.05 then useless and insignificant to create and use this column\n",
    "if value<0.05 then uselful\n"
   ]
  },
  {
   "cell_type": "code",
   "execution_count": 59,
   "metadata": {},
   "outputs": [],
   "source": [
    "data1['Interaction']=data1['Status']*data1['GDP']"
   ]
  },
  {
   "cell_type": "code",
   "execution_count": 60,
   "metadata": {},
   "outputs": [
    {
     "data": {
      "text/html": [
       "<div>\n",
       "<style scoped>\n",
       "    .dataframe tbody tr th:only-of-type {\n",
       "        vertical-align: middle;\n",
       "    }\n",
       "\n",
       "    .dataframe tbody tr th {\n",
       "        vertical-align: top;\n",
       "    }\n",
       "\n",
       "    .dataframe thead th {\n",
       "        text-align: right;\n",
       "    }\n",
       "</style>\n",
       "<table border=\"1\" class=\"dataframe\">\n",
       "  <thead>\n",
       "    <tr style=\"text-align: right;\">\n",
       "      <th></th>\n",
       "      <th>Status</th>\n",
       "      <th>Adult_Mortality</th>\n",
       "      <th>Infant_Deaths</th>\n",
       "      <th>Hepatitis</th>\n",
       "      <th>Measles</th>\n",
       "      <th>BMI</th>\n",
       "      <th>Underfive_Deaths</th>\n",
       "      <th>Polio</th>\n",
       "      <th>Diphtheria</th>\n",
       "      <th>HIV</th>\n",
       "      <th>GDP</th>\n",
       "      <th>Population</th>\n",
       "      <th>Malnourished10_19</th>\n",
       "      <th>Malnourished5_9</th>\n",
       "      <th>Income_Index</th>\n",
       "      <th>Schooling</th>\n",
       "      <th>Expected</th>\n",
       "      <th>Interaction</th>\n",
       "    </tr>\n",
       "    <tr>\n",
       "      <th>Country</th>\n",
       "      <th></th>\n",
       "      <th></th>\n",
       "      <th></th>\n",
       "      <th></th>\n",
       "      <th></th>\n",
       "      <th></th>\n",
       "      <th></th>\n",
       "      <th></th>\n",
       "      <th></th>\n",
       "      <th></th>\n",
       "      <th></th>\n",
       "      <th></th>\n",
       "      <th></th>\n",
       "      <th></th>\n",
       "      <th></th>\n",
       "      <th></th>\n",
       "      <th></th>\n",
       "      <th></th>\n",
       "    </tr>\n",
       "  </thead>\n",
       "  <tbody>\n",
       "    <tr>\n",
       "      <th>Afghanistan</th>\n",
       "      <td>1</td>\n",
       "      <td>263</td>\n",
       "      <td>62</td>\n",
       "      <td>65</td>\n",
       "      <td>1154</td>\n",
       "      <td>19.1</td>\n",
       "      <td>83</td>\n",
       "      <td>6</td>\n",
       "      <td>65</td>\n",
       "      <td>0.1</td>\n",
       "      <td>584.259210</td>\n",
       "      <td>33736494</td>\n",
       "      <td>17.2</td>\n",
       "      <td>17.3</td>\n",
       "      <td>0.479</td>\n",
       "      <td>10.1</td>\n",
       "      <td>65.0</td>\n",
       "      <td>584.259210</td>\n",
       "    </tr>\n",
       "    <tr>\n",
       "      <th>Albania</th>\n",
       "      <td>1</td>\n",
       "      <td>8</td>\n",
       "      <td>0</td>\n",
       "      <td>98</td>\n",
       "      <td>0</td>\n",
       "      <td>57.2</td>\n",
       "      <td>1</td>\n",
       "      <td>98</td>\n",
       "      <td>98</td>\n",
       "      <td>0.1</td>\n",
       "      <td>4575.763787</td>\n",
       "      <td>288914</td>\n",
       "      <td>1.2</td>\n",
       "      <td>1.3</td>\n",
       "      <td>0.761</td>\n",
       "      <td>14.2</td>\n",
       "      <td>77.5</td>\n",
       "      <td>4575.763787</td>\n",
       "    </tr>\n",
       "    <tr>\n",
       "      <th>Algeria</th>\n",
       "      <td>1</td>\n",
       "      <td>19</td>\n",
       "      <td>21</td>\n",
       "      <td>95</td>\n",
       "      <td>63</td>\n",
       "      <td>59.5</td>\n",
       "      <td>24</td>\n",
       "      <td>95</td>\n",
       "      <td>95</td>\n",
       "      <td>0.1</td>\n",
       "      <td>4132.762920</td>\n",
       "      <td>39871528</td>\n",
       "      <td>6.0</td>\n",
       "      <td>5.8</td>\n",
       "      <td>0.743</td>\n",
       "      <td>14.4</td>\n",
       "      <td>75.6</td>\n",
       "      <td>4132.762920</td>\n",
       "    </tr>\n",
       "    <tr>\n",
       "      <th>Angola</th>\n",
       "      <td>1</td>\n",
       "      <td>335</td>\n",
       "      <td>66</td>\n",
       "      <td>64</td>\n",
       "      <td>118</td>\n",
       "      <td>23.3</td>\n",
       "      <td>98</td>\n",
       "      <td>7</td>\n",
       "      <td>64</td>\n",
       "      <td>1.9</td>\n",
       "      <td>3695.793748</td>\n",
       "      <td>2785935</td>\n",
       "      <td>8.3</td>\n",
       "      <td>8.2</td>\n",
       "      <td>0.531</td>\n",
       "      <td>11.4</td>\n",
       "      <td>52.4</td>\n",
       "      <td>3695.793748</td>\n",
       "    </tr>\n",
       "    <tr>\n",
       "      <th>Argentina</th>\n",
       "      <td>1</td>\n",
       "      <td>116</td>\n",
       "      <td>8</td>\n",
       "      <td>94</td>\n",
       "      <td>0</td>\n",
       "      <td>62.8</td>\n",
       "      <td>9</td>\n",
       "      <td>93</td>\n",
       "      <td>94</td>\n",
       "      <td>0.1</td>\n",
       "      <td>13467.123600</td>\n",
       "      <td>43417765</td>\n",
       "      <td>1.0</td>\n",
       "      <td>0.9</td>\n",
       "      <td>0.826</td>\n",
       "      <td>17.3</td>\n",
       "      <td>76.3</td>\n",
       "      <td>13467.123600</td>\n",
       "    </tr>\n",
       "    <tr>\n",
       "      <th>...</th>\n",
       "      <td>...</td>\n",
       "      <td>...</td>\n",
       "      <td>...</td>\n",
       "      <td>...</td>\n",
       "      <td>...</td>\n",
       "      <td>...</td>\n",
       "      <td>...</td>\n",
       "      <td>...</td>\n",
       "      <td>...</td>\n",
       "      <td>...</td>\n",
       "      <td>...</td>\n",
       "      <td>...</td>\n",
       "      <td>...</td>\n",
       "      <td>...</td>\n",
       "      <td>...</td>\n",
       "      <td>...</td>\n",
       "      <td>...</td>\n",
       "      <td>...</td>\n",
       "    </tr>\n",
       "    <tr>\n",
       "      <th>Venezuela</th>\n",
       "      <td>1</td>\n",
       "      <td>37</td>\n",
       "      <td>24</td>\n",
       "      <td>95</td>\n",
       "      <td>129</td>\n",
       "      <td>15.4</td>\n",
       "      <td>38</td>\n",
       "      <td>95</td>\n",
       "      <td>95</td>\n",
       "      <td>7.1</td>\n",
       "      <td>287.931877</td>\n",
       "      <td>8991735</td>\n",
       "      <td>6.8</td>\n",
       "      <td>7.0</td>\n",
       "      <td>0.388</td>\n",
       "      <td>8.8</td>\n",
       "      <td>55.3</td>\n",
       "      <td>287.931877</td>\n",
       "    </tr>\n",
       "    <tr>\n",
       "      <th>Viet Nam</th>\n",
       "      <td>1</td>\n",
       "      <td>397</td>\n",
       "      <td>26</td>\n",
       "      <td>89</td>\n",
       "      <td>386</td>\n",
       "      <td>14.9</td>\n",
       "      <td>42</td>\n",
       "      <td>89</td>\n",
       "      <td>89</td>\n",
       "      <td>7.7</td>\n",
       "      <td>236.911438</td>\n",
       "      <td>8818438</td>\n",
       "      <td>6.9</td>\n",
       "      <td>7.1</td>\n",
       "      <td>0.371</td>\n",
       "      <td>8.2</td>\n",
       "      <td>53.4</td>\n",
       "      <td>236.911438</td>\n",
       "    </tr>\n",
       "    <tr>\n",
       "      <th>Yemen</th>\n",
       "      <td>1</td>\n",
       "      <td>48</td>\n",
       "      <td>29</td>\n",
       "      <td>96</td>\n",
       "      <td>1064</td>\n",
       "      <td>14.5</td>\n",
       "      <td>46</td>\n",
       "      <td>96</td>\n",
       "      <td>96</td>\n",
       "      <td>8.1</td>\n",
       "      <td>212.661949</td>\n",
       "      <td>868346</td>\n",
       "      <td>7.0</td>\n",
       "      <td>7.3</td>\n",
       "      <td>0.359</td>\n",
       "      <td>7.6</td>\n",
       "      <td>52.0</td>\n",
       "      <td>212.661949</td>\n",
       "    </tr>\n",
       "    <tr>\n",
       "      <th>Zambia</th>\n",
       "      <td>1</td>\n",
       "      <td>415</td>\n",
       "      <td>31</td>\n",
       "      <td>88</td>\n",
       "      <td>2738</td>\n",
       "      <td>14.1</td>\n",
       "      <td>50</td>\n",
       "      <td>85</td>\n",
       "      <td>88</td>\n",
       "      <td>8.0</td>\n",
       "      <td>196.597780</td>\n",
       "      <td>853625</td>\n",
       "      <td>7.2</td>\n",
       "      <td>7.4</td>\n",
       "      <td>0.343</td>\n",
       "      <td>7.2</td>\n",
       "      <td>57.0</td>\n",
       "      <td>196.597780</td>\n",
       "    </tr>\n",
       "    <tr>\n",
       "      <th>Zimbabwe</th>\n",
       "      <td>1</td>\n",
       "      <td>438</td>\n",
       "      <td>33</td>\n",
       "      <td>85</td>\n",
       "      <td>896</td>\n",
       "      <td>13.7</td>\n",
       "      <td>54</td>\n",
       "      <td>76</td>\n",
       "      <td>77</td>\n",
       "      <td>8.1</td>\n",
       "      <td>21.569654</td>\n",
       "      <td>832946</td>\n",
       "      <td>7.4</td>\n",
       "      <td>7.5</td>\n",
       "      <td>0.332</td>\n",
       "      <td>7.1</td>\n",
       "      <td>48.6</td>\n",
       "      <td>21.569654</td>\n",
       "    </tr>\n",
       "  </tbody>\n",
       "</table>\n",
       "<p>124 rows × 18 columns</p>\n",
       "</div>"
      ],
      "text/plain": [
       "             Status  Adult_Mortality  Infant_Deaths  Hepatitis  Measles   BMI  \\\n",
       "Country                                                                         \n",
       "Afghanistan       1              263             62         65     1154  19.1   \n",
       "Albania           1                8              0         98        0  57.2   \n",
       "Algeria           1               19             21         95       63  59.5   \n",
       "Angola            1              335             66         64      118  23.3   \n",
       "Argentina         1              116              8         94        0  62.8   \n",
       "...             ...              ...            ...        ...      ...   ...   \n",
       "Venezuela         1               37             24         95      129  15.4   \n",
       "Viet Nam          1              397             26         89      386  14.9   \n",
       "Yemen             1               48             29         96     1064  14.5   \n",
       "Zambia            1              415             31         88     2738  14.1   \n",
       "Zimbabwe          1              438             33         85      896  13.7   \n",
       "\n",
       "             Underfive_Deaths  Polio  Diphtheria  HIV           GDP  \\\n",
       "Country                                                               \n",
       "Afghanistan                83      6          65  0.1    584.259210   \n",
       "Albania                     1     98          98  0.1   4575.763787   \n",
       "Algeria                    24     95          95  0.1   4132.762920   \n",
       "Angola                     98      7          64  1.9   3695.793748   \n",
       "Argentina                   9     93          94  0.1  13467.123600   \n",
       "...                       ...    ...         ...  ...           ...   \n",
       "Venezuela                  38     95          95  7.1    287.931877   \n",
       "Viet Nam                   42     89          89  7.7    236.911438   \n",
       "Yemen                      46     96          96  8.1    212.661949   \n",
       "Zambia                     50     85          88  8.0    196.597780   \n",
       "Zimbabwe                   54     76          77  8.1     21.569654   \n",
       "\n",
       "             Population  Malnourished10_19  Malnourished5_9  Income_Index  \\\n",
       "Country                                                                     \n",
       "Afghanistan    33736494               17.2             17.3         0.479   \n",
       "Albania          288914                1.2              1.3         0.761   \n",
       "Algeria        39871528                6.0              5.8         0.743   \n",
       "Angola          2785935                8.3              8.2         0.531   \n",
       "Argentina      43417765                1.0              0.9         0.826   \n",
       "...                 ...                ...              ...           ...   \n",
       "Venezuela       8991735                6.8              7.0         0.388   \n",
       "Viet Nam        8818438                6.9              7.1         0.371   \n",
       "Yemen            868346                7.0              7.3         0.359   \n",
       "Zambia           853625                7.2              7.4         0.343   \n",
       "Zimbabwe         832946                7.4              7.5         0.332   \n",
       "\n",
       "             Schooling  Expected   Interaction  \n",
       "Country                                         \n",
       "Afghanistan       10.1      65.0    584.259210  \n",
       "Albania           14.2      77.5   4575.763787  \n",
       "Algeria           14.4      75.6   4132.762920  \n",
       "Angola            11.4      52.4   3695.793748  \n",
       "Argentina         17.3      76.3  13467.123600  \n",
       "...                ...       ...           ...  \n",
       "Venezuela          8.8      55.3    287.931877  \n",
       "Viet Nam           8.2      53.4    236.911438  \n",
       "Yemen              7.6      52.0    212.661949  \n",
       "Zambia             7.2      57.0    196.597780  \n",
       "Zimbabwe           7.1      48.6     21.569654  \n",
       "\n",
       "[124 rows x 18 columns]"
      ]
     },
     "execution_count": 60,
     "metadata": {},
     "output_type": "execute_result"
    }
   ],
   "source": [
    "data1"
   ]
  },
  {
   "cell_type": "code",
   "execution_count": 64,
   "metadata": {},
   "outputs": [],
   "source": [
    "y=data1['Expected']\n",
    "x=data1.drop('Expected',axis=1)"
   ]
  },
  {
   "cell_type": "code",
   "execution_count": 65,
   "metadata": {},
   "outputs": [],
   "source": [
    "xc=sm.add_constant(x)"
   ]
  },
  {
   "cell_type": "code",
   "execution_count": 66,
   "metadata": {},
   "outputs": [
    {
     "data": {
      "text/html": [
       "<table class=\"simpletable\">\n",
       "<caption>OLS Regression Results</caption>\n",
       "<tr>\n",
       "  <th>Dep. Variable:</th>        <td>Expected</td>     <th>  R-squared:         </th> <td>   0.853</td>\n",
       "</tr>\n",
       "<tr>\n",
       "  <th>Model:</th>                   <td>OLS</td>       <th>  Adj. R-squared:    </th> <td>   0.830</td>\n",
       "</tr>\n",
       "<tr>\n",
       "  <th>Method:</th>             <td>Least Squares</td>  <th>  F-statistic:       </th> <td>   36.30</td>\n",
       "</tr>\n",
       "<tr>\n",
       "  <th>Date:</th>             <td>Wed, 09 Dec 2020</td> <th>  Prob (F-statistic):</th> <td>2.14e-36</td>\n",
       "</tr>\n",
       "<tr>\n",
       "  <th>Time:</th>                 <td>19:48:10</td>     <th>  Log-Likelihood:    </th> <td> -321.30</td>\n",
       "</tr>\n",
       "<tr>\n",
       "  <th>No. Observations:</th>      <td>   124</td>      <th>  AIC:               </th> <td>   678.6</td>\n",
       "</tr>\n",
       "<tr>\n",
       "  <th>Df Residuals:</th>          <td>   106</td>      <th>  BIC:               </th> <td>   729.4</td>\n",
       "</tr>\n",
       "<tr>\n",
       "  <th>Df Model:</th>              <td>    17</td>      <th>                     </th>     <td> </td>   \n",
       "</tr>\n",
       "<tr>\n",
       "  <th>Covariance Type:</th>      <td>nonrobust</td>    <th>                     </th>     <td> </td>   \n",
       "</tr>\n",
       "</table>\n",
       "<table class=\"simpletable\">\n",
       "<tr>\n",
       "          <td></td>             <th>coef</th>     <th>std err</th>      <th>t</th>      <th>P>|t|</th>  <th>[0.025</th>    <th>0.975]</th>  \n",
       "</tr>\n",
       "<tr>\n",
       "  <th>const</th>             <td>   62.5466</td> <td>    3.925</td> <td>   15.935</td> <td> 0.000</td> <td>   54.765</td> <td>   70.328</td>\n",
       "</tr>\n",
       "<tr>\n",
       "  <th>Status</th>            <td>   -3.8250</td> <td>    1.489</td> <td>   -2.569</td> <td> 0.012</td> <td>   -6.777</td> <td>   -0.873</td>\n",
       "</tr>\n",
       "<tr>\n",
       "  <th>Adult_Mortality</th>   <td>   -0.0228</td> <td>    0.004</td> <td>   -5.680</td> <td> 0.000</td> <td>   -0.031</td> <td>   -0.015</td>\n",
       "</tr>\n",
       "<tr>\n",
       "  <th>Infant_Deaths</th>     <td>    0.0564</td> <td>    0.036</td> <td>    1.547</td> <td> 0.125</td> <td>   -0.016</td> <td>    0.129</td>\n",
       "</tr>\n",
       "<tr>\n",
       "  <th>Hepatitis</th>         <td>    0.0715</td> <td>    0.032</td> <td>    2.259</td> <td> 0.026</td> <td>    0.009</td> <td>    0.134</td>\n",
       "</tr>\n",
       "<tr>\n",
       "  <th>Measles</th>           <td>-5.287e-05</td> <td> 6.03e-05</td> <td>   -0.877</td> <td> 0.382</td> <td>   -0.000</td> <td> 6.66e-05</td>\n",
       "</tr>\n",
       "<tr>\n",
       "  <th>BMI</th>               <td>   -0.0291</td> <td>    0.022</td> <td>   -1.306</td> <td> 0.194</td> <td>   -0.073</td> <td>    0.015</td>\n",
       "</tr>\n",
       "<tr>\n",
       "  <th>Underfive_Deaths</th>  <td>   -0.0401</td> <td>    0.027</td> <td>   -1.497</td> <td> 0.137</td> <td>   -0.093</td> <td>    0.013</td>\n",
       "</tr>\n",
       "<tr>\n",
       "  <th>Polio</th>             <td>   -0.0056</td> <td>    0.022</td> <td>   -0.258</td> <td> 0.797</td> <td>   -0.049</td> <td>    0.037</td>\n",
       "</tr>\n",
       "<tr>\n",
       "  <th>Diphtheria</th>        <td>   -0.0446</td> <td>    0.040</td> <td>   -1.124</td> <td> 0.264</td> <td>   -0.123</td> <td>    0.034</td>\n",
       "</tr>\n",
       "<tr>\n",
       "  <th>HIV</th>               <td>   -1.0748</td> <td>    0.265</td> <td>   -4.054</td> <td> 0.000</td> <td>   -1.600</td> <td>   -0.549</td>\n",
       "</tr>\n",
       "<tr>\n",
       "  <th>GDP</th>               <td>-7.939e-06</td> <td>  4.6e-05</td> <td>   -0.173</td> <td> 0.863</td> <td>-9.91e-05</td> <td> 8.32e-05</td>\n",
       "</tr>\n",
       "<tr>\n",
       "  <th>Population</th>        <td>-1.612e-08</td> <td> 8.58e-09</td> <td>   -1.878</td> <td> 0.063</td> <td>-3.31e-08</td> <td> 8.96e-10</td>\n",
       "</tr>\n",
       "<tr>\n",
       "  <th>Malnourished10_19</th> <td>   -0.4757</td> <td>    0.297</td> <td>   -1.604</td> <td> 0.112</td> <td>   -1.064</td> <td>    0.112</td>\n",
       "</tr>\n",
       "<tr>\n",
       "  <th>Malnourished5_9</th>   <td>    0.2995</td> <td>    0.280</td> <td>    1.071</td> <td> 0.287</td> <td>   -0.255</td> <td>    0.854</td>\n",
       "</tr>\n",
       "<tr>\n",
       "  <th>Income_Index</th>      <td>   15.9884</td> <td>    6.392</td> <td>    2.501</td> <td> 0.014</td> <td>    3.315</td> <td>   28.662</td>\n",
       "</tr>\n",
       "<tr>\n",
       "  <th>Schooling</th>         <td>    0.4188</td> <td>    0.343</td> <td>    1.220</td> <td> 0.225</td> <td>   -0.262</td> <td>    1.099</td>\n",
       "</tr>\n",
       "<tr>\n",
       "  <th>Interaction</th>       <td>    0.0001</td> <td>  6.8e-05</td> <td>    1.902</td> <td> 0.060</td> <td> -5.5e-06</td> <td>    0.000</td>\n",
       "</tr>\n",
       "</table>\n",
       "<table class=\"simpletable\">\n",
       "<tr>\n",
       "  <th>Omnibus:</th>       <td> 4.411</td> <th>  Durbin-Watson:     </th> <td>   1.813</td>\n",
       "</tr>\n",
       "<tr>\n",
       "  <th>Prob(Omnibus):</th> <td> 0.110</td> <th>  Jarque-Bera (JB):  </th> <td>   5.490</td>\n",
       "</tr>\n",
       "<tr>\n",
       "  <th>Skew:</th>          <td> 0.109</td> <th>  Prob(JB):          </th> <td>  0.0642</td>\n",
       "</tr>\n",
       "<tr>\n",
       "  <th>Kurtosis:</th>      <td> 4.008</td> <th>  Cond. No.          </th> <td>9.48e+08</td>\n",
       "</tr>\n",
       "</table><br/><br/>Warnings:<br/>[1] Standard Errors assume that the covariance matrix of the errors is correctly specified.<br/>[2] The condition number is large, 9.48e+08. This might indicate that there are<br/>strong multicollinearity or other numerical problems."
      ],
      "text/plain": [
       "<class 'statsmodels.iolib.summary.Summary'>\n",
       "\"\"\"\n",
       "                            OLS Regression Results                            \n",
       "==============================================================================\n",
       "Dep. Variable:               Expected   R-squared:                       0.853\n",
       "Model:                            OLS   Adj. R-squared:                  0.830\n",
       "Method:                 Least Squares   F-statistic:                     36.30\n",
       "Date:                Wed, 09 Dec 2020   Prob (F-statistic):           2.14e-36\n",
       "Time:                        19:48:10   Log-Likelihood:                -321.30\n",
       "No. Observations:                 124   AIC:                             678.6\n",
       "Df Residuals:                     106   BIC:                             729.4\n",
       "Df Model:                          17                                         \n",
       "Covariance Type:            nonrobust                                         \n",
       "=====================================================================================\n",
       "                        coef    std err          t      P>|t|      [0.025      0.975]\n",
       "-------------------------------------------------------------------------------------\n",
       "const                62.5466      3.925     15.935      0.000      54.765      70.328\n",
       "Status               -3.8250      1.489     -2.569      0.012      -6.777      -0.873\n",
       "Adult_Mortality      -0.0228      0.004     -5.680      0.000      -0.031      -0.015\n",
       "Infant_Deaths         0.0564      0.036      1.547      0.125      -0.016       0.129\n",
       "Hepatitis             0.0715      0.032      2.259      0.026       0.009       0.134\n",
       "Measles           -5.287e-05   6.03e-05     -0.877      0.382      -0.000    6.66e-05\n",
       "BMI                  -0.0291      0.022     -1.306      0.194      -0.073       0.015\n",
       "Underfive_Deaths     -0.0401      0.027     -1.497      0.137      -0.093       0.013\n",
       "Polio                -0.0056      0.022     -0.258      0.797      -0.049       0.037\n",
       "Diphtheria           -0.0446      0.040     -1.124      0.264      -0.123       0.034\n",
       "HIV                  -1.0748      0.265     -4.054      0.000      -1.600      -0.549\n",
       "GDP               -7.939e-06    4.6e-05     -0.173      0.863   -9.91e-05    8.32e-05\n",
       "Population        -1.612e-08   8.58e-09     -1.878      0.063   -3.31e-08    8.96e-10\n",
       "Malnourished10_19    -0.4757      0.297     -1.604      0.112      -1.064       0.112\n",
       "Malnourished5_9       0.2995      0.280      1.071      0.287      -0.255       0.854\n",
       "Income_Index         15.9884      6.392      2.501      0.014       3.315      28.662\n",
       "Schooling             0.4188      0.343      1.220      0.225      -0.262       1.099\n",
       "Interaction           0.0001    6.8e-05      1.902      0.060    -5.5e-06       0.000\n",
       "==============================================================================\n",
       "Omnibus:                        4.411   Durbin-Watson:                   1.813\n",
       "Prob(Omnibus):                  0.110   Jarque-Bera (JB):                5.490\n",
       "Skew:                           0.109   Prob(JB):                       0.0642\n",
       "Kurtosis:                       4.008   Cond. No.                     9.48e+08\n",
       "==============================================================================\n",
       "\n",
       "Warnings:\n",
       "[1] Standard Errors assume that the covariance matrix of the errors is correctly specified.\n",
       "[2] The condition number is large, 9.48e+08. This might indicate that there are\n",
       "strong multicollinearity or other numerical problems.\n",
       "\"\"\""
      ]
     },
     "execution_count": 66,
     "metadata": {},
     "output_type": "execute_result"
    }
   ],
   "source": [
    "ols=sm.OLS(y,xc)\n",
    "ols_mod=ols.fit()\n",
    "ols_mod.summary()"
   ]
  },
  {
   "cell_type": "code",
   "execution_count": 67,
   "metadata": {},
   "outputs": [
    {
     "data": {
      "text/plain": [
       "6.0"
      ]
     },
     "execution_count": 67,
     "metadata": {},
     "output_type": "execute_result"
    }
   ],
   "source": [
    "0.060*100"
   ]
  },
  {
   "cell_type": "raw",
   "metadata": {},
   "source": [
    "pval>0.05 so its not siginifcant and no need to use it."
   ]
  },
  {
   "cell_type": "markdown",
   "metadata": {
    "collapsed": true
   },
   "source": [
    "<table align=\"left\">\n",
    "    <tr>\n",
    "        <td width=\"6%\">\n",
    "            <img src=\"question_icon.png\">\n",
    "        </td>\n",
    "        <td>\n",
    "            <div align=\"left\", style=\"font-size:120%\">\n",
    "                <font color=\"#21618C\">\n",
    "                    <b>12. Construct a full no-intecept model. What would you conclude when all the variables take value 0? </b>\n",
    "                </font>\n",
    "            </div>\n",
    "        </td>\n",
    "    </tr>\n",
    "</table>"
   ]
  },
  {
   "cell_type": "raw",
   "metadata": {},
   "source": [
    "# type your code here\n",
    "\n",
    "Construct a full no-intecept mode:\n",
    "    \n",
    "No intercept model.\n",
    "Do it without constant. that is dont use inp_c=sm.addconstant(inp).\n"
   ]
  },
  {
   "cell_type": "code",
   "execution_count": 68,
   "metadata": {},
   "outputs": [],
   "source": [
    "y=data1['Expected']\n",
    "x=data1.drop('Expected',axis=1)"
   ]
  },
  {
   "cell_type": "code",
   "execution_count": 70,
   "metadata": {},
   "outputs": [
    {
     "data": {
      "text/html": [
       "<table class=\"simpletable\">\n",
       "<caption>OLS Regression Results</caption>\n",
       "<tr>\n",
       "  <th>Dep. Variable:</th>        <td>Expected</td>     <th>  R-squared (uncentered):</th>      <td>   0.993</td> \n",
       "</tr>\n",
       "<tr>\n",
       "  <th>Model:</th>                   <td>OLS</td>       <th>  Adj. R-squared (uncentered):</th> <td>   0.992</td> \n",
       "</tr>\n",
       "<tr>\n",
       "  <th>Method:</th>             <td>Least Squares</td>  <th>  F-statistic:       </th>          <td>   908.2</td> \n",
       "</tr>\n",
       "<tr>\n",
       "  <th>Date:</th>             <td>Wed, 09 Dec 2020</td> <th>  Prob (F-statistic):</th>          <td>2.30e-107</td>\n",
       "</tr>\n",
       "<tr>\n",
       "  <th>Time:</th>                 <td>19:59:27</td>     <th>  Log-Likelihood:    </th>          <td> -397.09</td> \n",
       "</tr>\n",
       "<tr>\n",
       "  <th>No. Observations:</th>      <td>   124</td>      <th>  AIC:               </th>          <td>   828.2</td> \n",
       "</tr>\n",
       "<tr>\n",
       "  <th>Df Residuals:</th>          <td>   107</td>      <th>  BIC:               </th>          <td>   876.1</td> \n",
       "</tr>\n",
       "<tr>\n",
       "  <th>Df Model:</th>              <td>    17</td>      <th>                     </th>              <td> </td>    \n",
       "</tr>\n",
       "<tr>\n",
       "  <th>Covariance Type:</th>      <td>nonrobust</td>    <th>                     </th>              <td> </td>    \n",
       "</tr>\n",
       "</table>\n",
       "<table class=\"simpletable\">\n",
       "<tr>\n",
       "          <td></td>             <th>coef</th>     <th>std err</th>      <th>t</th>      <th>P>|t|</th>  <th>[0.025</th>    <th>0.975]</th>  \n",
       "</tr>\n",
       "<tr>\n",
       "  <th>Status</th>            <td>   10.3155</td> <td>    2.193</td> <td>    4.704</td> <td> 0.000</td> <td>    5.968</td> <td>   14.663</td>\n",
       "</tr>\n",
       "<tr>\n",
       "  <th>Adult_Mortality</th>   <td>   -0.0086</td> <td>    0.007</td> <td>   -1.200</td> <td> 0.233</td> <td>   -0.023</td> <td>    0.006</td>\n",
       "</tr>\n",
       "<tr>\n",
       "  <th>Infant_Deaths</th>     <td>   -0.0720</td> <td>    0.065</td> <td>   -1.105</td> <td> 0.272</td> <td>   -0.201</td> <td>    0.057</td>\n",
       "</tr>\n",
       "<tr>\n",
       "  <th>Hepatitis</th>         <td>    0.0225</td> <td>    0.058</td> <td>    0.390</td> <td> 0.697</td> <td>   -0.092</td> <td>    0.137</td>\n",
       "</tr>\n",
       "<tr>\n",
       "  <th>Measles</th>           <td>   -0.0002</td> <td>    0.000</td> <td>   -1.567</td> <td> 0.120</td> <td>   -0.000</td> <td> 4.56e-05</td>\n",
       "</tr>\n",
       "<tr>\n",
       "  <th>BMI</th>               <td>   -0.0619</td> <td>    0.041</td> <td>   -1.520</td> <td> 0.132</td> <td>   -0.143</td> <td>    0.019</td>\n",
       "</tr>\n",
       "<tr>\n",
       "  <th>Underfive_Deaths</th>  <td>    0.0651</td> <td>    0.048</td> <td>    1.370</td> <td> 0.174</td> <td>   -0.029</td> <td>    0.159</td>\n",
       "</tr>\n",
       "<tr>\n",
       "  <th>Polio</th>             <td>    0.0097</td> <td>    0.040</td> <td>    0.244</td> <td> 0.808</td> <td>   -0.069</td> <td>    0.089</td>\n",
       "</tr>\n",
       "<tr>\n",
       "  <th>Diphtheria</th>        <td>    0.0513</td> <td>    0.072</td> <td>    0.714</td> <td> 0.477</td> <td>   -0.091</td> <td>    0.194</td>\n",
       "</tr>\n",
       "<tr>\n",
       "  <th>HIV</th>               <td>    0.5189</td> <td>    0.450</td> <td>    1.152</td> <td> 0.252</td> <td>   -0.374</td> <td>    1.411</td>\n",
       "</tr>\n",
       "<tr>\n",
       "  <th>GDP</th>               <td> 7.325e-05</td> <td> 8.38e-05</td> <td>    0.874</td> <td> 0.384</td> <td>-9.29e-05</td> <td>    0.000</td>\n",
       "</tr>\n",
       "<tr>\n",
       "  <th>Population</th>        <td> -2.17e-08</td> <td> 1.57e-08</td> <td>   -1.380</td> <td> 0.170</td> <td>-5.29e-08</td> <td> 9.47e-09</td>\n",
       "</tr>\n",
       "<tr>\n",
       "  <th>Malnourished10_19</th> <td>   -1.0824</td> <td>    0.540</td> <td>   -2.006</td> <td> 0.047</td> <td>   -2.152</td> <td>   -0.013</td>\n",
       "</tr>\n",
       "<tr>\n",
       "  <th>Malnourished5_9</th>   <td>    1.5521</td> <td>    0.492</td> <td>    3.152</td> <td> 0.002</td> <td>    0.576</td> <td>    2.528</td>\n",
       "</tr>\n",
       "<tr>\n",
       "  <th>Income_Index</th>      <td>   46.1782</td> <td>   11.197</td> <td>    4.124</td> <td> 0.000</td> <td>   23.981</td> <td>   68.375</td>\n",
       "</tr>\n",
       "<tr>\n",
       "  <th>Schooling</th>         <td>    1.9286</td> <td>    0.605</td> <td>    3.187</td> <td> 0.002</td> <td>    0.729</td> <td>    3.128</td>\n",
       "</tr>\n",
       "<tr>\n",
       "  <th>Interaction</th>       <td>   -0.0002</td> <td>    0.000</td> <td>   -1.960</td> <td> 0.053</td> <td>   -0.000</td> <td> 2.65e-06</td>\n",
       "</tr>\n",
       "</table>\n",
       "<table class=\"simpletable\">\n",
       "<tr>\n",
       "  <th>Omnibus:</th>       <td>11.246</td> <th>  Durbin-Watson:     </th> <td>   1.560</td>\n",
       "</tr>\n",
       "<tr>\n",
       "  <th>Prob(Omnibus):</th> <td> 0.004</td> <th>  Jarque-Bera (JB):  </th> <td>  11.967</td>\n",
       "</tr>\n",
       "<tr>\n",
       "  <th>Skew:</th>          <td> 0.629</td> <th>  Prob(JB):          </th> <td> 0.00252</td>\n",
       "</tr>\n",
       "<tr>\n",
       "  <th>Kurtosis:</th>      <td> 3.856</td> <th>  Cond. No.          </th> <td>8.83e+08</td>\n",
       "</tr>\n",
       "</table><br/><br/>Warnings:<br/>[1] Standard Errors assume that the covariance matrix of the errors is correctly specified.<br/>[2] The condition number is large, 8.83e+08. This might indicate that there are<br/>strong multicollinearity or other numerical problems."
      ],
      "text/plain": [
       "<class 'statsmodels.iolib.summary.Summary'>\n",
       "\"\"\"\n",
       "                                 OLS Regression Results                                \n",
       "=======================================================================================\n",
       "Dep. Variable:               Expected   R-squared (uncentered):                   0.993\n",
       "Model:                            OLS   Adj. R-squared (uncentered):              0.992\n",
       "Method:                 Least Squares   F-statistic:                              908.2\n",
       "Date:                Wed, 09 Dec 2020   Prob (F-statistic):                   2.30e-107\n",
       "Time:                        19:59:27   Log-Likelihood:                         -397.09\n",
       "No. Observations:                 124   AIC:                                      828.2\n",
       "Df Residuals:                     107   BIC:                                      876.1\n",
       "Df Model:                          17                                                  \n",
       "Covariance Type:            nonrobust                                                  \n",
       "=====================================================================================\n",
       "                        coef    std err          t      P>|t|      [0.025      0.975]\n",
       "-------------------------------------------------------------------------------------\n",
       "Status               10.3155      2.193      4.704      0.000       5.968      14.663\n",
       "Adult_Mortality      -0.0086      0.007     -1.200      0.233      -0.023       0.006\n",
       "Infant_Deaths        -0.0720      0.065     -1.105      0.272      -0.201       0.057\n",
       "Hepatitis             0.0225      0.058      0.390      0.697      -0.092       0.137\n",
       "Measles              -0.0002      0.000     -1.567      0.120      -0.000    4.56e-05\n",
       "BMI                  -0.0619      0.041     -1.520      0.132      -0.143       0.019\n",
       "Underfive_Deaths      0.0651      0.048      1.370      0.174      -0.029       0.159\n",
       "Polio                 0.0097      0.040      0.244      0.808      -0.069       0.089\n",
       "Diphtheria            0.0513      0.072      0.714      0.477      -0.091       0.194\n",
       "HIV                   0.5189      0.450      1.152      0.252      -0.374       1.411\n",
       "GDP                7.325e-05   8.38e-05      0.874      0.384   -9.29e-05       0.000\n",
       "Population         -2.17e-08   1.57e-08     -1.380      0.170   -5.29e-08    9.47e-09\n",
       "Malnourished10_19    -1.0824      0.540     -2.006      0.047      -2.152      -0.013\n",
       "Malnourished5_9       1.5521      0.492      3.152      0.002       0.576       2.528\n",
       "Income_Index         46.1782     11.197      4.124      0.000      23.981      68.375\n",
       "Schooling             1.9286      0.605      3.187      0.002       0.729       3.128\n",
       "Interaction          -0.0002      0.000     -1.960      0.053      -0.000    2.65e-06\n",
       "==============================================================================\n",
       "Omnibus:                       11.246   Durbin-Watson:                   1.560\n",
       "Prob(Omnibus):                  0.004   Jarque-Bera (JB):               11.967\n",
       "Skew:                           0.629   Prob(JB):                      0.00252\n",
       "Kurtosis:                       3.856   Cond. No.                     8.83e+08\n",
       "==============================================================================\n",
       "\n",
       "Warnings:\n",
       "[1] Standard Errors assume that the covariance matrix of the errors is correctly specified.\n",
       "[2] The condition number is large, 8.83e+08. This might indicate that there are\n",
       "strong multicollinearity or other numerical problems.\n",
       "\"\"\""
      ]
     },
     "execution_count": 70,
     "metadata": {},
     "output_type": "execute_result"
    }
   ],
   "source": [
    "ols=sm.OLS(y,x)\n",
    "ols_mod=ols.fit()\n",
    "ols_mod.summary()"
   ]
  },
  {
   "cell_type": "raw",
   "metadata": {},
   "source": [
    "What would you conclude when all the variables take value 0 ? - Theory answer\n",
    "\n",
    "All ip variables takes value 0 then op value is constant as given by the model. \n",
    "constant value is given by the intercept. "
   ]
  },
  {
   "cell_type": "code",
   "execution_count": null,
   "metadata": {},
   "outputs": [],
   "source": []
  },
  {
   "cell_type": "markdown",
   "metadata": {},
   "source": [
    "### Hereon on we shall consider the FEV dataset.\n"
   ]
  },
  {
   "cell_type": "markdown",
   "metadata": {},
   "source": [
    "### About the data set (Respiratory function data)\n",
    "\n",
    "Dataset consists of information about respiratory function in children and adolescents and factors that might impact the respiratory function. <br> Attribute information: \n",
    "\n",
    "**Age:** Age in years\n",
    "\n",
    "**Height:** Height in inches \n",
    "\n",
    "**Gender:** Gender value is 1 if male 0 if female\n",
    "\n",
    "**Smoke:** Whether the person is a smoker or non- smoker, the value is 1 if smoker and 0 otherwise\n",
    "\n",
    "**FEV:**  Forced Exhalation Volume (FEV), a measure of how much air somebody can forcibly exhale from their lung (Percentage)"
   ]
  },
  {
   "cell_type": "markdown",
   "metadata": {},
   "source": [
    "#### Load the dataset and check the first five observations"
   ]
  },
  {
   "cell_type": "code",
   "execution_count": 93,
   "metadata": {},
   "outputs": [],
   "source": [
    "# load the csv file\n",
    "# type your code here\n",
    "\n",
    "df=pd.read_csv('LungCapData.csv')"
   ]
  },
  {
   "cell_type": "code",
   "execution_count": 95,
   "metadata": {},
   "outputs": [
    {
     "data": {
      "text/html": [
       "<div>\n",
       "<style scoped>\n",
       "    .dataframe tbody tr th:only-of-type {\n",
       "        vertical-align: middle;\n",
       "    }\n",
       "\n",
       "    .dataframe tbody tr th {\n",
       "        vertical-align: top;\n",
       "    }\n",
       "\n",
       "    .dataframe thead th {\n",
       "        text-align: right;\n",
       "    }\n",
       "</style>\n",
       "<table border=\"1\" class=\"dataframe\">\n",
       "  <thead>\n",
       "    <tr style=\"text-align: right;\">\n",
       "      <th></th>\n",
       "      <th>Age</th>\n",
       "      <th>Height</th>\n",
       "      <th>Gender</th>\n",
       "      <th>Smoke</th>\n",
       "      <th>FEV</th>\n",
       "    </tr>\n",
       "  </thead>\n",
       "  <tbody>\n",
       "    <tr>\n",
       "      <th>0</th>\n",
       "      <td>9</td>\n",
       "      <td>57.0</td>\n",
       "      <td>0</td>\n",
       "      <td>0</td>\n",
       "      <td>1.708</td>\n",
       "    </tr>\n",
       "    <tr>\n",
       "      <th>1</th>\n",
       "      <td>8</td>\n",
       "      <td>67.5</td>\n",
       "      <td>0</td>\n",
       "      <td>0</td>\n",
       "      <td>1.724</td>\n",
       "    </tr>\n",
       "    <tr>\n",
       "      <th>2</th>\n",
       "      <td>7</td>\n",
       "      <td>54.5</td>\n",
       "      <td>0</td>\n",
       "      <td>0</td>\n",
       "      <td>1.720</td>\n",
       "    </tr>\n",
       "    <tr>\n",
       "      <th>3</th>\n",
       "      <td>9</td>\n",
       "      <td>53.0</td>\n",
       "      <td>1</td>\n",
       "      <td>0</td>\n",
       "      <td>1.558</td>\n",
       "    </tr>\n",
       "    <tr>\n",
       "      <th>4</th>\n",
       "      <td>9</td>\n",
       "      <td>57.0</td>\n",
       "      <td>1</td>\n",
       "      <td>0</td>\n",
       "      <td>1.895</td>\n",
       "    </tr>\n",
       "    <tr>\n",
       "      <th>...</th>\n",
       "      <td>...</td>\n",
       "      <td>...</td>\n",
       "      <td>...</td>\n",
       "      <td>...</td>\n",
       "      <td>...</td>\n",
       "    </tr>\n",
       "    <tr>\n",
       "      <th>649</th>\n",
       "      <td>16</td>\n",
       "      <td>67.0</td>\n",
       "      <td>1</td>\n",
       "      <td>1</td>\n",
       "      <td>4.270</td>\n",
       "    </tr>\n",
       "    <tr>\n",
       "      <th>650</th>\n",
       "      <td>15</td>\n",
       "      <td>68.0</td>\n",
       "      <td>1</td>\n",
       "      <td>1</td>\n",
       "      <td>3.727</td>\n",
       "    </tr>\n",
       "    <tr>\n",
       "      <th>651</th>\n",
       "      <td>18</td>\n",
       "      <td>60.0</td>\n",
       "      <td>0</td>\n",
       "      <td>0</td>\n",
       "      <td>2.853</td>\n",
       "    </tr>\n",
       "    <tr>\n",
       "      <th>652</th>\n",
       "      <td>16</td>\n",
       "      <td>63.0</td>\n",
       "      <td>0</td>\n",
       "      <td>1</td>\n",
       "      <td>2.795</td>\n",
       "    </tr>\n",
       "    <tr>\n",
       "      <th>653</th>\n",
       "      <td>15</td>\n",
       "      <td>66.5</td>\n",
       "      <td>0</td>\n",
       "      <td>0</td>\n",
       "      <td>3.211</td>\n",
       "    </tr>\n",
       "  </tbody>\n",
       "</table>\n",
       "<p>654 rows × 5 columns</p>\n",
       "</div>"
      ],
      "text/plain": [
       "     Age  Height  Gender  Smoke    FEV\n",
       "0      9    57.0       0      0  1.708\n",
       "1      8    67.5       0      0  1.724\n",
       "2      7    54.5       0      0  1.720\n",
       "3      9    53.0       1      0  1.558\n",
       "4      9    57.0       1      0  1.895\n",
       "..   ...     ...     ...    ...    ...\n",
       "649   16    67.0       1      1  4.270\n",
       "650   15    68.0       1      1  3.727\n",
       "651   18    60.0       0      0  2.853\n",
       "652   16    63.0       0      1  2.795\n",
       "653   15    66.5       0      0  3.211\n",
       "\n",
       "[654 rows x 5 columns]"
      ]
     },
     "execution_count": 95,
     "metadata": {},
     "output_type": "execute_result"
    }
   ],
   "source": [
    "df"
   ]
  },
  {
   "cell_type": "markdown",
   "metadata": {
    "collapsed": true
   },
   "source": [
    "<table align=\"left\">\n",
    "    <tr>\n",
    "        <td width=\"6%\">\n",
    "            <img src=\"question_icon.png\">\n",
    "        </td>\n",
    "        <td>\n",
    "            <div align=\"left\", style=\"font-size:120%\">\n",
    "                <font color=\"#21618C\">\n",
    "                    <b>13. Can we use a linear regression model to analyze the impact of all the features on respiratory function (FEV) ? </b>\n",
    "                </font>\n",
    "            </div>\n",
    "        </td>\n",
    "    </tr>\n",
    "</table>"
   ]
  },
  {
   "cell_type": "raw",
   "metadata": {},
   "source": [
    "# type your code here\n",
    "\n",
    "all ips and op and model building"
   ]
  },
  {
   "cell_type": "code",
   "execution_count": 96,
   "metadata": {},
   "outputs": [
    {
     "data": {
      "text/plain": [
       "<matplotlib.axes._subplots.AxesSubplot at 0x2ab6bf12c48>"
      ]
     },
     "execution_count": 96,
     "metadata": {},
     "output_type": "execute_result"
    },
    {
     "data": {
      "image/png": "[encoded data removed]",
      "text/plain": [
       "<Figure size 432x288 with 1 Axes>"
      ]
     },
     "metadata": {
      "needs_background": "light"
     },
     "output_type": "display_data"
    }
   ],
   "source": [
    "#First step to check if OP data is continuous \n",
    "\n",
    "sns.distplot(df['FEV'])\n",
    "\n",
    "#yes its continuous in nature"
   ]
  },
  {
   "cell_type": "code",
   "execution_count": null,
   "metadata": {},
   "outputs": [],
   "source": []
  },
  {
   "cell_type": "code",
   "execution_count": 97,
   "metadata": {},
   "outputs": [],
   "source": [
    "out=df['FEV']\n",
    "inp=df.drop('FEV',axis=1)"
   ]
  },
  {
   "cell_type": "code",
   "execution_count": 98,
   "metadata": {},
   "outputs": [],
   "source": [
    "inpc=sm.add_constant(inp)"
   ]
  },
  {
   "cell_type": "code",
   "execution_count": 99,
   "metadata": {},
   "outputs": [
    {
     "data": {
      "text/html": [
       "<table class=\"simpletable\">\n",
       "<caption>OLS Regression Results</caption>\n",
       "<tr>\n",
       "  <th>Dep. Variable:</th>           <td>FEV</td>       <th>  R-squared:         </th> <td>   0.775</td> \n",
       "</tr>\n",
       "<tr>\n",
       "  <th>Model:</th>                   <td>OLS</td>       <th>  Adj. R-squared:    </th> <td>   0.774</td> \n",
       "</tr>\n",
       "<tr>\n",
       "  <th>Method:</th>             <td>Least Squares</td>  <th>  F-statistic:       </th> <td>   560.0</td> \n",
       "</tr>\n",
       "<tr>\n",
       "  <th>Date:</th>             <td>Thu, 10 Dec 2020</td> <th>  Prob (F-statistic):</th> <td>9.10e-209</td>\n",
       "</tr>\n",
       "<tr>\n",
       "  <th>Time:</th>                 <td>23:04:40</td>     <th>  Log-Likelihood:    </th> <td> -345.90</td> \n",
       "</tr>\n",
       "<tr>\n",
       "  <th>No. Observations:</th>      <td>   654</td>      <th>  AIC:               </th> <td>   701.8</td> \n",
       "</tr>\n",
       "<tr>\n",
       "  <th>Df Residuals:</th>          <td>   649</td>      <th>  BIC:               </th> <td>   724.2</td> \n",
       "</tr>\n",
       "<tr>\n",
       "  <th>Df Model:</th>              <td>     4</td>      <th>                     </th>     <td> </td>    \n",
       "</tr>\n",
       "<tr>\n",
       "  <th>Covariance Type:</th>      <td>nonrobust</td>    <th>                     </th>     <td> </td>    \n",
       "</tr>\n",
       "</table>\n",
       "<table class=\"simpletable\">\n",
       "<tr>\n",
       "     <td></td>       <th>coef</th>     <th>std err</th>      <th>t</th>      <th>P>|t|</th>  <th>[0.025</th>    <th>0.975]</th>  \n",
       "</tr>\n",
       "<tr>\n",
       "  <th>const</th>  <td>   -4.4570</td> <td>    0.223</td> <td>  -20.001</td> <td> 0.000</td> <td>   -4.895</td> <td>   -4.019</td>\n",
       "</tr>\n",
       "<tr>\n",
       "  <th>Age</th>    <td>    0.0655</td> <td>    0.009</td> <td>    6.904</td> <td> 0.000</td> <td>    0.047</td> <td>    0.084</td>\n",
       "</tr>\n",
       "<tr>\n",
       "  <th>Height</th> <td>    0.1042</td> <td>    0.005</td> <td>   21.901</td> <td> 0.000</td> <td>    0.095</td> <td>    0.114</td>\n",
       "</tr>\n",
       "<tr>\n",
       "  <th>Gender</th> <td>    0.1571</td> <td>    0.033</td> <td>    4.731</td> <td> 0.000</td> <td>    0.092</td> <td>    0.222</td>\n",
       "</tr>\n",
       "<tr>\n",
       "  <th>Smoke</th>  <td>   -0.0872</td> <td>    0.059</td> <td>   -1.472</td> <td> 0.141</td> <td>   -0.204</td> <td>    0.029</td>\n",
       "</tr>\n",
       "</table>\n",
       "<table class=\"simpletable\">\n",
       "<tr>\n",
       "  <th>Omnibus:</th>       <td>22.758</td> <th>  Durbin-Watson:     </th> <td>   1.645</td>\n",
       "</tr>\n",
       "<tr>\n",
       "  <th>Prob(Omnibus):</th> <td> 0.000</td> <th>  Jarque-Bera (JB):  </th> <td>  43.271</td>\n",
       "</tr>\n",
       "<tr>\n",
       "  <th>Skew:</th>          <td> 0.207</td> <th>  Prob(JB):          </th> <td>4.02e-10</td>\n",
       "</tr>\n",
       "<tr>\n",
       "  <th>Kurtosis:</th>      <td> 4.190</td> <th>  Cond. No.          </th> <td>    861.</td>\n",
       "</tr>\n",
       "</table><br/><br/>Warnings:<br/>[1] Standard Errors assume that the covariance matrix of the errors is correctly specified."
      ],
      "text/plain": [
       "<class 'statsmodels.iolib.summary.Summary'>\n",
       "\"\"\"\n",
       "                            OLS Regression Results                            \n",
       "==============================================================================\n",
       "Dep. Variable:                    FEV   R-squared:                       0.775\n",
       "Model:                            OLS   Adj. R-squared:                  0.774\n",
       "Method:                 Least Squares   F-statistic:                     560.0\n",
       "Date:                Thu, 10 Dec 2020   Prob (F-statistic):          9.10e-209\n",
       "Time:                        23:04:40   Log-Likelihood:                -345.90\n",
       "No. Observations:                 654   AIC:                             701.8\n",
       "Df Residuals:                     649   BIC:                             724.2\n",
       "Df Model:                           4                                         \n",
       "Covariance Type:            nonrobust                                         \n",
       "==============================================================================\n",
       "                 coef    std err          t      P>|t|      [0.025      0.975]\n",
       "------------------------------------------------------------------------------\n",
       "const         -4.4570      0.223    -20.001      0.000      -4.895      -4.019\n",
       "Age            0.0655      0.009      6.904      0.000       0.047       0.084\n",
       "Height         0.1042      0.005     21.901      0.000       0.095       0.114\n",
       "Gender         0.1571      0.033      4.731      0.000       0.092       0.222\n",
       "Smoke         -0.0872      0.059     -1.472      0.141      -0.204       0.029\n",
       "==============================================================================\n",
       "Omnibus:                       22.758   Durbin-Watson:                   1.645\n",
       "Prob(Omnibus):                  0.000   Jarque-Bera (JB):               43.271\n",
       "Skew:                           0.207   Prob(JB):                     4.02e-10\n",
       "Kurtosis:                       4.190   Cond. No.                         861.\n",
       "==============================================================================\n",
       "\n",
       "Warnings:\n",
       "[1] Standard Errors assume that the covariance matrix of the errors is correctly specified.\n",
       "\"\"\""
      ]
     },
     "execution_count": 99,
     "metadata": {},
     "output_type": "execute_result"
    }
   ],
   "source": [
    "ols=sm.OLS(out,inpc)\n",
    "olc_mod=ols.fit()\n",
    "olc_mod.summary()"
   ]
  },
  {
   "cell_type": "code",
   "execution_count": 100,
   "metadata": {},
   "outputs": [
    {
     "data": {
      "text/html": [
       "<table class=\"simpletable\">\n",
       "<caption>OLS Regression Results</caption>\n",
       "<tr>\n",
       "  <th>Dep. Variable:</th>           <td>FEV</td>       <th>  R-squared:         </th> <td>   0.775</td> \n",
       "</tr>\n",
       "<tr>\n",
       "  <th>Model:</th>                   <td>OLS</td>       <th>  Adj. R-squared:    </th> <td>   0.774</td> \n",
       "</tr>\n",
       "<tr>\n",
       "  <th>Method:</th>             <td>Least Squares</td>  <th>  F-statistic:       </th> <td>   560.0</td> \n",
       "</tr>\n",
       "<tr>\n",
       "  <th>Date:</th>             <td>Thu, 10 Dec 2020</td> <th>  Prob (F-statistic):</th> <td>9.10e-209</td>\n",
       "</tr>\n",
       "<tr>\n",
       "  <th>Time:</th>                 <td>23:04:40</td>     <th>  Log-Likelihood:    </th> <td> -345.90</td> \n",
       "</tr>\n",
       "<tr>\n",
       "  <th>No. Observations:</th>      <td>   654</td>      <th>  AIC:               </th> <td>   701.8</td> \n",
       "</tr>\n",
       "<tr>\n",
       "  <th>Df Residuals:</th>          <td>   649</td>      <th>  BIC:               </th> <td>   724.2</td> \n",
       "</tr>\n",
       "<tr>\n",
       "  <th>Df Model:</th>              <td>     4</td>      <th>                     </th>     <td> </td>    \n",
       "</tr>\n",
       "<tr>\n",
       "  <th>Covariance Type:</th>      <td>nonrobust</td>    <th>                     </th>     <td> </td>    \n",
       "</tr>\n",
       "</table>\n",
       "<table class=\"simpletable\">\n",
       "<tr>\n",
       "     <td></td>       <th>coef</th>     <th>std err</th>      <th>t</th>      <th>P>|t|</th>  <th>[0.025</th>    <th>0.975]</th>  \n",
       "</tr>\n",
       "<tr>\n",
       "  <th>const</th>  <td>   -4.4570</td> <td>    0.223</td> <td>  -20.001</td> <td> 0.000</td> <td>   -4.895</td> <td>   -4.019</td>\n",
       "</tr>\n",
       "<tr>\n",
       "  <th>Age</th>    <td>    0.0655</td> <td>    0.009</td> <td>    6.904</td> <td> 0.000</td> <td>    0.047</td> <td>    0.084</td>\n",
       "</tr>\n",
       "<tr>\n",
       "  <th>Height</th> <td>    0.1042</td> <td>    0.005</td> <td>   21.901</td> <td> 0.000</td> <td>    0.095</td> <td>    0.114</td>\n",
       "</tr>\n",
       "<tr>\n",
       "  <th>Gender</th> <td>    0.1571</td> <td>    0.033</td> <td>    4.731</td> <td> 0.000</td> <td>    0.092</td> <td>    0.222</td>\n",
       "</tr>\n",
       "<tr>\n",
       "  <th>Smoke</th>  <td>   -0.0872</td> <td>    0.059</td> <td>   -1.472</td> <td> 0.141</td> <td>   -0.204</td> <td>    0.029</td>\n",
       "</tr>\n",
       "</table>\n",
       "<table class=\"simpletable\">\n",
       "<tr>\n",
       "  <th>Omnibus:</th>       <td>22.758</td> <th>  Durbin-Watson:     </th> <td>   1.645</td>\n",
       "</tr>\n",
       "<tr>\n",
       "  <th>Prob(Omnibus):</th> <td> 0.000</td> <th>  Jarque-Bera (JB):  </th> <td>  43.271</td>\n",
       "</tr>\n",
       "<tr>\n",
       "  <th>Skew:</th>          <td> 0.207</td> <th>  Prob(JB):          </th> <td>4.02e-10</td>\n",
       "</tr>\n",
       "<tr>\n",
       "  <th>Kurtosis:</th>      <td> 4.190</td> <th>  Cond. No.          </th> <td>    861.</td>\n",
       "</tr>\n",
       "</table><br/><br/>Warnings:<br/>[1] Standard Errors assume that the covariance matrix of the errors is correctly specified."
      ],
      "text/plain": [
       "<class 'statsmodels.iolib.summary.Summary'>\n",
       "\"\"\"\n",
       "                            OLS Regression Results                            \n",
       "==============================================================================\n",
       "Dep. Variable:                    FEV   R-squared:                       0.775\n",
       "Model:                            OLS   Adj. R-squared:                  0.774\n",
       "Method:                 Least Squares   F-statistic:                     560.0\n",
       "Date:                Thu, 10 Dec 2020   Prob (F-statistic):          9.10e-209\n",
       "Time:                        23:04:40   Log-Likelihood:                -345.90\n",
       "No. Observations:                 654   AIC:                             701.8\n",
       "Df Residuals:                     649   BIC:                             724.2\n",
       "Df Model:                           4                                         \n",
       "Covariance Type:            nonrobust                                         \n",
       "==============================================================================\n",
       "                 coef    std err          t      P>|t|      [0.025      0.975]\n",
       "------------------------------------------------------------------------------\n",
       "const         -4.4570      0.223    -20.001      0.000      -4.895      -4.019\n",
       "Age            0.0655      0.009      6.904      0.000       0.047       0.084\n",
       "Height         0.1042      0.005     21.901      0.000       0.095       0.114\n",
       "Gender         0.1571      0.033      4.731      0.000       0.092       0.222\n",
       "Smoke         -0.0872      0.059     -1.472      0.141      -0.204       0.029\n",
       "==============================================================================\n",
       "Omnibus:                       22.758   Durbin-Watson:                   1.645\n",
       "Prob(Omnibus):                  0.000   Jarque-Bera (JB):               43.271\n",
       "Skew:                           0.207   Prob(JB):                     4.02e-10\n",
       "Kurtosis:                       4.190   Cond. No.                         861.\n",
       "==============================================================================\n",
       "\n",
       "Warnings:\n",
       "[1] Standard Errors assume that the covariance matrix of the errors is correctly specified.\n",
       "\"\"\""
      ]
     },
     "execution_count": 100,
     "metadata": {},
     "output_type": "execute_result"
    }
   ],
   "source": [
    "#when index column was there it was like this \n",
    "ols=sm.OLS(out,inpc)\n",
    "olc_mod=ols.fit()\n",
    "olc_mod.summary()"
   ]
  },
  {
   "cell_type": "code",
   "execution_count": 101,
   "metadata": {},
   "outputs": [
    {
     "data": {
      "text/plain": [
       "Age       0\n",
       "Height    0\n",
       "Gender    0\n",
       "Smoke     0\n",
       "FEV       0\n",
       "dtype: int64"
      ]
     },
     "execution_count": 101,
     "metadata": {},
     "output_type": "execute_result"
    }
   ],
   "source": [
    "df.isna().sum()"
   ]
  },
  {
   "cell_type": "code",
   "execution_count": 102,
   "metadata": {},
   "outputs": [
    {
     "data": {
      "text/html": [
       "<div>\n",
       "<style scoped>\n",
       "    .dataframe tbody tr th:only-of-type {\n",
       "        vertical-align: middle;\n",
       "    }\n",
       "\n",
       "    .dataframe tbody tr th {\n",
       "        vertical-align: top;\n",
       "    }\n",
       "\n",
       "    .dataframe thead th {\n",
       "        text-align: right;\n",
       "    }\n",
       "</style>\n",
       "<table border=\"1\" class=\"dataframe\">\n",
       "  <thead>\n",
       "    <tr style=\"text-align: right;\">\n",
       "      <th></th>\n",
       "      <th>VIF</th>\n",
       "      <th>feature</th>\n",
       "    </tr>\n",
       "  </thead>\n",
       "  <tbody>\n",
       "    <tr>\n",
       "      <th>1</th>\n",
       "      <td>24.524524</td>\n",
       "      <td>Height</td>\n",
       "    </tr>\n",
       "    <tr>\n",
       "      <th>0</th>\n",
       "      <td>24.322098</td>\n",
       "      <td>Age</td>\n",
       "    </tr>\n",
       "    <tr>\n",
       "      <th>2</th>\n",
       "      <td>2.130851</td>\n",
       "      <td>Gender</td>\n",
       "    </tr>\n",
       "    <tr>\n",
       "      <th>3</th>\n",
       "      <td>1.342164</td>\n",
       "      <td>Smoke</td>\n",
       "    </tr>\n",
       "  </tbody>\n",
       "</table>\n",
       "</div>"
      ],
      "text/plain": [
       "         VIF feature\n",
       "1  24.524524  Height\n",
       "0  24.322098     Age\n",
       "2   2.130851  Gender\n",
       "3   1.342164   Smoke"
      ]
     },
     "execution_count": 102,
     "metadata": {},
     "output_type": "execute_result"
    }
   ],
   "source": [
    "vif=pd.DataFrame()\n",
    "vif['VIF']=[variance_inflation_factor(inp.values,i) for i in range(inp.shape[1])]\n",
    "vif['feature']=inp.columns\n",
    "vif.sort_values('VIF',ascending=False)"
   ]
  },
  {
   "cell_type": "raw",
   "metadata": {},
   "source": [
    "Multi collinearity has been detected and so first we have to deal with it before doing anything else"
   ]
  },
  {
   "cell_type": "markdown",
   "metadata": {
    "collapsed": true
   },
   "source": [
    "<table align=\"left\">\n",
    "    <tr>\n",
    "        <td width=\"6%\">\n",
    "            <img src=\"question_icon.png\">\n",
    "        </td>\n",
    "        <td>\n",
    "            <div align=\"left\", style=\"font-size:120%\">\n",
    "                <font color=\"#21618C\">\n",
    "                    <b>14. How can we rectify the multicollinearity detected in question 13? </b>\n",
    "                </font>\n",
    "            </div>\n",
    "        </td>\n",
    "    </tr>\n",
    "</table>"
   ]
  },
  {
   "cell_type": "code",
   "execution_count": 104,
   "metadata": {},
   "outputs": [],
   "source": [
    "# type your code here\n",
    "from statsmodels.stats.outliers_influence import variance_inflation_factor"
   ]
  },
  {
   "cell_type": "code",
   "execution_count": 105,
   "metadata": {},
   "outputs": [
    {
     "data": {
      "text/html": [
       "<div>\n",
       "<style scoped>\n",
       "    .dataframe tbody tr th:only-of-type {\n",
       "        vertical-align: middle;\n",
       "    }\n",
       "\n",
       "    .dataframe tbody tr th {\n",
       "        vertical-align: top;\n",
       "    }\n",
       "\n",
       "    .dataframe thead th {\n",
       "        text-align: right;\n",
       "    }\n",
       "</style>\n",
       "<table border=\"1\" class=\"dataframe\">\n",
       "  <thead>\n",
       "    <tr style=\"text-align: right;\">\n",
       "      <th></th>\n",
       "      <th>VIF</th>\n",
       "      <th>feature</th>\n",
       "    </tr>\n",
       "  </thead>\n",
       "  <tbody>\n",
       "    <tr>\n",
       "      <th>0</th>\n",
       "      <td>24.322098</td>\n",
       "      <td>Age</td>\n",
       "    </tr>\n",
       "    <tr>\n",
       "      <th>1</th>\n",
       "      <td>24.524524</td>\n",
       "      <td>Height</td>\n",
       "    </tr>\n",
       "    <tr>\n",
       "      <th>2</th>\n",
       "      <td>2.130851</td>\n",
       "      <td>Gender</td>\n",
       "    </tr>\n",
       "    <tr>\n",
       "      <th>3</th>\n",
       "      <td>1.342164</td>\n",
       "      <td>Smoke</td>\n",
       "    </tr>\n",
       "  </tbody>\n",
       "</table>\n",
       "</div>"
      ],
      "text/plain": [
       "         VIF feature\n",
       "0  24.322098     Age\n",
       "1  24.524524  Height\n",
       "2   2.130851  Gender\n",
       "3   1.342164   Smoke"
      ]
     },
     "execution_count": 105,
     "metadata": {},
     "output_type": "execute_result"
    }
   ],
   "source": [
    "vif\n",
    "#As per analysis Height has little more value when compared to Age."
   ]
  },
  {
   "cell_type": "code",
   "execution_count": 106,
   "metadata": {},
   "outputs": [
    {
     "data": {
      "text/plain": [
       "Age       0.756459\n",
       "Height    0.868135\n",
       "Gender    0.208415\n",
       "Smoke     0.245425\n",
       "FEV       1.000000\n",
       "Name: FEV, dtype: float64"
      ]
     },
     "execution_count": 106,
     "metadata": {},
     "output_type": "execute_result"
    }
   ],
   "source": [
    "#As value are close by we are doing correlation\n",
    "\n",
    "df.corr()['FEV']"
   ]
  },
  {
   "cell_type": "raw",
   "metadata": {},
   "source": [
    "Age has lower correlation value so it impacts much lesser than Height as per data so we drop Age"
   ]
  },
  {
   "cell_type": "code",
   "execution_count": 108,
   "metadata": {},
   "outputs": [],
   "source": [
    "inpv1=inp.drop('Age',axis=1)"
   ]
  },
  {
   "cell_type": "code",
   "execution_count": 109,
   "metadata": {},
   "outputs": [
    {
     "data": {
      "text/html": [
       "<div>\n",
       "<style scoped>\n",
       "    .dataframe tbody tr th:only-of-type {\n",
       "        vertical-align: middle;\n",
       "    }\n",
       "\n",
       "    .dataframe tbody tr th {\n",
       "        vertical-align: top;\n",
       "    }\n",
       "\n",
       "    .dataframe thead th {\n",
       "        text-align: right;\n",
       "    }\n",
       "</style>\n",
       "<table border=\"1\" class=\"dataframe\">\n",
       "  <thead>\n",
       "    <tr style=\"text-align: right;\">\n",
       "      <th></th>\n",
       "      <th>Height</th>\n",
       "      <th>Gender</th>\n",
       "      <th>Smoke</th>\n",
       "    </tr>\n",
       "  </thead>\n",
       "  <tbody>\n",
       "    <tr>\n",
       "      <th>0</th>\n",
       "      <td>57.0</td>\n",
       "      <td>0</td>\n",
       "      <td>0</td>\n",
       "    </tr>\n",
       "    <tr>\n",
       "      <th>1</th>\n",
       "      <td>67.5</td>\n",
       "      <td>0</td>\n",
       "      <td>0</td>\n",
       "    </tr>\n",
       "    <tr>\n",
       "      <th>2</th>\n",
       "      <td>54.5</td>\n",
       "      <td>0</td>\n",
       "      <td>0</td>\n",
       "    </tr>\n",
       "    <tr>\n",
       "      <th>3</th>\n",
       "      <td>53.0</td>\n",
       "      <td>1</td>\n",
       "      <td>0</td>\n",
       "    </tr>\n",
       "    <tr>\n",
       "      <th>4</th>\n",
       "      <td>57.0</td>\n",
       "      <td>1</td>\n",
       "      <td>0</td>\n",
       "    </tr>\n",
       "  </tbody>\n",
       "</table>\n",
       "</div>"
      ],
      "text/plain": [
       "   Height  Gender  Smoke\n",
       "0    57.0       0      0\n",
       "1    67.5       0      0\n",
       "2    54.5       0      0\n",
       "3    53.0       1      0\n",
       "4    57.0       1      0"
      ]
     },
     "execution_count": 109,
     "metadata": {},
     "output_type": "execute_result"
    }
   ],
   "source": [
    "inpv1.head()"
   ]
  },
  {
   "cell_type": "code",
   "execution_count": 110,
   "metadata": {},
   "outputs": [
    {
     "data": {
      "text/html": [
       "<div>\n",
       "<style scoped>\n",
       "    .dataframe tbody tr th:only-of-type {\n",
       "        vertical-align: middle;\n",
       "    }\n",
       "\n",
       "    .dataframe tbody tr th {\n",
       "        vertical-align: top;\n",
       "    }\n",
       "\n",
       "    .dataframe thead th {\n",
       "        text-align: right;\n",
       "    }\n",
       "</style>\n",
       "<table border=\"1\" class=\"dataframe\">\n",
       "  <thead>\n",
       "    <tr style=\"text-align: right;\">\n",
       "      <th></th>\n",
       "      <th>VIF</th>\n",
       "      <th>feature</th>\n",
       "    </tr>\n",
       "  </thead>\n",
       "  <tbody>\n",
       "    <tr>\n",
       "      <th>0</th>\n",
       "      <td>2.326514</td>\n",
       "      <td>Height</td>\n",
       "    </tr>\n",
       "    <tr>\n",
       "      <th>1</th>\n",
       "      <td>2.125582</td>\n",
       "      <td>Gender</td>\n",
       "    </tr>\n",
       "    <tr>\n",
       "      <th>2</th>\n",
       "      <td>1.142476</td>\n",
       "      <td>Smoke</td>\n",
       "    </tr>\n",
       "  </tbody>\n",
       "</table>\n",
       "</div>"
      ],
      "text/plain": [
       "        VIF feature\n",
       "0  2.326514  Height\n",
       "1  2.125582  Gender\n",
       "2  1.142476   Smoke"
      ]
     },
     "execution_count": 110,
     "metadata": {},
     "output_type": "execute_result"
    }
   ],
   "source": [
    "vif=pd.DataFrame()\n",
    "vif['VIF']=[variance_inflation_factor(inpv1.values,i) for i in range(inpv1.shape[1])]\n",
    "vif['feature']=inpv1.columns\n",
    "vif.sort_values('VIF',ascending=False)"
   ]
  },
  {
   "cell_type": "code",
   "execution_count": 111,
   "metadata": {},
   "outputs": [],
   "source": [
    "inpv2=inp.drop('Height',axis=1)"
   ]
  },
  {
   "cell_type": "code",
   "execution_count": 112,
   "metadata": {},
   "outputs": [
    {
     "data": {
      "text/html": [
       "<div>\n",
       "<style scoped>\n",
       "    .dataframe tbody tr th:only-of-type {\n",
       "        vertical-align: middle;\n",
       "    }\n",
       "\n",
       "    .dataframe tbody tr th {\n",
       "        vertical-align: top;\n",
       "    }\n",
       "\n",
       "    .dataframe thead th {\n",
       "        text-align: right;\n",
       "    }\n",
       "</style>\n",
       "<table border=\"1\" class=\"dataframe\">\n",
       "  <thead>\n",
       "    <tr style=\"text-align: right;\">\n",
       "      <th></th>\n",
       "      <th>VIF</th>\n",
       "      <th>feature</th>\n",
       "    </tr>\n",
       "  </thead>\n",
       "  <tbody>\n",
       "    <tr>\n",
       "      <th>0</th>\n",
       "      <td>2.307311</td>\n",
       "      <td>Age</td>\n",
       "    </tr>\n",
       "    <tr>\n",
       "      <th>1</th>\n",
       "      <td>1.977845</td>\n",
       "      <td>Gender</td>\n",
       "    </tr>\n",
       "    <tr>\n",
       "      <th>2</th>\n",
       "      <td>1.238003</td>\n",
       "      <td>Smoke</td>\n",
       "    </tr>\n",
       "  </tbody>\n",
       "</table>\n",
       "</div>"
      ],
      "text/plain": [
       "        VIF feature\n",
       "0  2.307311     Age\n",
       "1  1.977845  Gender\n",
       "2  1.238003   Smoke"
      ]
     },
     "execution_count": 112,
     "metadata": {},
     "output_type": "execute_result"
    }
   ],
   "source": [
    "vif=pd.DataFrame()\n",
    "vif['VIF']=[variance_inflation_factor(inpv2.values,i) for i in range(inpv2.shape[1])]\n",
    "vif['feature']=inpv2.columns\n",
    "vif.sort_values('VIF',ascending=False)"
   ]
  },
  {
   "cell_type": "raw",
   "metadata": {},
   "source": [
    "As per correlation better to drop Age and so we go with Height itself."
   ]
  },
  {
   "cell_type": "code",
   "execution_count": 114,
   "metadata": {},
   "outputs": [
    {
     "data": {
      "text/html": [
       "<table class=\"simpletable\">\n",
       "<caption>OLS Regression Results</caption>\n",
       "<tr>\n",
       "  <th>Dep. Variable:</th>           <td>FEV</td>       <th>  R-squared:         </th> <td>   0.759</td> \n",
       "</tr>\n",
       "<tr>\n",
       "  <th>Model:</th>                   <td>OLS</td>       <th>  Adj. R-squared:    </th> <td>   0.758</td> \n",
       "</tr>\n",
       "<tr>\n",
       "  <th>Method:</th>             <td>Least Squares</td>  <th>  F-statistic:       </th> <td>   681.9</td> \n",
       "</tr>\n",
       "<tr>\n",
       "  <th>Date:</th>             <td>Thu, 10 Dec 2020</td> <th>  Prob (F-statistic):</th> <td>3.06e-200</td>\n",
       "</tr>\n",
       "<tr>\n",
       "  <th>Time:</th>                 <td>23:04:51</td>     <th>  Log-Likelihood:    </th> <td> -369.07</td> \n",
       "</tr>\n",
       "<tr>\n",
       "  <th>No. Observations:</th>      <td>   654</td>      <th>  AIC:               </th> <td>   746.1</td> \n",
       "</tr>\n",
       "<tr>\n",
       "  <th>Df Residuals:</th>          <td>   650</td>      <th>  BIC:               </th> <td>   764.1</td> \n",
       "</tr>\n",
       "<tr>\n",
       "  <th>Df Model:</th>              <td>     3</td>      <th>                     </th>     <td> </td>    \n",
       "</tr>\n",
       "<tr>\n",
       "  <th>Covariance Type:</th>      <td>nonrobust</td>    <th>                     </th>     <td> </td>    \n",
       "</tr>\n",
       "</table>\n",
       "<table class=\"simpletable\">\n",
       "<tr>\n",
       "     <td></td>       <th>coef</th>     <th>std err</th>      <th>t</th>      <th>P>|t|</th>  <th>[0.025</th>    <th>0.975]</th>  \n",
       "</tr>\n",
       "<tr>\n",
       "  <th>const</th>  <td>   -5.3621</td> <td>    0.187</td> <td>  -28.743</td> <td> 0.000</td> <td>   -5.728</td> <td>   -4.996</td>\n",
       "</tr>\n",
       "<tr>\n",
       "  <th>Height</th> <td>    0.1297</td> <td>    0.003</td> <td>   41.756</td> <td> 0.000</td> <td>    0.124</td> <td>    0.136</td>\n",
       "</tr>\n",
       "<tr>\n",
       "  <th>Gender</th> <td>    0.1276</td> <td>    0.034</td> <td>    3.744</td> <td> 0.000</td> <td>    0.061</td> <td>    0.195</td>\n",
       "</tr>\n",
       "<tr>\n",
       "  <th>Smoke</th>  <td>    0.0341</td> <td>    0.059</td> <td>    0.583</td> <td> 0.560</td> <td>   -0.081</td> <td>    0.149</td>\n",
       "</tr>\n",
       "</table>\n",
       "<table class=\"simpletable\">\n",
       "<tr>\n",
       "  <th>Omnibus:</th>       <td>30.516</td> <th>  Durbin-Watson:     </th> <td>   1.598</td>\n",
       "</tr>\n",
       "<tr>\n",
       "  <th>Prob(Omnibus):</th> <td> 0.000</td> <th>  Jarque-Bera (JB):  </th> <td>  71.282</td>\n",
       "</tr>\n",
       "<tr>\n",
       "  <th>Skew:</th>          <td> 0.220</td> <th>  Prob(JB):          </th> <td>3.32e-16</td>\n",
       "</tr>\n",
       "<tr>\n",
       "  <th>Kurtosis:</th>      <td> 4.557</td> <th>  Cond. No.          </th> <td>    689.</td>\n",
       "</tr>\n",
       "</table><br/><br/>Warnings:<br/>[1] Standard Errors assume that the covariance matrix of the errors is correctly specified."
      ],
      "text/plain": [
       "<class 'statsmodels.iolib.summary.Summary'>\n",
       "\"\"\"\n",
       "                            OLS Regression Results                            \n",
       "==============================================================================\n",
       "Dep. Variable:                    FEV   R-squared:                       0.759\n",
       "Model:                            OLS   Adj. R-squared:                  0.758\n",
       "Method:                 Least Squares   F-statistic:                     681.9\n",
       "Date:                Thu, 10 Dec 2020   Prob (F-statistic):          3.06e-200\n",
       "Time:                        23:04:51   Log-Likelihood:                -369.07\n",
       "No. Observations:                 654   AIC:                             746.1\n",
       "Df Residuals:                     650   BIC:                             764.1\n",
       "Df Model:                           3                                         \n",
       "Covariance Type:            nonrobust                                         \n",
       "==============================================================================\n",
       "                 coef    std err          t      P>|t|      [0.025      0.975]\n",
       "------------------------------------------------------------------------------\n",
       "const         -5.3621      0.187    -28.743      0.000      -5.728      -4.996\n",
       "Height         0.1297      0.003     41.756      0.000       0.124       0.136\n",
       "Gender         0.1276      0.034      3.744      0.000       0.061       0.195\n",
       "Smoke          0.0341      0.059      0.583      0.560      -0.081       0.149\n",
       "==============================================================================\n",
       "Omnibus:                       30.516   Durbin-Watson:                   1.598\n",
       "Prob(Omnibus):                  0.000   Jarque-Bera (JB):               71.282\n",
       "Skew:                           0.220   Prob(JB):                     3.32e-16\n",
       "Kurtosis:                       4.557   Cond. No.                         689.\n",
       "==============================================================================\n",
       "\n",
       "Warnings:\n",
       "[1] Standard Errors assume that the covariance matrix of the errors is correctly specified.\n",
       "\"\"\""
      ]
     },
     "execution_count": 114,
     "metadata": {},
     "output_type": "execute_result"
    }
   ],
   "source": [
    "inpv1_c=sm.add_constant(inpv1)\n",
    "ols=sm.OLS(out,inpv1_c)\n",
    "ols_mod=ols.fit()\n",
    "ols_mod.summary()"
   ]
  },
  {
   "cell_type": "markdown",
   "metadata": {
    "collapsed": true
   },
   "source": [
    "<table align=\"left\">\n",
    "    <tr>\n",
    "        <td width=\"6%\">\n",
    "            <img src=\"question_icon.png\">\n",
    "        </td>\n",
    "        <td>\n",
    "            <div align=\"left\", style=\"font-size:120%\">\n",
    "                <font color=\"#21618C\">\n",
    "                    <b>15. A Linear regression model is used to analyze the impact of all possible features on respiratory function (FEV). How do we check whether or not the model adequately captures the relationship between the response and predictor variables?</b>\n",
    "                </font>\n",
    "            </div>\n",
    "        </td>\n",
    "    </tr>\n",
    "</table>"
   ]
  },
  {
   "cell_type": "code",
   "execution_count": 115,
   "metadata": {
    "scrolled": false
   },
   "outputs": [],
   "source": [
    "# type your code here\n",
    "\n",
    "# relationship between the response and predictor variables? - Linearity between output and predicted op"
   ]
  },
  {
   "cell_type": "code",
   "execution_count": 116,
   "metadata": {},
   "outputs": [],
   "source": [
    "ypred=ols_mod.predict(inpv1_c)"
   ]
  },
  {
   "cell_type": "code",
   "execution_count": 117,
   "metadata": {},
   "outputs": [
    {
     "data": {
      "text/plain": [
       "<matplotlib.axes._subplots.AxesSubplot at 0x2ab6bce9dc8>"
      ]
     },
     "execution_count": 117,
     "metadata": {},
     "output_type": "execute_result"
    },
    {
     "data": {
      "image/png": "[encoded data removed]",
      "text/plain": [
       "<Figure size 432x288 with 1 Axes>"
      ]
     },
     "metadata": {
      "needs_background": "light"
     },
     "output_type": "display_data"
    }
   ],
   "source": [
    "sns.regplot(out,ypred)"
   ]
  },
  {
   "cell_type": "code",
   "execution_count": null,
   "metadata": {},
   "outputs": [],
   "source": []
  },
  {
   "cell_type": "code",
   "execution_count": 118,
   "metadata": {},
   "outputs": [
    {
     "data": {
      "image/png": "[encoded data removed]",
      "text/plain": [
       "<Figure size 432x288 with 1 Axes>"
      ]
     },
     "metadata": {
      "needs_background": "light"
     },
     "output_type": "display_data"
    },
    {
     "data": {
      "image/png": "[encoded data removed]",
      "text/plain": [
       "<Figure size 432x288 with 1 Axes>"
      ]
     },
     "metadata": {
      "needs_background": "light"
     },
     "output_type": "display_data"
    },
    {
     "data": {
      "image/png": "[encoded data removed]",
      "text/plain": [
       "<Figure size 432x288 with 1 Axes>"
      ]
     },
     "metadata": {
      "needs_background": "light"
     },
     "output_type": "display_data"
    }
   ],
   "source": [
    "for i in inpv1.columns:\n",
    "    sns.residplot(inpv1[i],ols_mod.resid)\n",
    "    plt.show()"
   ]
  },
  {
   "cell_type": "code",
   "execution_count": null,
   "metadata": {},
   "outputs": [],
   "source": [
    "#Statistical method"
   ]
  },
  {
   "cell_type": "code",
   "execution_count": 119,
   "metadata": {},
   "outputs": [],
   "source": [
    "from statsmodels.stats.diagnostic import linear_rainbow"
   ]
  },
  {
   "cell_type": "code",
   "execution_count": 120,
   "metadata": {},
   "outputs": [
    {
     "data": {
      "text/plain": [
       "(1.0538667324940405, 0.31836725841787145)"
      ]
     },
     "execution_count": 120,
     "metadata": {},
     "output_type": "execute_result"
    }
   ],
   "source": [
    "linear_rainbow(res=ols_mod,frac=0.5) \n"
   ]
  },
  {
   "cell_type": "raw",
   "metadata": {},
   "source": [
    "pval=0.31836725841787145 > 0.05 so failing to reject the H0. So Data is showing Linear relationship"
   ]
  },
  {
   "cell_type": "code",
   "execution_count": null,
   "metadata": {},
   "outputs": [],
   "source": []
  },
  {
   "cell_type": "markdown",
   "metadata": {
    "collapsed": true
   },
   "source": [
    "<table align=\"left\">\n",
    "    <tr>\n",
    "        <td width=\"6%\">\n",
    "            <img src=\"question_icon.png\">\n",
    "        </td>\n",
    "        <td>\n",
    "            <div align=\"left\", style=\"font-size:120%\">\n",
    "                <font color=\"#21618C\">\n",
    "                    <b>16.  A Linear regression model is used to analyze the impact of all possible features on respiratory function (FEV). Check whether the error terms are serially independent?</b>\n",
    "                </font>\n",
    "            </div>\n",
    "        </td>\n",
    "    </tr>\n",
    "</table>"
   ]
  },
  {
   "cell_type": "code",
   "execution_count": 121,
   "metadata": {},
   "outputs": [
    {
     "data": {
      "text/html": [
       "<table class=\"simpletable\">\n",
       "<caption>OLS Regression Results</caption>\n",
       "<tr>\n",
       "  <th>Dep. Variable:</th>           <td>FEV</td>       <th>  R-squared:         </th> <td>   0.759</td> \n",
       "</tr>\n",
       "<tr>\n",
       "  <th>Model:</th>                   <td>OLS</td>       <th>  Adj. R-squared:    </th> <td>   0.758</td> \n",
       "</tr>\n",
       "<tr>\n",
       "  <th>Method:</th>             <td>Least Squares</td>  <th>  F-statistic:       </th> <td>   681.9</td> \n",
       "</tr>\n",
       "<tr>\n",
       "  <th>Date:</th>             <td>Thu, 10 Dec 2020</td> <th>  Prob (F-statistic):</th> <td>3.06e-200</td>\n",
       "</tr>\n",
       "<tr>\n",
       "  <th>Time:</th>                 <td>23:05:37</td>     <th>  Log-Likelihood:    </th> <td> -369.07</td> \n",
       "</tr>\n",
       "<tr>\n",
       "  <th>No. Observations:</th>      <td>   654</td>      <th>  AIC:               </th> <td>   746.1</td> \n",
       "</tr>\n",
       "<tr>\n",
       "  <th>Df Residuals:</th>          <td>   650</td>      <th>  BIC:               </th> <td>   764.1</td> \n",
       "</tr>\n",
       "<tr>\n",
       "  <th>Df Model:</th>              <td>     3</td>      <th>                     </th>     <td> </td>    \n",
       "</tr>\n",
       "<tr>\n",
       "  <th>Covariance Type:</th>      <td>nonrobust</td>    <th>                     </th>     <td> </td>    \n",
       "</tr>\n",
       "</table>\n",
       "<table class=\"simpletable\">\n",
       "<tr>\n",
       "     <td></td>       <th>coef</th>     <th>std err</th>      <th>t</th>      <th>P>|t|</th>  <th>[0.025</th>    <th>0.975]</th>  \n",
       "</tr>\n",
       "<tr>\n",
       "  <th>const</th>  <td>   -5.3621</td> <td>    0.187</td> <td>  -28.743</td> <td> 0.000</td> <td>   -5.728</td> <td>   -4.996</td>\n",
       "</tr>\n",
       "<tr>\n",
       "  <th>Height</th> <td>    0.1297</td> <td>    0.003</td> <td>   41.756</td> <td> 0.000</td> <td>    0.124</td> <td>    0.136</td>\n",
       "</tr>\n",
       "<tr>\n",
       "  <th>Gender</th> <td>    0.1276</td> <td>    0.034</td> <td>    3.744</td> <td> 0.000</td> <td>    0.061</td> <td>    0.195</td>\n",
       "</tr>\n",
       "<tr>\n",
       "  <th>Smoke</th>  <td>    0.0341</td> <td>    0.059</td> <td>    0.583</td> <td> 0.560</td> <td>   -0.081</td> <td>    0.149</td>\n",
       "</tr>\n",
       "</table>\n",
       "<table class=\"simpletable\">\n",
       "<tr>\n",
       "  <th>Omnibus:</th>       <td>30.516</td> <th>  Durbin-Watson:     </th> <td>   1.598</td>\n",
       "</tr>\n",
       "<tr>\n",
       "  <th>Prob(Omnibus):</th> <td> 0.000</td> <th>  Jarque-Bera (JB):  </th> <td>  71.282</td>\n",
       "</tr>\n",
       "<tr>\n",
       "  <th>Skew:</th>          <td> 0.220</td> <th>  Prob(JB):          </th> <td>3.32e-16</td>\n",
       "</tr>\n",
       "<tr>\n",
       "  <th>Kurtosis:</th>      <td> 4.557</td> <th>  Cond. No.          </th> <td>    689.</td>\n",
       "</tr>\n",
       "</table><br/><br/>Warnings:<br/>[1] Standard Errors assume that the covariance matrix of the errors is correctly specified."
      ],
      "text/plain": [
       "<class 'statsmodels.iolib.summary.Summary'>\n",
       "\"\"\"\n",
       "                            OLS Regression Results                            \n",
       "==============================================================================\n",
       "Dep. Variable:                    FEV   R-squared:                       0.759\n",
       "Model:                            OLS   Adj. R-squared:                  0.758\n",
       "Method:                 Least Squares   F-statistic:                     681.9\n",
       "Date:                Thu, 10 Dec 2020   Prob (F-statistic):          3.06e-200\n",
       "Time:                        23:05:37   Log-Likelihood:                -369.07\n",
       "No. Observations:                 654   AIC:                             746.1\n",
       "Df Residuals:                     650   BIC:                             764.1\n",
       "Df Model:                           3                                         \n",
       "Covariance Type:            nonrobust                                         \n",
       "==============================================================================\n",
       "                 coef    std err          t      P>|t|      [0.025      0.975]\n",
       "------------------------------------------------------------------------------\n",
       "const         -5.3621      0.187    -28.743      0.000      -5.728      -4.996\n",
       "Height         0.1297      0.003     41.756      0.000       0.124       0.136\n",
       "Gender         0.1276      0.034      3.744      0.000       0.061       0.195\n",
       "Smoke          0.0341      0.059      0.583      0.560      -0.081       0.149\n",
       "==============================================================================\n",
       "Omnibus:                       30.516   Durbin-Watson:                   1.598\n",
       "Prob(Omnibus):                  0.000   Jarque-Bera (JB):               71.282\n",
       "Skew:                           0.220   Prob(JB):                     3.32e-16\n",
       "Kurtosis:                       4.557   Cond. No.                         689.\n",
       "==============================================================================\n",
       "\n",
       "Warnings:\n",
       "[1] Standard Errors assume that the covariance matrix of the errors is correctly specified.\n",
       "\"\"\""
      ]
     },
     "execution_count": 121,
     "metadata": {},
     "output_type": "execute_result"
    }
   ],
   "source": [
    "# type your code here\n",
    "\n",
    "inpv1_c=sm.add_constant(inpv1)\n",
    "ols=sm.OLS(out,inpv1_c)\n",
    "ols_mod=ols.fit()\n",
    "ols_mod.summary()\n",
    "\n",
    "# Durbin-Watson:1.598 \n",
    "# which is betwene the thumb rule of 1.5-2.5 acceptable range so we can say that error terms are serially independent"
   ]
  },
  {
   "cell_type": "markdown",
   "metadata": {
    "collapsed": true
   },
   "source": [
    "<table align=\"left\">\n",
    "    <tr>\n",
    "        <td width=\"6%\">\n",
    "            <img src=\"question_icon.png\">\n",
    "        </td>\n",
    "        <td>\n",
    "            <div align=\"left\", style=\"font-size:120%\">\n",
    "                <font color=\"#21618C\">\n",
    "                    <b>17. A model is built using all the features to predict the FEV. Check whether the residuals obtained form the model are normally distributed. </b>\n",
    "                </font>\n",
    "            </div>\n",
    "        </td>\n",
    "    </tr>\n",
    "</table>"
   ]
  },
  {
   "cell_type": "code",
   "execution_count": 20,
   "metadata": {
    "scrolled": false
   },
   "outputs": [],
   "source": [
    "# type your code here\n"
   ]
  },
  {
   "cell_type": "code",
   "execution_count": 123,
   "metadata": {},
   "outputs": [
    {
     "data": {
      "text/plain": [
       "0      2.030416\n",
       "1      3.392191\n",
       "2      1.706184\n",
       "3      1.639288\n",
       "4      2.158059\n",
       "         ...   \n",
       "649    3.489126\n",
       "650    3.618819\n",
       "651    2.419495\n",
       "652    2.842711\n",
       "653    3.262498\n",
       "Length: 654, dtype: float64"
      ]
     },
     "execution_count": 123,
     "metadata": {},
     "output_type": "execute_result"
    }
   ],
   "source": [
    "ypred=ols_mod.predict(inpv1_c)\n",
    "ypred"
   ]
  },
  {
   "cell_type": "code",
   "execution_count": 124,
   "metadata": {},
   "outputs": [
    {
     "data": {
      "text/plain": [
       "0     -0.322416\n",
       "1     -1.668191\n",
       "2      0.013816\n",
       "3     -0.081288\n",
       "4     -0.263059\n",
       "         ...   \n",
       "649    0.780874\n",
       "650    0.108181\n",
       "651    0.433505\n",
       "652   -0.047711\n",
       "653   -0.051498\n",
       "Length: 654, dtype: float64"
      ]
     },
     "execution_count": 124,
     "metadata": {},
     "output_type": "execute_result"
    }
   ],
   "source": [
    "ols_mod.resid"
   ]
  },
  {
   "cell_type": "code",
   "execution_count": 125,
   "metadata": {},
   "outputs": [
    {
     "data": {
      "text/plain": [
       "0.2201356870933781"
      ]
     },
     "execution_count": 125,
     "metadata": {},
     "output_type": "execute_result"
    }
   ],
   "source": [
    "ols_mod.resid.skew()"
   ]
  },
  {
   "cell_type": "code",
   "execution_count": 126,
   "metadata": {},
   "outputs": [
    {
     "data": {
      "image/png": "[encoded data removed]",
      "text/plain": [
       "<Figure size 432x288 with 1 Axes>"
      ]
     },
     "metadata": {
      "needs_background": "light"
     },
     "output_type": "display_data"
    }
   ],
   "source": [
    "ols_mod.resid.plot(kind='density')\n",
    "plt.show()"
   ]
  },
  {
   "cell_type": "code",
   "execution_count": 127,
   "metadata": {},
   "outputs": [
    {
     "data": {
      "image/png": "[encoded data removed]",
      "text/plain": [
       "<Figure size 432x288 with 1 Axes>"
      ]
     },
     "metadata": {
      "needs_background": "light"
     },
     "output_type": "display_data"
    }
   ],
   "source": [
    "import scipy.stats as stats\n",
    "stats.probplot(ols_mod.resid,plot=plt)\n",
    "plt.show()"
   ]
  },
  {
   "cell_type": "code",
   "execution_count": 128,
   "metadata": {},
   "outputs": [
    {
     "data": {
      "text/plain": [
       "<matplotlib.axes._subplots.AxesSubplot at 0x2ab6d3981c8>"
      ]
     },
     "execution_count": 128,
     "metadata": {},
     "output_type": "execute_result"
    },
    {
     "data": {
      "image/png": "[encoded data removed]",
      "text/plain": [
       "<Figure size 432x288 with 1 Axes>"
      ]
     },
     "metadata": {
      "needs_background": "light"
     },
     "output_type": "display_data"
    }
   ],
   "source": [
    "sns.regplot(out,ypred)"
   ]
  },
  {
   "cell_type": "markdown",
   "metadata": {},
   "source": [
    "<a id=\"ml_perf\"> </a>\n",
    "## 6. Model Performance"
   ]
  },
  {
   "cell_type": "markdown",
   "metadata": {
    "collapsed": true
   },
   "source": [
    "<table align=\"left\">\n",
    "    <tr>\n",
    "        <td width=\"6%\">\n",
    "            <img src=\"question_icon.png\">\n",
    "        </td>\n",
    "        <td>\n",
    "            <div align=\"left\", style=\"font-size:120%\">\n",
    "                <font color=\"#21618C\">\n",
    "                    <b>18. Consider the full model. Calculate the mean square error and the root mean square error.</b>\n",
    "                </font>\n",
    "            </div>\n",
    "        </td>\n",
    "    </tr>\n",
    "</table>"
   ]
  },
  {
   "cell_type": "raw",
   "metadata": {},
   "source": [
    "# type your code here\n",
    "Full model is same as above so using those values"
   ]
  },
  {
   "cell_type": "code",
   "execution_count": 129,
   "metadata": {},
   "outputs": [
    {
     "data": {
      "text/plain": [
       "0.1810076849388907"
      ]
     },
     "execution_count": 129,
     "metadata": {},
     "output_type": "execute_result"
    }
   ],
   "source": [
    "mse = np.mean((out-ypred)**2) \n",
    "mse"
   ]
  },
  {
   "cell_type": "code",
   "execution_count": 130,
   "metadata": {},
   "outputs": [
    {
     "data": {
      "text/plain": [
       "0.4254499793617232"
      ]
     },
     "execution_count": 130,
     "metadata": {},
     "output_type": "execute_result"
    }
   ],
   "source": [
    "rmse=np.sqrt(mse)\n",
    "rmse"
   ]
  },
  {
   "cell_type": "code",
   "execution_count": null,
   "metadata": {},
   "outputs": [],
   "source": []
  },
  {
   "cell_type": "markdown",
   "metadata": {
    "collapsed": true
   },
   "source": [
    "<table align=\"left\">\n",
    "    <tr>\n",
    "        <td width=\"6%\">\n",
    "            <img src=\"question_icon.png\">\n",
    "        </td>\n",
    "        <td>\n",
    "            <div align=\"left\", style=\"font-size:120%\">\n",
    "                <font color=\"#21618C\">\n",
    "                    <b>19. Calculate the mean absolute error and the  mean absolute percentage error. Compare the values of RMSE and MAE. </b>\n",
    "                </font>\n",
    "            </div>\n",
    "        </td>\n",
    "    </tr>\n",
    "</table>"
   ]
  },
  {
   "cell_type": "raw",
   "metadata": {},
   "source": [
    "# type your code here\n",
    "\n",
    "MAE\n",
    "MAE Percent"
   ]
  },
  {
   "cell_type": "code",
   "execution_count": 131,
   "metadata": {},
   "outputs": [
    {
     "data": {
      "text/plain": [
       "0.32108454522760577"
      ]
     },
     "execution_count": 131,
     "metadata": {},
     "output_type": "execute_result"
    }
   ],
   "source": [
    "mae = np.mean(abs(out-ypred)) \n",
    "mae"
   ]
  },
  {
   "cell_type": "code",
   "execution_count": 132,
   "metadata": {},
   "outputs": [
    {
     "data": {
      "text/plain": [
       "0.12797446669789617"
      ]
     },
     "execution_count": 132,
     "metadata": {},
     "output_type": "execute_result"
    }
   ],
   "source": [
    "mae_percent= np.mean(abs((out-ypred)/out)) \n",
    "mae_percent"
   ]
  },
  {
   "cell_type": "code",
   "execution_count": 135,
   "metadata": {},
   "outputs": [
    {
     "data": {
      "text/plain": [
       "0.12797446669789617"
      ]
     },
     "execution_count": 135,
     "metadata": {},
     "output_type": "execute_result"
    }
   ],
   "source": [
    "np.mean(abs(out-ypred)/out)"
   ]
  },
  {
   "cell_type": "markdown",
   "metadata": {
    "collapsed": true
   },
   "source": [
    "<table align=\"left\">\n",
    "    <tr>\n",
    "        <td width=\"6%\">\n",
    "            <img src=\"question_icon.png\">\n",
    "        </td>\n",
    "        <td>\n",
    "            <div align=\"left\", style=\"font-size:120%\">\n",
    "                <font color=\"#21618C\">\n",
    "                    <b>20. Consider the full model, has the model overfitted? </b>\n",
    "                </font>\n",
    "            </div>\n",
    "        </td>\n",
    "    </tr>\n",
    "</table>"
   ]
  },
  {
   "cell_type": "code",
   "execution_count": 139,
   "metadata": {},
   "outputs": [
    {
     "data": {
      "text/plain": [
       "0      1.708\n",
       "1      1.724\n",
       "2      1.720\n",
       "3      1.558\n",
       "4      1.895\n",
       "       ...  \n",
       "649    4.270\n",
       "650    3.727\n",
       "651    2.853\n",
       "652    2.795\n",
       "653    3.211\n",
       "Name: FEV, Length: 654, dtype: float64"
      ]
     },
     "execution_count": 139,
     "metadata": {},
     "output_type": "execute_result"
    }
   ],
   "source": [
    "# type your code here\n",
    "\n",
    "out"
   ]
  },
  {
   "cell_type": "code",
   "execution_count": 141,
   "metadata": {},
   "outputs": [],
   "source": [
    "from sklearn.model_selection import train_test_split\n"
   ]
  },
  {
   "cell_type": "code",
   "execution_count": 144,
   "metadata": {},
   "outputs": [],
   "source": [
    "xtrain,xtest,ytrain,ytest = train_test_split(inp,out,test_size=0.3) \n",
    "\n",
    "xtrainc=sm.add_constant(xtrain) \n",
    "ols=sm.OLS(ytrain,xtrainc) \n",
    "ols_mod=ols.fit() \n",
    "ypred_train=ols_mod.predict(xtrainc) \n",
    "\n",
    "xtestc=sm.add_constant(xtest) \n",
    "ypred_test= ols_mod.predict(xtestc) \n",
    "rmse_train= np.sqrt(np.mean((ytrain - ypred_train)**2)) \n",
    "rmse_test= np.sqrt(np.mean((ytest - ypred_test)**2)) \n",
    "\n",
    "# deviation between rmse_train and rmse_test is more then my model is overfitted"
   ]
  },
  {
   "cell_type": "code",
   "execution_count": 145,
   "metadata": {},
   "outputs": [
    {
     "data": {
      "text/plain": [
       "(0.41033233561670635, 0.41686256097039925)"
      ]
     },
     "execution_count": 145,
     "metadata": {},
     "output_type": "execute_result"
    }
   ],
   "source": [
    "rmse_train,rmse_test"
   ]
  },
  {
   "cell_type": "code",
   "execution_count": 147,
   "metadata": {},
   "outputs": [
    {
     "data": {
      "text/plain": [
       "-0.006530225353692909"
      ]
     },
     "execution_count": 147,
     "metadata": {},
     "output_type": "execute_result"
    }
   ],
   "source": [
    "rmse_train-rmse_test"
   ]
  },
  {
   "cell_type": "raw",
   "metadata": {},
   "source": [
    "No big deviations so we can say that model is fitted properly"
   ]
  }
 ],
 "metadata": {
  "kernelspec": {
   "display_name": "Python 3",
   "language": "python",
   "name": "python3"
  },
  "language_info": {
   "codemirror_mode": {
    "name": "ipython",
    "version": 3
   },
   "file_extension": ".py",
   "mimetype": "text/x-python",
   "name": "python",
   "nbconvert_exporter": "python",
   "pygments_lexer": "ipython3",
   "version": "3.7.6"
  }
 },
 "nbformat": 4,
 "nbformat_minor": 2
}
